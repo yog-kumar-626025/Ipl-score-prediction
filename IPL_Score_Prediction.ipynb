{
  "cells": [
    {
      "cell_type": "code",
      "source": [
        "!pip install optuna"
      ],
      "metadata": {
        "id": "47d8os735ahO",
        "outputId": "70d6da3c-f81e-4c4f-b924-e5349c1f0904",
        "colab": {
          "base_uri": "https://localhost:8080/"
        }
      },
      "execution_count": 1,
      "outputs": [
        {
          "output_type": "stream",
          "name": "stdout",
          "text": [
            "Looking in indexes: https://pypi.org/simple, https://us-python.pkg.dev/colab-wheels/public/simple/\n",
            "Collecting optuna\n",
            "  Downloading optuna-3.1.0-py3-none-any.whl (365 kB)\n",
            "\u001b[2K     \u001b[90m━━━━━━━━━━━━━━━━━━━━━━━━━━━━━━━━━━━━━━━\u001b[0m \u001b[32m365.3/365.3 KB\u001b[0m \u001b[31m7.6 MB/s\u001b[0m eta \u001b[36m0:00:00\u001b[0m\n",
            "\u001b[?25hCollecting alembic>=1.5.0\n",
            "  Downloading alembic-1.9.4-py3-none-any.whl (210 kB)\n",
            "\u001b[2K     \u001b[90m━━━━━━━━━━━━━━━━━━━━━━━━━━━━━━━━━━━━━━\u001b[0m \u001b[32m210.5/210.5 KB\u001b[0m \u001b[31m22.1 MB/s\u001b[0m eta \u001b[36m0:00:00\u001b[0m\n",
            "\u001b[?25hRequirement already satisfied: tqdm in /usr/local/lib/python3.8/dist-packages (from optuna) (4.64.1)\n",
            "Requirement already satisfied: packaging>=20.0 in /usr/local/lib/python3.8/dist-packages (from optuna) (23.0)\n",
            "Collecting colorlog\n",
            "  Downloading colorlog-6.7.0-py2.py3-none-any.whl (11 kB)\n",
            "Requirement already satisfied: numpy in /usr/local/lib/python3.8/dist-packages (from optuna) (1.21.6)\n",
            "Requirement already satisfied: sqlalchemy>=1.3.0 in /usr/local/lib/python3.8/dist-packages (from optuna) (1.4.46)\n",
            "Collecting cmaes>=0.9.1\n",
            "  Downloading cmaes-0.9.1-py3-none-any.whl (21 kB)\n",
            "Requirement already satisfied: PyYAML in /usr/local/lib/python3.8/dist-packages (from optuna) (6.0)\n",
            "Requirement already satisfied: importlib-metadata in /usr/local/lib/python3.8/dist-packages (from alembic>=1.5.0->optuna) (6.0.0)\n",
            "Requirement already satisfied: importlib-resources in /usr/local/lib/python3.8/dist-packages (from alembic>=1.5.0->optuna) (5.10.2)\n",
            "Collecting Mako\n",
            "  Downloading Mako-1.2.4-py3-none-any.whl (78 kB)\n",
            "\u001b[2K     \u001b[90m━━━━━━━━━━━━━━━━━━━━━━━━━━━━━━━━━━━━━━━━\u001b[0m \u001b[32m78.7/78.7 KB\u001b[0m \u001b[31m9.0 MB/s\u001b[0m eta \u001b[36m0:00:00\u001b[0m\n",
            "\u001b[?25hRequirement already satisfied: greenlet!=0.4.17 in /usr/local/lib/python3.8/dist-packages (from sqlalchemy>=1.3.0->optuna) (2.0.2)\n",
            "Requirement already satisfied: zipp>=0.5 in /usr/local/lib/python3.8/dist-packages (from importlib-metadata->alembic>=1.5.0->optuna) (3.13.0)\n",
            "Requirement already satisfied: MarkupSafe>=0.9.2 in /usr/local/lib/python3.8/dist-packages (from Mako->alembic>=1.5.0->optuna) (2.0.1)\n",
            "Installing collected packages: Mako, colorlog, cmaes, alembic, optuna\n",
            "Successfully installed Mako-1.2.4 alembic-1.9.4 cmaes-0.9.1 colorlog-6.7.0 optuna-3.1.0\n"
          ]
        }
      ]
    },
    {
      "cell_type": "markdown",
      "metadata": {
        "id": "tONmFOVLNFSU"
      },
      "source": [
        " # **IPL SCORE PREDICTION**\n"
      ]
    },
    {
      "cell_type": "markdown",
      "metadata": {
        "id": "EADKkgok5CWZ"
      },
      "source": [
        "# Import the Libraries"
      ]
    },
    {
      "cell_type": "code",
      "execution_count": 2,
      "metadata": {
        "id": "iwFHzLSJMnWB"
      },
      "outputs": [],
      "source": [
        "#Import necessary libraries\n",
        "import pandas as pd\n",
        "import numpy as np\n",
        "import optuna\n",
        "import seaborn as sns\n",
        "import matplotlib.pyplot as plt "
      ]
    },
    {
      "cell_type": "markdown",
      "metadata": {
        "id": "_y_GfJ6G5CWa"
      },
      "source": [
        "# Load the Dataset"
      ]
    },
    {
      "cell_type": "code",
      "execution_count": 3,
      "metadata": {
        "colab": {
          "base_uri": "https://localhost:8080/",
          "height": 206
        },
        "id": "lK5N-VHqNT0g",
        "outputId": "c9491d24-8fc1-48c5-c97c-96484ab98ea1"
      },
      "outputs": [
        {
          "output_type": "execute_result",
          "data": {
            "text/plain": [
              "   mid        date                  venue               bat_team  \\\n",
              "0    1  2008-04-18  M Chinnaswamy Stadium  Kolkata Knight Riders   \n",
              "1    1  2008-04-18  M Chinnaswamy Stadium  Kolkata Knight Riders   \n",
              "2    1  2008-04-18  M Chinnaswamy Stadium  Kolkata Knight Riders   \n",
              "3    1  2008-04-18  M Chinnaswamy Stadium  Kolkata Knight Riders   \n",
              "4    1  2008-04-18  M Chinnaswamy Stadium  Kolkata Knight Riders   \n",
              "\n",
              "                     bowl_team      batsman   bowler  runs  wickets  overs  \\\n",
              "0  Royal Challengers Bangalore   SC Ganguly  P Kumar     1        0    0.1   \n",
              "1  Royal Challengers Bangalore  BB McCullum  P Kumar     1        0    0.2   \n",
              "2  Royal Challengers Bangalore  BB McCullum  P Kumar     2        0    0.2   \n",
              "3  Royal Challengers Bangalore  BB McCullum  P Kumar     2        0    0.3   \n",
              "4  Royal Challengers Bangalore  BB McCullum  P Kumar     2        0    0.4   \n",
              "\n",
              "   runs_last_5  wickets_last_5  striker  non-striker  total  \n",
              "0            1               0        0            0    222  \n",
              "1            1               0        0            0    222  \n",
              "2            2               0        0            0    222  \n",
              "3            2               0        0            0    222  \n",
              "4            2               0        0            0    222  "
            ],
            "text/html": [
              "\n",
              "  <div id=\"df-e2f5ebad-7fa8-4d38-8e82-d80a9fe8b3f4\">\n",
              "    <div class=\"colab-df-container\">\n",
              "      <div>\n",
              "<style scoped>\n",
              "    .dataframe tbody tr th:only-of-type {\n",
              "        vertical-align: middle;\n",
              "    }\n",
              "\n",
              "    .dataframe tbody tr th {\n",
              "        vertical-align: top;\n",
              "    }\n",
              "\n",
              "    .dataframe thead th {\n",
              "        text-align: right;\n",
              "    }\n",
              "</style>\n",
              "<table border=\"1\" class=\"dataframe\">\n",
              "  <thead>\n",
              "    <tr style=\"text-align: right;\">\n",
              "      <th></th>\n",
              "      <th>mid</th>\n",
              "      <th>date</th>\n",
              "      <th>venue</th>\n",
              "      <th>bat_team</th>\n",
              "      <th>bowl_team</th>\n",
              "      <th>batsman</th>\n",
              "      <th>bowler</th>\n",
              "      <th>runs</th>\n",
              "      <th>wickets</th>\n",
              "      <th>overs</th>\n",
              "      <th>runs_last_5</th>\n",
              "      <th>wickets_last_5</th>\n",
              "      <th>striker</th>\n",
              "      <th>non-striker</th>\n",
              "      <th>total</th>\n",
              "    </tr>\n",
              "  </thead>\n",
              "  <tbody>\n",
              "    <tr>\n",
              "      <th>0</th>\n",
              "      <td>1</td>\n",
              "      <td>2008-04-18</td>\n",
              "      <td>M Chinnaswamy Stadium</td>\n",
              "      <td>Kolkata Knight Riders</td>\n",
              "      <td>Royal Challengers Bangalore</td>\n",
              "      <td>SC Ganguly</td>\n",
              "      <td>P Kumar</td>\n",
              "      <td>1</td>\n",
              "      <td>0</td>\n",
              "      <td>0.1</td>\n",
              "      <td>1</td>\n",
              "      <td>0</td>\n",
              "      <td>0</td>\n",
              "      <td>0</td>\n",
              "      <td>222</td>\n",
              "    </tr>\n",
              "    <tr>\n",
              "      <th>1</th>\n",
              "      <td>1</td>\n",
              "      <td>2008-04-18</td>\n",
              "      <td>M Chinnaswamy Stadium</td>\n",
              "      <td>Kolkata Knight Riders</td>\n",
              "      <td>Royal Challengers Bangalore</td>\n",
              "      <td>BB McCullum</td>\n",
              "      <td>P Kumar</td>\n",
              "      <td>1</td>\n",
              "      <td>0</td>\n",
              "      <td>0.2</td>\n",
              "      <td>1</td>\n",
              "      <td>0</td>\n",
              "      <td>0</td>\n",
              "      <td>0</td>\n",
              "      <td>222</td>\n",
              "    </tr>\n",
              "    <tr>\n",
              "      <th>2</th>\n",
              "      <td>1</td>\n",
              "      <td>2008-04-18</td>\n",
              "      <td>M Chinnaswamy Stadium</td>\n",
              "      <td>Kolkata Knight Riders</td>\n",
              "      <td>Royal Challengers Bangalore</td>\n",
              "      <td>BB McCullum</td>\n",
              "      <td>P Kumar</td>\n",
              "      <td>2</td>\n",
              "      <td>0</td>\n",
              "      <td>0.2</td>\n",
              "      <td>2</td>\n",
              "      <td>0</td>\n",
              "      <td>0</td>\n",
              "      <td>0</td>\n",
              "      <td>222</td>\n",
              "    </tr>\n",
              "    <tr>\n",
              "      <th>3</th>\n",
              "      <td>1</td>\n",
              "      <td>2008-04-18</td>\n",
              "      <td>M Chinnaswamy Stadium</td>\n",
              "      <td>Kolkata Knight Riders</td>\n",
              "      <td>Royal Challengers Bangalore</td>\n",
              "      <td>BB McCullum</td>\n",
              "      <td>P Kumar</td>\n",
              "      <td>2</td>\n",
              "      <td>0</td>\n",
              "      <td>0.3</td>\n",
              "      <td>2</td>\n",
              "      <td>0</td>\n",
              "      <td>0</td>\n",
              "      <td>0</td>\n",
              "      <td>222</td>\n",
              "    </tr>\n",
              "    <tr>\n",
              "      <th>4</th>\n",
              "      <td>1</td>\n",
              "      <td>2008-04-18</td>\n",
              "      <td>M Chinnaswamy Stadium</td>\n",
              "      <td>Kolkata Knight Riders</td>\n",
              "      <td>Royal Challengers Bangalore</td>\n",
              "      <td>BB McCullum</td>\n",
              "      <td>P Kumar</td>\n",
              "      <td>2</td>\n",
              "      <td>0</td>\n",
              "      <td>0.4</td>\n",
              "      <td>2</td>\n",
              "      <td>0</td>\n",
              "      <td>0</td>\n",
              "      <td>0</td>\n",
              "      <td>222</td>\n",
              "    </tr>\n",
              "  </tbody>\n",
              "</table>\n",
              "</div>\n",
              "      <button class=\"colab-df-convert\" onclick=\"convertToInteractive('df-e2f5ebad-7fa8-4d38-8e82-d80a9fe8b3f4')\"\n",
              "              title=\"Convert this dataframe to an interactive table.\"\n",
              "              style=\"display:none;\">\n",
              "        \n",
              "  <svg xmlns=\"http://www.w3.org/2000/svg\" height=\"24px\"viewBox=\"0 0 24 24\"\n",
              "       width=\"24px\">\n",
              "    <path d=\"M0 0h24v24H0V0z\" fill=\"none\"/>\n",
              "    <path d=\"M18.56 5.44l.94 2.06.94-2.06 2.06-.94-2.06-.94-.94-2.06-.94 2.06-2.06.94zm-11 1L8.5 8.5l.94-2.06 2.06-.94-2.06-.94L8.5 2.5l-.94 2.06-2.06.94zm10 10l.94 2.06.94-2.06 2.06-.94-2.06-.94-.94-2.06-.94 2.06-2.06.94z\"/><path d=\"M17.41 7.96l-1.37-1.37c-.4-.4-.92-.59-1.43-.59-.52 0-1.04.2-1.43.59L10.3 9.45l-7.72 7.72c-.78.78-.78 2.05 0 2.83L4 21.41c.39.39.9.59 1.41.59.51 0 1.02-.2 1.41-.59l7.78-7.78 2.81-2.81c.8-.78.8-2.07 0-2.86zM5.41 20L4 18.59l7.72-7.72 1.47 1.35L5.41 20z\"/>\n",
              "  </svg>\n",
              "      </button>\n",
              "      \n",
              "  <style>\n",
              "    .colab-df-container {\n",
              "      display:flex;\n",
              "      flex-wrap:wrap;\n",
              "      gap: 12px;\n",
              "    }\n",
              "\n",
              "    .colab-df-convert {\n",
              "      background-color: #E8F0FE;\n",
              "      border: none;\n",
              "      border-radius: 50%;\n",
              "      cursor: pointer;\n",
              "      display: none;\n",
              "      fill: #1967D2;\n",
              "      height: 32px;\n",
              "      padding: 0 0 0 0;\n",
              "      width: 32px;\n",
              "    }\n",
              "\n",
              "    .colab-df-convert:hover {\n",
              "      background-color: #E2EBFA;\n",
              "      box-shadow: 0px 1px 2px rgba(60, 64, 67, 0.3), 0px 1px 3px 1px rgba(60, 64, 67, 0.15);\n",
              "      fill: #174EA6;\n",
              "    }\n",
              "\n",
              "    [theme=dark] .colab-df-convert {\n",
              "      background-color: #3B4455;\n",
              "      fill: #D2E3FC;\n",
              "    }\n",
              "\n",
              "    [theme=dark] .colab-df-convert:hover {\n",
              "      background-color: #434B5C;\n",
              "      box-shadow: 0px 1px 3px 1px rgba(0, 0, 0, 0.15);\n",
              "      filter: drop-shadow(0px 1px 2px rgba(0, 0, 0, 0.3));\n",
              "      fill: #FFFFFF;\n",
              "    }\n",
              "  </style>\n",
              "\n",
              "      <script>\n",
              "        const buttonEl =\n",
              "          document.querySelector('#df-e2f5ebad-7fa8-4d38-8e82-d80a9fe8b3f4 button.colab-df-convert');\n",
              "        buttonEl.style.display =\n",
              "          google.colab.kernel.accessAllowed ? 'block' : 'none';\n",
              "\n",
              "        async function convertToInteractive(key) {\n",
              "          const element = document.querySelector('#df-e2f5ebad-7fa8-4d38-8e82-d80a9fe8b3f4');\n",
              "          const dataTable =\n",
              "            await google.colab.kernel.invokeFunction('convertToInteractive',\n",
              "                                                     [key], {});\n",
              "          if (!dataTable) return;\n",
              "\n",
              "          const docLinkHtml = 'Like what you see? Visit the ' +\n",
              "            '<a target=\"_blank\" href=https://colab.research.google.com/notebooks/data_table.ipynb>data table notebook</a>'\n",
              "            + ' to learn more about interactive tables.';\n",
              "          element.innerHTML = '';\n",
              "          dataTable['output_type'] = 'display_data';\n",
              "          await google.colab.output.renderOutput(dataTable, element);\n",
              "          const docLink = document.createElement('div');\n",
              "          docLink.innerHTML = docLinkHtml;\n",
              "          element.appendChild(docLink);\n",
              "        }\n",
              "      </script>\n",
              "    </div>\n",
              "  </div>\n",
              "  "
            ]
          },
          "metadata": {},
          "execution_count": 3
        }
      ],
      "source": [
        "# Loading the dataset\n",
        "ipl_df = pd.read_csv(\"https://github.com/zep-analytics/IPLScorePredictor/blob/main/ipl_data.csv?raw=true\")\n",
        "ipl_df.head()"
      ]
    },
    {
      "cell_type": "code",
      "execution_count": 4,
      "metadata": {
        "colab": {
          "base_uri": "https://localhost:8080/"
        },
        "id": "JIayjAgTNl2E",
        "outputId": "b967740a-df68-4331-9126-555485323456"
      },
      "outputs": [
        {
          "output_type": "stream",
          "name": "stdout",
          "text": [
            "<class 'pandas.core.frame.DataFrame'>\n",
            "RangeIndex: 76014 entries, 0 to 76013\n",
            "Data columns (total 15 columns):\n",
            " #   Column          Non-Null Count  Dtype  \n",
            "---  ------          --------------  -----  \n",
            " 0   mid             76014 non-null  int64  \n",
            " 1   date            76014 non-null  object \n",
            " 2   venue           76014 non-null  object \n",
            " 3   bat_team        76014 non-null  object \n",
            " 4   bowl_team       76014 non-null  object \n",
            " 5   batsman         76014 non-null  object \n",
            " 6   bowler          76014 non-null  object \n",
            " 7   runs            76014 non-null  int64  \n",
            " 8   wickets         76014 non-null  int64  \n",
            " 9   overs           76014 non-null  float64\n",
            " 10  runs_last_5     76014 non-null  int64  \n",
            " 11  wickets_last_5  76014 non-null  int64  \n",
            " 12  striker         76014 non-null  int64  \n",
            " 13  non-striker     76014 non-null  int64  \n",
            " 14  total           76014 non-null  int64  \n",
            "dtypes: float64(1), int64(8), object(6)\n",
            "memory usage: 8.7+ MB\n"
          ]
        }
      ],
      "source": [
        "ipl_df.info()"
      ]
    },
    {
      "cell_type": "markdown",
      "metadata": {
        "id": "h-vDrwkVN5sU"
      },
      "source": [
        "# Data Pre-processing\n"
      ]
    },
    {
      "cell_type": "markdown",
      "metadata": {
        "id": "D4vrBWQ05CWb"
      },
      "source": [
        "1. Check for Null Values"
      ]
    },
    {
      "cell_type": "code",
      "execution_count": 5,
      "metadata": {
        "colab": {
          "base_uri": "https://localhost:8080/"
        },
        "id": "whyz2_hjOCTO",
        "outputId": "d5ed23dd-3f13-41ea-d98a-32ecd74f2bae"
      },
      "outputs": [
        {
          "output_type": "execute_result",
          "data": {
            "text/plain": [
              "mid               0\n",
              "date              0\n",
              "venue             0\n",
              "bat_team          0\n",
              "bowl_team         0\n",
              "batsman           0\n",
              "bowler            0\n",
              "runs              0\n",
              "wickets           0\n",
              "overs             0\n",
              "runs_last_5       0\n",
              "wickets_last_5    0\n",
              "striker           0\n",
              "non-striker       0\n",
              "total             0\n",
              "dtype: int64"
            ]
          },
          "metadata": {},
          "execution_count": 5
        }
      ],
      "source": [
        "# Check for Null Values\n",
        "ipl_df.isnull().sum()"
      ]
    },
    {
      "cell_type": "markdown",
      "metadata": {
        "id": "XyD68JUc5CWc"
      },
      "source": [
        "2. Convert Date type from String to date"
      ]
    },
    {
      "cell_type": "code",
      "execution_count": 6,
      "metadata": {
        "id": "W-x9IbgzfT9B"
      },
      "outputs": [],
      "source": [
        "#Convert Date type from string to date\n",
        "ipl_df['date'] = pd.to_datetime(ipl_df['date'])"
      ]
    },
    {
      "cell_type": "code",
      "execution_count": 7,
      "metadata": {
        "colab": {
          "base_uri": "https://localhost:8080/"
        },
        "id": "wUR4v0EYOIh2",
        "outputId": "02e5b6a1-8af6-4d1a-d11d-1221d274d0f2"
      },
      "outputs": [
        {
          "output_type": "execute_result",
          "data": {
            "text/plain": [
              "(76014, 15)"
            ]
          },
          "metadata": {},
          "execution_count": 7
        }
      ],
      "source": [
        "ipl_df.shape"
      ]
    },
    {
      "cell_type": "markdown",
      "metadata": {
        "id": "LobsdlGA5CWd"
      },
      "source": [
        "3. Drop Unnecessary Columns\n",
        "\n",
        "As mid, striker, non-striker, batsman , bowler and venue are not needed for Score Prediction"
      ]
    },
    {
      "cell_type": "code",
      "execution_count": 8,
      "metadata": {
        "colab": {
          "base_uri": "https://localhost:8080/",
          "height": 206
        },
        "id": "ltK7EZogOMwq",
        "outputId": "75770d00-4a29-4ca9-8194-63fe9647a877"
      },
      "outputs": [
        {
          "output_type": "execute_result",
          "data": {
            "text/plain": [
              "        date               bat_team                    bowl_team  runs  \\\n",
              "0 2008-04-18  Kolkata Knight Riders  Royal Challengers Bangalore     1   \n",
              "1 2008-04-18  Kolkata Knight Riders  Royal Challengers Bangalore     1   \n",
              "2 2008-04-18  Kolkata Knight Riders  Royal Challengers Bangalore     2   \n",
              "3 2008-04-18  Kolkata Knight Riders  Royal Challengers Bangalore     2   \n",
              "4 2008-04-18  Kolkata Knight Riders  Royal Challengers Bangalore     2   \n",
              "\n",
              "   wickets  overs  runs_last_5  wickets_last_5  total  \n",
              "0        0    0.1            1               0    222  \n",
              "1        0    0.2            1               0    222  \n",
              "2        0    0.2            2               0    222  \n",
              "3        0    0.3            2               0    222  \n",
              "4        0    0.4            2               0    222  "
            ],
            "text/html": [
              "\n",
              "  <div id=\"df-4281d553-bd94-4e1b-bbba-06152041aeee\">\n",
              "    <div class=\"colab-df-container\">\n",
              "      <div>\n",
              "<style scoped>\n",
              "    .dataframe tbody tr th:only-of-type {\n",
              "        vertical-align: middle;\n",
              "    }\n",
              "\n",
              "    .dataframe tbody tr th {\n",
              "        vertical-align: top;\n",
              "    }\n",
              "\n",
              "    .dataframe thead th {\n",
              "        text-align: right;\n",
              "    }\n",
              "</style>\n",
              "<table border=\"1\" class=\"dataframe\">\n",
              "  <thead>\n",
              "    <tr style=\"text-align: right;\">\n",
              "      <th></th>\n",
              "      <th>date</th>\n",
              "      <th>bat_team</th>\n",
              "      <th>bowl_team</th>\n",
              "      <th>runs</th>\n",
              "      <th>wickets</th>\n",
              "      <th>overs</th>\n",
              "      <th>runs_last_5</th>\n",
              "      <th>wickets_last_5</th>\n",
              "      <th>total</th>\n",
              "    </tr>\n",
              "  </thead>\n",
              "  <tbody>\n",
              "    <tr>\n",
              "      <th>0</th>\n",
              "      <td>2008-04-18</td>\n",
              "      <td>Kolkata Knight Riders</td>\n",
              "      <td>Royal Challengers Bangalore</td>\n",
              "      <td>1</td>\n",
              "      <td>0</td>\n",
              "      <td>0.1</td>\n",
              "      <td>1</td>\n",
              "      <td>0</td>\n",
              "      <td>222</td>\n",
              "    </tr>\n",
              "    <tr>\n",
              "      <th>1</th>\n",
              "      <td>2008-04-18</td>\n",
              "      <td>Kolkata Knight Riders</td>\n",
              "      <td>Royal Challengers Bangalore</td>\n",
              "      <td>1</td>\n",
              "      <td>0</td>\n",
              "      <td>0.2</td>\n",
              "      <td>1</td>\n",
              "      <td>0</td>\n",
              "      <td>222</td>\n",
              "    </tr>\n",
              "    <tr>\n",
              "      <th>2</th>\n",
              "      <td>2008-04-18</td>\n",
              "      <td>Kolkata Knight Riders</td>\n",
              "      <td>Royal Challengers Bangalore</td>\n",
              "      <td>2</td>\n",
              "      <td>0</td>\n",
              "      <td>0.2</td>\n",
              "      <td>2</td>\n",
              "      <td>0</td>\n",
              "      <td>222</td>\n",
              "    </tr>\n",
              "    <tr>\n",
              "      <th>3</th>\n",
              "      <td>2008-04-18</td>\n",
              "      <td>Kolkata Knight Riders</td>\n",
              "      <td>Royal Challengers Bangalore</td>\n",
              "      <td>2</td>\n",
              "      <td>0</td>\n",
              "      <td>0.3</td>\n",
              "      <td>2</td>\n",
              "      <td>0</td>\n",
              "      <td>222</td>\n",
              "    </tr>\n",
              "    <tr>\n",
              "      <th>4</th>\n",
              "      <td>2008-04-18</td>\n",
              "      <td>Kolkata Knight Riders</td>\n",
              "      <td>Royal Challengers Bangalore</td>\n",
              "      <td>2</td>\n",
              "      <td>0</td>\n",
              "      <td>0.4</td>\n",
              "      <td>2</td>\n",
              "      <td>0</td>\n",
              "      <td>222</td>\n",
              "    </tr>\n",
              "  </tbody>\n",
              "</table>\n",
              "</div>\n",
              "      <button class=\"colab-df-convert\" onclick=\"convertToInteractive('df-4281d553-bd94-4e1b-bbba-06152041aeee')\"\n",
              "              title=\"Convert this dataframe to an interactive table.\"\n",
              "              style=\"display:none;\">\n",
              "        \n",
              "  <svg xmlns=\"http://www.w3.org/2000/svg\" height=\"24px\"viewBox=\"0 0 24 24\"\n",
              "       width=\"24px\">\n",
              "    <path d=\"M0 0h24v24H0V0z\" fill=\"none\"/>\n",
              "    <path d=\"M18.56 5.44l.94 2.06.94-2.06 2.06-.94-2.06-.94-.94-2.06-.94 2.06-2.06.94zm-11 1L8.5 8.5l.94-2.06 2.06-.94-2.06-.94L8.5 2.5l-.94 2.06-2.06.94zm10 10l.94 2.06.94-2.06 2.06-.94-2.06-.94-.94-2.06-.94 2.06-2.06.94z\"/><path d=\"M17.41 7.96l-1.37-1.37c-.4-.4-.92-.59-1.43-.59-.52 0-1.04.2-1.43.59L10.3 9.45l-7.72 7.72c-.78.78-.78 2.05 0 2.83L4 21.41c.39.39.9.59 1.41.59.51 0 1.02-.2 1.41-.59l7.78-7.78 2.81-2.81c.8-.78.8-2.07 0-2.86zM5.41 20L4 18.59l7.72-7.72 1.47 1.35L5.41 20z\"/>\n",
              "  </svg>\n",
              "      </button>\n",
              "      \n",
              "  <style>\n",
              "    .colab-df-container {\n",
              "      display:flex;\n",
              "      flex-wrap:wrap;\n",
              "      gap: 12px;\n",
              "    }\n",
              "\n",
              "    .colab-df-convert {\n",
              "      background-color: #E8F0FE;\n",
              "      border: none;\n",
              "      border-radius: 50%;\n",
              "      cursor: pointer;\n",
              "      display: none;\n",
              "      fill: #1967D2;\n",
              "      height: 32px;\n",
              "      padding: 0 0 0 0;\n",
              "      width: 32px;\n",
              "    }\n",
              "\n",
              "    .colab-df-convert:hover {\n",
              "      background-color: #E2EBFA;\n",
              "      box-shadow: 0px 1px 2px rgba(60, 64, 67, 0.3), 0px 1px 3px 1px rgba(60, 64, 67, 0.15);\n",
              "      fill: #174EA6;\n",
              "    }\n",
              "\n",
              "    [theme=dark] .colab-df-convert {\n",
              "      background-color: #3B4455;\n",
              "      fill: #D2E3FC;\n",
              "    }\n",
              "\n",
              "    [theme=dark] .colab-df-convert:hover {\n",
              "      background-color: #434B5C;\n",
              "      box-shadow: 0px 1px 3px 1px rgba(0, 0, 0, 0.15);\n",
              "      filter: drop-shadow(0px 1px 2px rgba(0, 0, 0, 0.3));\n",
              "      fill: #FFFFFF;\n",
              "    }\n",
              "  </style>\n",
              "\n",
              "      <script>\n",
              "        const buttonEl =\n",
              "          document.querySelector('#df-4281d553-bd94-4e1b-bbba-06152041aeee button.colab-df-convert');\n",
              "        buttonEl.style.display =\n",
              "          google.colab.kernel.accessAllowed ? 'block' : 'none';\n",
              "\n",
              "        async function convertToInteractive(key) {\n",
              "          const element = document.querySelector('#df-4281d553-bd94-4e1b-bbba-06152041aeee');\n",
              "          const dataTable =\n",
              "            await google.colab.kernel.invokeFunction('convertToInteractive',\n",
              "                                                     [key], {});\n",
              "          if (!dataTable) return;\n",
              "\n",
              "          const docLinkHtml = 'Like what you see? Visit the ' +\n",
              "            '<a target=\"_blank\" href=https://colab.research.google.com/notebooks/data_table.ipynb>data table notebook</a>'\n",
              "            + ' to learn more about interactive tables.';\n",
              "          element.innerHTML = '';\n",
              "          dataTable['output_type'] = 'display_data';\n",
              "          await google.colab.output.renderOutput(dataTable, element);\n",
              "          const docLink = document.createElement('div');\n",
              "          docLink.innerHTML = docLinkHtml;\n",
              "          element.appendChild(docLink);\n",
              "        }\n",
              "      </script>\n",
              "    </div>\n",
              "  </div>\n",
              "  "
            ]
          },
          "metadata": {},
          "execution_count": 8
        }
      ],
      "source": [
        "# Drop the unecessary columns: mid, striker, non striker, venue, batsman, bowler\n",
        "columns_to_drop = ['mid', 'striker', 'non-striker','batsman', 'bowler', 'venue']\n",
        "ipl_df.drop(columns_to_drop, axis = 1, inplace = True)\n",
        "ipl_df.head()"
      ]
    },
    {
      "cell_type": "markdown",
      "metadata": {
        "id": "xdq1-xlU5CWd"
      },
      "source": [
        "4. Get Details of Current Team"
      ]
    },
    {
      "cell_type": "code",
      "execution_count": 9,
      "metadata": {
        "colab": {
          "base_uri": "https://localhost:8080/"
        },
        "id": "mdIbZXmbOSCF",
        "outputId": "88ab725f-ded8-4899-c636-84e03361d737"
      },
      "outputs": [
        {
          "output_type": "execute_result",
          "data": {
            "text/plain": [
              "['Kolkata Knight Riders',\n",
              " 'Chennai Super Kings',\n",
              " 'Rajasthan Royals',\n",
              " 'Mumbai Indians',\n",
              " 'Deccan Chargers',\n",
              " 'Kings XI Punjab',\n",
              " 'Royal Challengers Bangalore',\n",
              " 'Delhi Daredevils',\n",
              " 'Kochi Tuskers Kerala',\n",
              " 'Pune Warriors',\n",
              " 'Sunrisers Hyderabad',\n",
              " 'Rising Pune Supergiants',\n",
              " 'Gujarat Lions',\n",
              " 'Rising Pune Supergiant']"
            ]
          },
          "metadata": {},
          "execution_count": 9
        }
      ],
      "source": [
        "# Get the teams\n",
        "list(ipl_df['bat_team'].unique())"
      ]
    },
    {
      "cell_type": "markdown",
      "metadata": {
        "id": "OmSKOCvg5CWe"
      },
      "source": [
        "Teams 'Deccan Chargers', 'Kochi Tuskers Kerala', 'Gujarat Lions', 'Kochi Tuskers Kerala', 'Rising Pune Supergiant', 'Pune Warriors', 'Rising Pune Supergiants' are currenty either plays with different name or doesnt, so we just remove them and their data"
      ]
    },
    {
      "cell_type": "code",
      "execution_count": 10,
      "metadata": {
        "id": "SwJRNDg5OWuI"
      },
      "outputs": [],
      "source": [
        "# Remove old teams\n",
        "team_list = list(ipl_df['bat_team'].unique())\n",
        "old_teams = ['Deccan Chargers', 'Kochi Tuskers Kerala', 'Gujarat Lions', 'Kochi Tuskers Kerala', 'Rising Pune Supergiant', 'Pune Warriors', 'Rising Pune Supergiants']\n"
      ]
    },
    {
      "cell_type": "code",
      "execution_count": 11,
      "metadata": {
        "id": "TfAMsaPJc_xV"
      },
      "outputs": [],
      "source": [
        "#Get only current team and its data\n",
        "current_teams = [teams for teams in team_list if teams not in old_teams] \n",
        "\n",
        "# Use the rows which have current_teams\n",
        "ipl_df = ipl_df[ipl_df['bat_team'].isin(current_teams) & ipl_df['bowl_team'].isin(current_teams)]"
      ]
    },
    {
      "cell_type": "code",
      "execution_count": 12,
      "metadata": {
        "colab": {
          "base_uri": "https://localhost:8080/",
          "height": 206
        },
        "id": "ja57-vuWOlml",
        "outputId": "9e1b6b40-7e35-4fb5-a730-d9ef4e267994"
      },
      "outputs": [
        {
          "output_type": "execute_result",
          "data": {
            "text/plain": [
              "        date               bat_team                    bowl_team  runs  \\\n",
              "0 2008-04-18  Kolkata Knight Riders  Royal Challengers Bangalore     1   \n",
              "1 2008-04-18  Kolkata Knight Riders  Royal Challengers Bangalore     1   \n",
              "2 2008-04-18  Kolkata Knight Riders  Royal Challengers Bangalore     2   \n",
              "3 2008-04-18  Kolkata Knight Riders  Royal Challengers Bangalore     2   \n",
              "4 2008-04-18  Kolkata Knight Riders  Royal Challengers Bangalore     2   \n",
              "\n",
              "   wickets  overs  runs_last_5  wickets_last_5  total  \n",
              "0        0    0.1            1               0    222  \n",
              "1        0    0.2            1               0    222  \n",
              "2        0    0.2            2               0    222  \n",
              "3        0    0.3            2               0    222  \n",
              "4        0    0.4            2               0    222  "
            ],
            "text/html": [
              "\n",
              "  <div id=\"df-3818055c-95e7-4073-a42f-d1feba0f7c7b\">\n",
              "    <div class=\"colab-df-container\">\n",
              "      <div>\n",
              "<style scoped>\n",
              "    .dataframe tbody tr th:only-of-type {\n",
              "        vertical-align: middle;\n",
              "    }\n",
              "\n",
              "    .dataframe tbody tr th {\n",
              "        vertical-align: top;\n",
              "    }\n",
              "\n",
              "    .dataframe thead th {\n",
              "        text-align: right;\n",
              "    }\n",
              "</style>\n",
              "<table border=\"1\" class=\"dataframe\">\n",
              "  <thead>\n",
              "    <tr style=\"text-align: right;\">\n",
              "      <th></th>\n",
              "      <th>date</th>\n",
              "      <th>bat_team</th>\n",
              "      <th>bowl_team</th>\n",
              "      <th>runs</th>\n",
              "      <th>wickets</th>\n",
              "      <th>overs</th>\n",
              "      <th>runs_last_5</th>\n",
              "      <th>wickets_last_5</th>\n",
              "      <th>total</th>\n",
              "    </tr>\n",
              "  </thead>\n",
              "  <tbody>\n",
              "    <tr>\n",
              "      <th>0</th>\n",
              "      <td>2008-04-18</td>\n",
              "      <td>Kolkata Knight Riders</td>\n",
              "      <td>Royal Challengers Bangalore</td>\n",
              "      <td>1</td>\n",
              "      <td>0</td>\n",
              "      <td>0.1</td>\n",
              "      <td>1</td>\n",
              "      <td>0</td>\n",
              "      <td>222</td>\n",
              "    </tr>\n",
              "    <tr>\n",
              "      <th>1</th>\n",
              "      <td>2008-04-18</td>\n",
              "      <td>Kolkata Knight Riders</td>\n",
              "      <td>Royal Challengers Bangalore</td>\n",
              "      <td>1</td>\n",
              "      <td>0</td>\n",
              "      <td>0.2</td>\n",
              "      <td>1</td>\n",
              "      <td>0</td>\n",
              "      <td>222</td>\n",
              "    </tr>\n",
              "    <tr>\n",
              "      <th>2</th>\n",
              "      <td>2008-04-18</td>\n",
              "      <td>Kolkata Knight Riders</td>\n",
              "      <td>Royal Challengers Bangalore</td>\n",
              "      <td>2</td>\n",
              "      <td>0</td>\n",
              "      <td>0.2</td>\n",
              "      <td>2</td>\n",
              "      <td>0</td>\n",
              "      <td>222</td>\n",
              "    </tr>\n",
              "    <tr>\n",
              "      <th>3</th>\n",
              "      <td>2008-04-18</td>\n",
              "      <td>Kolkata Knight Riders</td>\n",
              "      <td>Royal Challengers Bangalore</td>\n",
              "      <td>2</td>\n",
              "      <td>0</td>\n",
              "      <td>0.3</td>\n",
              "      <td>2</td>\n",
              "      <td>0</td>\n",
              "      <td>222</td>\n",
              "    </tr>\n",
              "    <tr>\n",
              "      <th>4</th>\n",
              "      <td>2008-04-18</td>\n",
              "      <td>Kolkata Knight Riders</td>\n",
              "      <td>Royal Challengers Bangalore</td>\n",
              "      <td>2</td>\n",
              "      <td>0</td>\n",
              "      <td>0.4</td>\n",
              "      <td>2</td>\n",
              "      <td>0</td>\n",
              "      <td>222</td>\n",
              "    </tr>\n",
              "  </tbody>\n",
              "</table>\n",
              "</div>\n",
              "      <button class=\"colab-df-convert\" onclick=\"convertToInteractive('df-3818055c-95e7-4073-a42f-d1feba0f7c7b')\"\n",
              "              title=\"Convert this dataframe to an interactive table.\"\n",
              "              style=\"display:none;\">\n",
              "        \n",
              "  <svg xmlns=\"http://www.w3.org/2000/svg\" height=\"24px\"viewBox=\"0 0 24 24\"\n",
              "       width=\"24px\">\n",
              "    <path d=\"M0 0h24v24H0V0z\" fill=\"none\"/>\n",
              "    <path d=\"M18.56 5.44l.94 2.06.94-2.06 2.06-.94-2.06-.94-.94-2.06-.94 2.06-2.06.94zm-11 1L8.5 8.5l.94-2.06 2.06-.94-2.06-.94L8.5 2.5l-.94 2.06-2.06.94zm10 10l.94 2.06.94-2.06 2.06-.94-2.06-.94-.94-2.06-.94 2.06-2.06.94z\"/><path d=\"M17.41 7.96l-1.37-1.37c-.4-.4-.92-.59-1.43-.59-.52 0-1.04.2-1.43.59L10.3 9.45l-7.72 7.72c-.78.78-.78 2.05 0 2.83L4 21.41c.39.39.9.59 1.41.59.51 0 1.02-.2 1.41-.59l7.78-7.78 2.81-2.81c.8-.78.8-2.07 0-2.86zM5.41 20L4 18.59l7.72-7.72 1.47 1.35L5.41 20z\"/>\n",
              "  </svg>\n",
              "      </button>\n",
              "      \n",
              "  <style>\n",
              "    .colab-df-container {\n",
              "      display:flex;\n",
              "      flex-wrap:wrap;\n",
              "      gap: 12px;\n",
              "    }\n",
              "\n",
              "    .colab-df-convert {\n",
              "      background-color: #E8F0FE;\n",
              "      border: none;\n",
              "      border-radius: 50%;\n",
              "      cursor: pointer;\n",
              "      display: none;\n",
              "      fill: #1967D2;\n",
              "      height: 32px;\n",
              "      padding: 0 0 0 0;\n",
              "      width: 32px;\n",
              "    }\n",
              "\n",
              "    .colab-df-convert:hover {\n",
              "      background-color: #E2EBFA;\n",
              "      box-shadow: 0px 1px 2px rgba(60, 64, 67, 0.3), 0px 1px 3px 1px rgba(60, 64, 67, 0.15);\n",
              "      fill: #174EA6;\n",
              "    }\n",
              "\n",
              "    [theme=dark] .colab-df-convert {\n",
              "      background-color: #3B4455;\n",
              "      fill: #D2E3FC;\n",
              "    }\n",
              "\n",
              "    [theme=dark] .colab-df-convert:hover {\n",
              "      background-color: #434B5C;\n",
              "      box-shadow: 0px 1px 3px 1px rgba(0, 0, 0, 0.15);\n",
              "      filter: drop-shadow(0px 1px 2px rgba(0, 0, 0, 0.3));\n",
              "      fill: #FFFFFF;\n",
              "    }\n",
              "  </style>\n",
              "\n",
              "      <script>\n",
              "        const buttonEl =\n",
              "          document.querySelector('#df-3818055c-95e7-4073-a42f-d1feba0f7c7b button.colab-df-convert');\n",
              "        buttonEl.style.display =\n",
              "          google.colab.kernel.accessAllowed ? 'block' : 'none';\n",
              "\n",
              "        async function convertToInteractive(key) {\n",
              "          const element = document.querySelector('#df-3818055c-95e7-4073-a42f-d1feba0f7c7b');\n",
              "          const dataTable =\n",
              "            await google.colab.kernel.invokeFunction('convertToInteractive',\n",
              "                                                     [key], {});\n",
              "          if (!dataTable) return;\n",
              "\n",
              "          const docLinkHtml = 'Like what you see? Visit the ' +\n",
              "            '<a target=\"_blank\" href=https://colab.research.google.com/notebooks/data_table.ipynb>data table notebook</a>'\n",
              "            + ' to learn more about interactive tables.';\n",
              "          element.innerHTML = '';\n",
              "          dataTable['output_type'] = 'display_data';\n",
              "          await google.colab.output.renderOutput(dataTable, element);\n",
              "          const docLink = document.createElement('div');\n",
              "          docLink.innerHTML = docLinkHtml;\n",
              "          element.appendChild(docLink);\n",
              "        }\n",
              "      </script>\n",
              "    </div>\n",
              "  </div>\n",
              "  "
            ]
          },
          "metadata": {},
          "execution_count": 12
        }
      ],
      "source": [
        "ipl_df.head()"
      ]
    },
    {
      "cell_type": "code",
      "execution_count": 13,
      "metadata": {
        "colab": {
          "base_uri": "https://localhost:8080/"
        },
        "id": "EmGz6QrodIJG",
        "outputId": "94b0cff9-f1cb-4368-bf2b-6bffb52b45c5"
      },
      "outputs": [
        {
          "output_type": "execute_result",
          "data": {
            "text/plain": [
              "['Kolkata Knight Riders',\n",
              " 'Chennai Super Kings',\n",
              " 'Rajasthan Royals',\n",
              " 'Mumbai Indians',\n",
              " 'Kings XI Punjab',\n",
              " 'Royal Challengers Bangalore',\n",
              " 'Delhi Daredevils',\n",
              " 'Sunrisers Hyderabad']"
            ]
          },
          "metadata": {},
          "execution_count": 13
        }
      ],
      "source": [
        "#Check the team list with old teams removed\n",
        "list(ipl_df['bat_team'].unique())"
      ]
    },
    {
      "cell_type": "markdown",
      "metadata": {
        "id": "yEDU-obNdcGs"
      },
      "source": [
        "# Exploratory Data Analysis"
      ]
    },
    {
      "cell_type": "code",
      "execution_count": 14,
      "metadata": {
        "id": "69sMXkGx5CWf",
        "outputId": "8f3d2fac-1a58-4cae-b74a-47b29969af9c",
        "colab": {
          "base_uri": "https://localhost:8080/",
          "height": 206
        }
      },
      "outputs": [
        {
          "output_type": "execute_result",
          "data": {
            "text/plain": [
              "        date               bat_team                    bowl_team  runs  \\\n",
              "0 2008-04-18  Kolkata Knight Riders  Royal Challengers Bangalore     1   \n",
              "1 2008-04-18  Kolkata Knight Riders  Royal Challengers Bangalore     1   \n",
              "2 2008-04-18  Kolkata Knight Riders  Royal Challengers Bangalore     2   \n",
              "3 2008-04-18  Kolkata Knight Riders  Royal Challengers Bangalore     2   \n",
              "4 2008-04-18  Kolkata Knight Riders  Royal Challengers Bangalore     2   \n",
              "\n",
              "   wickets  overs  runs_last_5  wickets_last_5  total  \n",
              "0        0    0.1            1               0    222  \n",
              "1        0    0.2            1               0    222  \n",
              "2        0    0.2            2               0    222  \n",
              "3        0    0.3            2               0    222  \n",
              "4        0    0.4            2               0    222  "
            ],
            "text/html": [
              "\n",
              "  <div id=\"df-6415eee6-02ce-4557-953f-a9a98d89e008\">\n",
              "    <div class=\"colab-df-container\">\n",
              "      <div>\n",
              "<style scoped>\n",
              "    .dataframe tbody tr th:only-of-type {\n",
              "        vertical-align: middle;\n",
              "    }\n",
              "\n",
              "    .dataframe tbody tr th {\n",
              "        vertical-align: top;\n",
              "    }\n",
              "\n",
              "    .dataframe thead th {\n",
              "        text-align: right;\n",
              "    }\n",
              "</style>\n",
              "<table border=\"1\" class=\"dataframe\">\n",
              "  <thead>\n",
              "    <tr style=\"text-align: right;\">\n",
              "      <th></th>\n",
              "      <th>date</th>\n",
              "      <th>bat_team</th>\n",
              "      <th>bowl_team</th>\n",
              "      <th>runs</th>\n",
              "      <th>wickets</th>\n",
              "      <th>overs</th>\n",
              "      <th>runs_last_5</th>\n",
              "      <th>wickets_last_5</th>\n",
              "      <th>total</th>\n",
              "    </tr>\n",
              "  </thead>\n",
              "  <tbody>\n",
              "    <tr>\n",
              "      <th>0</th>\n",
              "      <td>2008-04-18</td>\n",
              "      <td>Kolkata Knight Riders</td>\n",
              "      <td>Royal Challengers Bangalore</td>\n",
              "      <td>1</td>\n",
              "      <td>0</td>\n",
              "      <td>0.1</td>\n",
              "      <td>1</td>\n",
              "      <td>0</td>\n",
              "      <td>222</td>\n",
              "    </tr>\n",
              "    <tr>\n",
              "      <th>1</th>\n",
              "      <td>2008-04-18</td>\n",
              "      <td>Kolkata Knight Riders</td>\n",
              "      <td>Royal Challengers Bangalore</td>\n",
              "      <td>1</td>\n",
              "      <td>0</td>\n",
              "      <td>0.2</td>\n",
              "      <td>1</td>\n",
              "      <td>0</td>\n",
              "      <td>222</td>\n",
              "    </tr>\n",
              "    <tr>\n",
              "      <th>2</th>\n",
              "      <td>2008-04-18</td>\n",
              "      <td>Kolkata Knight Riders</td>\n",
              "      <td>Royal Challengers Bangalore</td>\n",
              "      <td>2</td>\n",
              "      <td>0</td>\n",
              "      <td>0.2</td>\n",
              "      <td>2</td>\n",
              "      <td>0</td>\n",
              "      <td>222</td>\n",
              "    </tr>\n",
              "    <tr>\n",
              "      <th>3</th>\n",
              "      <td>2008-04-18</td>\n",
              "      <td>Kolkata Knight Riders</td>\n",
              "      <td>Royal Challengers Bangalore</td>\n",
              "      <td>2</td>\n",
              "      <td>0</td>\n",
              "      <td>0.3</td>\n",
              "      <td>2</td>\n",
              "      <td>0</td>\n",
              "      <td>222</td>\n",
              "    </tr>\n",
              "    <tr>\n",
              "      <th>4</th>\n",
              "      <td>2008-04-18</td>\n",
              "      <td>Kolkata Knight Riders</td>\n",
              "      <td>Royal Challengers Bangalore</td>\n",
              "      <td>2</td>\n",
              "      <td>0</td>\n",
              "      <td>0.4</td>\n",
              "      <td>2</td>\n",
              "      <td>0</td>\n",
              "      <td>222</td>\n",
              "    </tr>\n",
              "  </tbody>\n",
              "</table>\n",
              "</div>\n",
              "      <button class=\"colab-df-convert\" onclick=\"convertToInteractive('df-6415eee6-02ce-4557-953f-a9a98d89e008')\"\n",
              "              title=\"Convert this dataframe to an interactive table.\"\n",
              "              style=\"display:none;\">\n",
              "        \n",
              "  <svg xmlns=\"http://www.w3.org/2000/svg\" height=\"24px\"viewBox=\"0 0 24 24\"\n",
              "       width=\"24px\">\n",
              "    <path d=\"M0 0h24v24H0V0z\" fill=\"none\"/>\n",
              "    <path d=\"M18.56 5.44l.94 2.06.94-2.06 2.06-.94-2.06-.94-.94-2.06-.94 2.06-2.06.94zm-11 1L8.5 8.5l.94-2.06 2.06-.94-2.06-.94L8.5 2.5l-.94 2.06-2.06.94zm10 10l.94 2.06.94-2.06 2.06-.94-2.06-.94-.94-2.06-.94 2.06-2.06.94z\"/><path d=\"M17.41 7.96l-1.37-1.37c-.4-.4-.92-.59-1.43-.59-.52 0-1.04.2-1.43.59L10.3 9.45l-7.72 7.72c-.78.78-.78 2.05 0 2.83L4 21.41c.39.39.9.59 1.41.59.51 0 1.02-.2 1.41-.59l7.78-7.78 2.81-2.81c.8-.78.8-2.07 0-2.86zM5.41 20L4 18.59l7.72-7.72 1.47 1.35L5.41 20z\"/>\n",
              "  </svg>\n",
              "      </button>\n",
              "      \n",
              "  <style>\n",
              "    .colab-df-container {\n",
              "      display:flex;\n",
              "      flex-wrap:wrap;\n",
              "      gap: 12px;\n",
              "    }\n",
              "\n",
              "    .colab-df-convert {\n",
              "      background-color: #E8F0FE;\n",
              "      border: none;\n",
              "      border-radius: 50%;\n",
              "      cursor: pointer;\n",
              "      display: none;\n",
              "      fill: #1967D2;\n",
              "      height: 32px;\n",
              "      padding: 0 0 0 0;\n",
              "      width: 32px;\n",
              "    }\n",
              "\n",
              "    .colab-df-convert:hover {\n",
              "      background-color: #E2EBFA;\n",
              "      box-shadow: 0px 1px 2px rgba(60, 64, 67, 0.3), 0px 1px 3px 1px rgba(60, 64, 67, 0.15);\n",
              "      fill: #174EA6;\n",
              "    }\n",
              "\n",
              "    [theme=dark] .colab-df-convert {\n",
              "      background-color: #3B4455;\n",
              "      fill: #D2E3FC;\n",
              "    }\n",
              "\n",
              "    [theme=dark] .colab-df-convert:hover {\n",
              "      background-color: #434B5C;\n",
              "      box-shadow: 0px 1px 3px 1px rgba(0, 0, 0, 0.15);\n",
              "      filter: drop-shadow(0px 1px 2px rgba(0, 0, 0, 0.3));\n",
              "      fill: #FFFFFF;\n",
              "    }\n",
              "  </style>\n",
              "\n",
              "      <script>\n",
              "        const buttonEl =\n",
              "          document.querySelector('#df-6415eee6-02ce-4557-953f-a9a98d89e008 button.colab-df-convert');\n",
              "        buttonEl.style.display =\n",
              "          google.colab.kernel.accessAllowed ? 'block' : 'none';\n",
              "\n",
              "        async function convertToInteractive(key) {\n",
              "          const element = document.querySelector('#df-6415eee6-02ce-4557-953f-a9a98d89e008');\n",
              "          const dataTable =\n",
              "            await google.colab.kernel.invokeFunction('convertToInteractive',\n",
              "                                                     [key], {});\n",
              "          if (!dataTable) return;\n",
              "\n",
              "          const docLinkHtml = 'Like what you see? Visit the ' +\n",
              "            '<a target=\"_blank\" href=https://colab.research.google.com/notebooks/data_table.ipynb>data table notebook</a>'\n",
              "            + ' to learn more about interactive tables.';\n",
              "          element.innerHTML = '';\n",
              "          dataTable['output_type'] = 'display_data';\n",
              "          await google.colab.output.renderOutput(dataTable, element);\n",
              "          const docLink = document.createElement('div');\n",
              "          docLink.innerHTML = docLinkHtml;\n",
              "          element.appendChild(docLink);\n",
              "        }\n",
              "      </script>\n",
              "    </div>\n",
              "  </div>\n",
              "  "
            ]
          },
          "metadata": {},
          "execution_count": 14
        }
      ],
      "source": [
        "ipl_df.head()"
      ]
    },
    {
      "cell_type": "markdown",
      "metadata": {
        "id": "GisDl-EY5CWf"
      },
      "source": [
        "Wicket Distribution"
      ]
    },
    {
      "cell_type": "code",
      "execution_count": 15,
      "metadata": {
        "id": "RvVP6Vvw5CWf",
        "outputId": "c18e08b3-84b8-403d-91d0-f3f24c92d127",
        "colab": {
          "base_uri": "https://localhost:8080/",
          "height": 385
        }
      },
      "outputs": [
        {
          "output_type": "display_data",
          "data": {
            "text/plain": [
              "<Figure size 360x360 with 1 Axes>"
            ],
            "image/png": "[encoded data removed]"
          },
          "metadata": {
            "needs_background": "light"
          }
        }
      ],
      "source": [
        "sns.displot(ipl_df['wickets'],kde=False,bins=10)\n",
        "plt.title(\"Wickets Distribution\")\n",
        "\n",
        "plt.show()"
      ]
    },
    {
      "cell_type": "markdown",
      "metadata": {
        "id": "f0ydtQ9G5CWf"
      },
      "source": [
        "Most of the wickets are between 0 to 3"
      ]
    },
    {
      "cell_type": "markdown",
      "metadata": {
        "id": "cO8Gv0ws5CWf"
      },
      "source": [
        "Runs Distribution\n",
        "\n",
        "* Lie between 150 to 175"
      ]
    },
    {
      "cell_type": "code",
      "execution_count": 16,
      "metadata": {
        "id": "m2DTrAX35CWf",
        "outputId": "201db35a-7846-4590-de68-d09479f6bf3c",
        "colab": {
          "base_uri": "https://localhost:8080/",
          "height": 385
        }
      },
      "outputs": [
        {
          "output_type": "display_data",
          "data": {
            "text/plain": [
              "<Figure size 360x360 with 1 Axes>"
            ],
            "image/png": "[encoded data removed]"
          },
          "metadata": {
            "needs_background": "light"
          }
        }
      ],
      "source": [
        "sns.displot(ipl_df['total'],kde=False,bins=10)\n",
        "plt.title(\"Runs Distribution\")\n",
        "\n",
        "plt.show()"
      ]
    },
    {
      "cell_type": "markdown",
      "metadata": {
        "id": "FcPKsu0L5CWf"
      },
      "source": [
        "Correlation between variables"
      ]
    },
    {
      "cell_type": "code",
      "execution_count": 17,
      "metadata": {
        "colab": {
          "base_uri": "https://localhost:8080/",
          "height": 349
        },
        "id": "UjJSS8juOpKY",
        "outputId": "513efb26-e328-4b82-d043-fbc5159b4b8d"
      },
      "outputs": [
        {
          "output_type": "execute_result",
          "data": {
            "text/plain": [
              "<matplotlib.axes._subplots.AxesSubplot at 0x7f5aea31b670>"
            ]
          },
          "metadata": {},
          "execution_count": 17
        },
        {
          "output_type": "display_data",
          "data": {
            "text/plain": [
              "<Figure size 432x288 with 2 Axes>"
            ],
            "image/png": "[encoded data removed]"
          },
          "metadata": {
            "needs_background": "light"
          }
        }
      ],
      "source": [
        "# Check the correlation betweeen the numerical features\n",
        "corr = ipl_df.corr()\n",
        "\n",
        "\n",
        "# Plot the heatmaps using seaborn\n",
        "sns.heatmap(corr)"
      ]
    },
    {
      "cell_type": "code",
      "execution_count": 18,
      "metadata": {
        "colab": {
          "base_uri": "https://localhost:8080/",
          "height": 238
        },
        "id": "sLo4M0wTOzU0",
        "outputId": "a9ef5a36-730a-433d-ba5a-73bad566db2e"
      },
      "outputs": [
        {
          "output_type": "execute_result",
          "data": {
            "text/plain": [
              "                    runs   wickets     overs  runs_last_5  wickets_last_5  \\\n",
              "runs            1.000000  0.585470  0.936672     0.756638        0.298999   \n",
              "wickets         0.585470  1.000000  0.753480     0.240959        0.696528   \n",
              "overs           0.936672  0.753480  1.000000     0.633673        0.384388   \n",
              "runs_last_5     0.756638  0.240959  0.633673     1.000000        0.067445   \n",
              "wickets_last_5  0.298999  0.696528  0.384388     0.067445        1.000000   \n",
              "total           0.260193 -0.345314  0.025120     0.375733       -0.277322   \n",
              "\n",
              "                   total  \n",
              "runs            0.260193  \n",
              "wickets        -0.345314  \n",
              "overs           0.025120  \n",
              "runs_last_5     0.375733  \n",
              "wickets_last_5 -0.277322  \n",
              "total           1.000000  "
            ],
            "text/html": [
              "\n",
              "  <div id=\"df-2c1d85df-3c6c-4d15-aadd-e4252f8a019e\">\n",
              "    <div class=\"colab-df-container\">\n",
              "      <div>\n",
              "<style scoped>\n",
              "    .dataframe tbody tr th:only-of-type {\n",
              "        vertical-align: middle;\n",
              "    }\n",
              "\n",
              "    .dataframe tbody tr th {\n",
              "        vertical-align: top;\n",
              "    }\n",
              "\n",
              "    .dataframe thead th {\n",
              "        text-align: right;\n",
              "    }\n",
              "</style>\n",
              "<table border=\"1\" class=\"dataframe\">\n",
              "  <thead>\n",
              "    <tr style=\"text-align: right;\">\n",
              "      <th></th>\n",
              "      <th>runs</th>\n",
              "      <th>wickets</th>\n",
              "      <th>overs</th>\n",
              "      <th>runs_last_5</th>\n",
              "      <th>wickets_last_5</th>\n",
              "      <th>total</th>\n",
              "    </tr>\n",
              "  </thead>\n",
              "  <tbody>\n",
              "    <tr>\n",
              "      <th>runs</th>\n",
              "      <td>1.000000</td>\n",
              "      <td>0.585470</td>\n",
              "      <td>0.936672</td>\n",
              "      <td>0.756638</td>\n",
              "      <td>0.298999</td>\n",
              "      <td>0.260193</td>\n",
              "    </tr>\n",
              "    <tr>\n",
              "      <th>wickets</th>\n",
              "      <td>0.585470</td>\n",
              "      <td>1.000000</td>\n",
              "      <td>0.753480</td>\n",
              "      <td>0.240959</td>\n",
              "      <td>0.696528</td>\n",
              "      <td>-0.345314</td>\n",
              "    </tr>\n",
              "    <tr>\n",
              "      <th>overs</th>\n",
              "      <td>0.936672</td>\n",
              "      <td>0.753480</td>\n",
              "      <td>1.000000</td>\n",
              "      <td>0.633673</td>\n",
              "      <td>0.384388</td>\n",
              "      <td>0.025120</td>\n",
              "    </tr>\n",
              "    <tr>\n",
              "      <th>runs_last_5</th>\n",
              "      <td>0.756638</td>\n",
              "      <td>0.240959</td>\n",
              "      <td>0.633673</td>\n",
              "      <td>1.000000</td>\n",
              "      <td>0.067445</td>\n",
              "      <td>0.375733</td>\n",
              "    </tr>\n",
              "    <tr>\n",
              "      <th>wickets_last_5</th>\n",
              "      <td>0.298999</td>\n",
              "      <td>0.696528</td>\n",
              "      <td>0.384388</td>\n",
              "      <td>0.067445</td>\n",
              "      <td>1.000000</td>\n",
              "      <td>-0.277322</td>\n",
              "    </tr>\n",
              "    <tr>\n",
              "      <th>total</th>\n",
              "      <td>0.260193</td>\n",
              "      <td>-0.345314</td>\n",
              "      <td>0.025120</td>\n",
              "      <td>0.375733</td>\n",
              "      <td>-0.277322</td>\n",
              "      <td>1.000000</td>\n",
              "    </tr>\n",
              "  </tbody>\n",
              "</table>\n",
              "</div>\n",
              "      <button class=\"colab-df-convert\" onclick=\"convertToInteractive('df-2c1d85df-3c6c-4d15-aadd-e4252f8a019e')\"\n",
              "              title=\"Convert this dataframe to an interactive table.\"\n",
              "              style=\"display:none;\">\n",
              "        \n",
              "  <svg xmlns=\"http://www.w3.org/2000/svg\" height=\"24px\"viewBox=\"0 0 24 24\"\n",
              "       width=\"24px\">\n",
              "    <path d=\"M0 0h24v24H0V0z\" fill=\"none\"/>\n",
              "    <path d=\"M18.56 5.44l.94 2.06.94-2.06 2.06-.94-2.06-.94-.94-2.06-.94 2.06-2.06.94zm-11 1L8.5 8.5l.94-2.06 2.06-.94-2.06-.94L8.5 2.5l-.94 2.06-2.06.94zm10 10l.94 2.06.94-2.06 2.06-.94-2.06-.94-.94-2.06-.94 2.06-2.06.94z\"/><path d=\"M17.41 7.96l-1.37-1.37c-.4-.4-.92-.59-1.43-.59-.52 0-1.04.2-1.43.59L10.3 9.45l-7.72 7.72c-.78.78-.78 2.05 0 2.83L4 21.41c.39.39.9.59 1.41.59.51 0 1.02-.2 1.41-.59l7.78-7.78 2.81-2.81c.8-.78.8-2.07 0-2.86zM5.41 20L4 18.59l7.72-7.72 1.47 1.35L5.41 20z\"/>\n",
              "  </svg>\n",
              "      </button>\n",
              "      \n",
              "  <style>\n",
              "    .colab-df-container {\n",
              "      display:flex;\n",
              "      flex-wrap:wrap;\n",
              "      gap: 12px;\n",
              "    }\n",
              "\n",
              "    .colab-df-convert {\n",
              "      background-color: #E8F0FE;\n",
              "      border: none;\n",
              "      border-radius: 50%;\n",
              "      cursor: pointer;\n",
              "      display: none;\n",
              "      fill: #1967D2;\n",
              "      height: 32px;\n",
              "      padding: 0 0 0 0;\n",
              "      width: 32px;\n",
              "    }\n",
              "\n",
              "    .colab-df-convert:hover {\n",
              "      background-color: #E2EBFA;\n",
              "      box-shadow: 0px 1px 2px rgba(60, 64, 67, 0.3), 0px 1px 3px 1px rgba(60, 64, 67, 0.15);\n",
              "      fill: #174EA6;\n",
              "    }\n",
              "\n",
              "    [theme=dark] .colab-df-convert {\n",
              "      background-color: #3B4455;\n",
              "      fill: #D2E3FC;\n",
              "    }\n",
              "\n",
              "    [theme=dark] .colab-df-convert:hover {\n",
              "      background-color: #434B5C;\n",
              "      box-shadow: 0px 1px 3px 1px rgba(0, 0, 0, 0.15);\n",
              "      filter: drop-shadow(0px 1px 2px rgba(0, 0, 0, 0.3));\n",
              "      fill: #FFFFFF;\n",
              "    }\n",
              "  </style>\n",
              "\n",
              "      <script>\n",
              "        const buttonEl =\n",
              "          document.querySelector('#df-2c1d85df-3c6c-4d15-aadd-e4252f8a019e button.colab-df-convert');\n",
              "        buttonEl.style.display =\n",
              "          google.colab.kernel.accessAllowed ? 'block' : 'none';\n",
              "\n",
              "        async function convertToInteractive(key) {\n",
              "          const element = document.querySelector('#df-2c1d85df-3c6c-4d15-aadd-e4252f8a019e');\n",
              "          const dataTable =\n",
              "            await google.colab.kernel.invokeFunction('convertToInteractive',\n",
              "                                                     [key], {});\n",
              "          if (!dataTable) return;\n",
              "\n",
              "          const docLinkHtml = 'Like what you see? Visit the ' +\n",
              "            '<a target=\"_blank\" href=https://colab.research.google.com/notebooks/data_table.ipynb>data table notebook</a>'\n",
              "            + ' to learn more about interactive tables.';\n",
              "          element.innerHTML = '';\n",
              "          dataTable['output_type'] = 'display_data';\n",
              "          await google.colab.output.renderOutput(dataTable, element);\n",
              "          const docLink = document.createElement('div');\n",
              "          docLink.innerHTML = docLinkHtml;\n",
              "          element.appendChild(docLink);\n",
              "        }\n",
              "      </script>\n",
              "    </div>\n",
              "  </div>\n",
              "  "
            ]
          },
          "metadata": {},
          "execution_count": 18
        }
      ],
      "source": [
        "corr"
      ]
    },
    {
      "cell_type": "markdown",
      "metadata": {
        "id": "8V6497P45CWg"
      },
      "source": [
        "<b>RUNS, WICKETS</b> are highly correlated with OVERS.\n"
      ]
    },
    {
      "cell_type": "markdown",
      "metadata": {
        "id": "NlS70Fs0dhZd"
      },
      "source": [
        "# Prepare Data"
      ]
    },
    {
      "cell_type": "markdown",
      "metadata": {
        "id": "Uu1Mvp8gdowv"
      },
      "source": [
        "Encode Categorical Columns\n",
        " * To Encode Categorical Columns here we will use OneHot Encoder\n"
      ]
    },
    {
      "cell_type": "code",
      "execution_count": 19,
      "metadata": {
        "id": "F6bos9fnO9F4"
      },
      "outputs": [],
      "source": [
        "# get all the categorial columns\n",
        "categorial_features = ['bat_team', 'bowl_team']"
      ]
    },
    {
      "cell_type": "code",
      "execution_count": 20,
      "metadata": {
        "colab": {
          "base_uri": "https://localhost:8080/"
        },
        "id": "JgSQZbkwhA6T",
        "outputId": "a68b006d-e398-401c-d17e-834fa752e478"
      },
      "outputs": [
        {
          "output_type": "stream",
          "name": "stdout",
          "text": [
            "Unique values in bat_team column is 8\n",
            "Unique values in bowl_team column is 8\n"
          ]
        }
      ],
      "source": [
        "# Number of unique values in categorial_features\n",
        "\n",
        "for cols in categorial_features:\n",
        "    n_unique = np.unique(ipl_df[cols]).shape[0]\n",
        "    print(\"Unique values in %s column is %d\"%(cols, n_unique))"
      ]
    },
    {
      "cell_type": "code",
      "execution_count": 21,
      "metadata": {
        "colab": {
          "base_uri": "https://localhost:8080/",
          "height": 508
        },
        "id": "Cc74RAGNiTd8",
        "outputId": "7820d2bc-17ff-472b-d6a7-715bd69fc0ec"
      },
      "outputs": [
        {
          "output_type": "execute_result",
          "data": {
            "text/plain": [
              "        date               bat_team                    bowl_team  runs  \\\n",
              "0 2008-04-18  Kolkata Knight Riders  Royal Challengers Bangalore     1   \n",
              "1 2008-04-18  Kolkata Knight Riders  Royal Challengers Bangalore     1   \n",
              "2 2008-04-18  Kolkata Knight Riders  Royal Challengers Bangalore     2   \n",
              "3 2008-04-18  Kolkata Knight Riders  Royal Challengers Bangalore     2   \n",
              "4 2008-04-18  Kolkata Knight Riders  Royal Challengers Bangalore     2   \n",
              "\n",
              "   wickets  overs  runs_last_5  wickets_last_5  total  \\\n",
              "0        0    0.1            1               0    222   \n",
              "1        0    0.2            1               0    222   \n",
              "2        0    0.2            2               0    222   \n",
              "3        0    0.3            2               0    222   \n",
              "4        0    0.4            2               0    222   \n",
              "\n",
              "   bat_team_Chennai Super Kings  ...  bat_team_Royal Challengers Bangalore  \\\n",
              "0                             0  ...                                     0   \n",
              "1                             0  ...                                     0   \n",
              "2                             0  ...                                     0   \n",
              "3                             0  ...                                     0   \n",
              "4                             0  ...                                     0   \n",
              "\n",
              "   bat_team_Sunrisers Hyderabad  bowl_team_Chennai Super Kings  \\\n",
              "0                             0                              0   \n",
              "1                             0                              0   \n",
              "2                             0                              0   \n",
              "3                             0                              0   \n",
              "4                             0                              0   \n",
              "\n",
              "   bowl_team_Delhi Daredevils  bowl_team_Kings XI Punjab  \\\n",
              "0                           0                          0   \n",
              "1                           0                          0   \n",
              "2                           0                          0   \n",
              "3                           0                          0   \n",
              "4                           0                          0   \n",
              "\n",
              "   bowl_team_Kolkata Knight Riders  bowl_team_Mumbai Indians  \\\n",
              "0                                0                         0   \n",
              "1                                0                         0   \n",
              "2                                0                         0   \n",
              "3                                0                         0   \n",
              "4                                0                         0   \n",
              "\n",
              "   bowl_team_Rajasthan Royals  bowl_team_Royal Challengers Bangalore  \\\n",
              "0                           0                                      1   \n",
              "1                           0                                      1   \n",
              "2                           0                                      1   \n",
              "3                           0                                      1   \n",
              "4                           0                                      1   \n",
              "\n",
              "   bowl_team_Sunrisers Hyderabad  \n",
              "0                              0  \n",
              "1                              0  \n",
              "2                              0  \n",
              "3                              0  \n",
              "4                              0  \n",
              "\n",
              "[5 rows x 25 columns]"
            ],
            "text/html": [
              "\n",
              "  <div id=\"df-d7bddd46-0004-4c74-a43c-c1703c8358df\">\n",
              "    <div class=\"colab-df-container\">\n",
              "      <div>\n",
              "<style scoped>\n",
              "    .dataframe tbody tr th:only-of-type {\n",
              "        vertical-align: middle;\n",
              "    }\n",
              "\n",
              "    .dataframe tbody tr th {\n",
              "        vertical-align: top;\n",
              "    }\n",
              "\n",
              "    .dataframe thead th {\n",
              "        text-align: right;\n",
              "    }\n",
              "</style>\n",
              "<table border=\"1\" class=\"dataframe\">\n",
              "  <thead>\n",
              "    <tr style=\"text-align: right;\">\n",
              "      <th></th>\n",
              "      <th>date</th>\n",
              "      <th>bat_team</th>\n",
              "      <th>bowl_team</th>\n",
              "      <th>runs</th>\n",
              "      <th>wickets</th>\n",
              "      <th>overs</th>\n",
              "      <th>runs_last_5</th>\n",
              "      <th>wickets_last_5</th>\n",
              "      <th>total</th>\n",
              "      <th>bat_team_Chennai Super Kings</th>\n",
              "      <th>...</th>\n",
              "      <th>bat_team_Royal Challengers Bangalore</th>\n",
              "      <th>bat_team_Sunrisers Hyderabad</th>\n",
              "      <th>bowl_team_Chennai Super Kings</th>\n",
              "      <th>bowl_team_Delhi Daredevils</th>\n",
              "      <th>bowl_team_Kings XI Punjab</th>\n",
              "      <th>bowl_team_Kolkata Knight Riders</th>\n",
              "      <th>bowl_team_Mumbai Indians</th>\n",
              "      <th>bowl_team_Rajasthan Royals</th>\n",
              "      <th>bowl_team_Royal Challengers Bangalore</th>\n",
              "      <th>bowl_team_Sunrisers Hyderabad</th>\n",
              "    </tr>\n",
              "  </thead>\n",
              "  <tbody>\n",
              "    <tr>\n",
              "      <th>0</th>\n",
              "      <td>2008-04-18</td>\n",
              "      <td>Kolkata Knight Riders</td>\n",
              "      <td>Royal Challengers Bangalore</td>\n",
              "      <td>1</td>\n",
              "      <td>0</td>\n",
              "      <td>0.1</td>\n",
              "      <td>1</td>\n",
              "      <td>0</td>\n",
              "      <td>222</td>\n",
              "      <td>0</td>\n",
              "      <td>...</td>\n",
              "      <td>0</td>\n",
              "      <td>0</td>\n",
              "      <td>0</td>\n",
              "      <td>0</td>\n",
              "      <td>0</td>\n",
              "      <td>0</td>\n",
              "      <td>0</td>\n",
              "      <td>0</td>\n",
              "      <td>1</td>\n",
              "      <td>0</td>\n",
              "    </tr>\n",
              "    <tr>\n",
              "      <th>1</th>\n",
              "      <td>2008-04-18</td>\n",
              "      <td>Kolkata Knight Riders</td>\n",
              "      <td>Royal Challengers Bangalore</td>\n",
              "      <td>1</td>\n",
              "      <td>0</td>\n",
              "      <td>0.2</td>\n",
              "      <td>1</td>\n",
              "      <td>0</td>\n",
              "      <td>222</td>\n",
              "      <td>0</td>\n",
              "      <td>...</td>\n",
              "      <td>0</td>\n",
              "      <td>0</td>\n",
              "      <td>0</td>\n",
              "      <td>0</td>\n",
              "      <td>0</td>\n",
              "      <td>0</td>\n",
              "      <td>0</td>\n",
              "      <td>0</td>\n",
              "      <td>1</td>\n",
              "      <td>0</td>\n",
              "    </tr>\n",
              "    <tr>\n",
              "      <th>2</th>\n",
              "      <td>2008-04-18</td>\n",
              "      <td>Kolkata Knight Riders</td>\n",
              "      <td>Royal Challengers Bangalore</td>\n",
              "      <td>2</td>\n",
              "      <td>0</td>\n",
              "      <td>0.2</td>\n",
              "      <td>2</td>\n",
              "      <td>0</td>\n",
              "      <td>222</td>\n",
              "      <td>0</td>\n",
              "      <td>...</td>\n",
              "      <td>0</td>\n",
              "      <td>0</td>\n",
              "      <td>0</td>\n",
              "      <td>0</td>\n",
              "      <td>0</td>\n",
              "      <td>0</td>\n",
              "      <td>0</td>\n",
              "      <td>0</td>\n",
              "      <td>1</td>\n",
              "      <td>0</td>\n",
              "    </tr>\n",
              "    <tr>\n",
              "      <th>3</th>\n",
              "      <td>2008-04-18</td>\n",
              "      <td>Kolkata Knight Riders</td>\n",
              "      <td>Royal Challengers Bangalore</td>\n",
              "      <td>2</td>\n",
              "      <td>0</td>\n",
              "      <td>0.3</td>\n",
              "      <td>2</td>\n",
              "      <td>0</td>\n",
              "      <td>222</td>\n",
              "      <td>0</td>\n",
              "      <td>...</td>\n",
              "      <td>0</td>\n",
              "      <td>0</td>\n",
              "      <td>0</td>\n",
              "      <td>0</td>\n",
              "      <td>0</td>\n",
              "      <td>0</td>\n",
              "      <td>0</td>\n",
              "      <td>0</td>\n",
              "      <td>1</td>\n",
              "      <td>0</td>\n",
              "    </tr>\n",
              "    <tr>\n",
              "      <th>4</th>\n",
              "      <td>2008-04-18</td>\n",
              "      <td>Kolkata Knight Riders</td>\n",
              "      <td>Royal Challengers Bangalore</td>\n",
              "      <td>2</td>\n",
              "      <td>0</td>\n",
              "      <td>0.4</td>\n",
              "      <td>2</td>\n",
              "      <td>0</td>\n",
              "      <td>222</td>\n",
              "      <td>0</td>\n",
              "      <td>...</td>\n",
              "      <td>0</td>\n",
              "      <td>0</td>\n",
              "      <td>0</td>\n",
              "      <td>0</td>\n",
              "      <td>0</td>\n",
              "      <td>0</td>\n",
              "      <td>0</td>\n",
              "      <td>0</td>\n",
              "      <td>1</td>\n",
              "      <td>0</td>\n",
              "    </tr>\n",
              "  </tbody>\n",
              "</table>\n",
              "<p>5 rows × 25 columns</p>\n",
              "</div>\n",
              "      <button class=\"colab-df-convert\" onclick=\"convertToInteractive('df-d7bddd46-0004-4c74-a43c-c1703c8358df')\"\n",
              "              title=\"Convert this dataframe to an interactive table.\"\n",
              "              style=\"display:none;\">\n",
              "        \n",
              "  <svg xmlns=\"http://www.w3.org/2000/svg\" height=\"24px\"viewBox=\"0 0 24 24\"\n",
              "       width=\"24px\">\n",
              "    <path d=\"M0 0h24v24H0V0z\" fill=\"none\"/>\n",
              "    <path d=\"M18.56 5.44l.94 2.06.94-2.06 2.06-.94-2.06-.94-.94-2.06-.94 2.06-2.06.94zm-11 1L8.5 8.5l.94-2.06 2.06-.94-2.06-.94L8.5 2.5l-.94 2.06-2.06.94zm10 10l.94 2.06.94-2.06 2.06-.94-2.06-.94-.94-2.06-.94 2.06-2.06.94z\"/><path d=\"M17.41 7.96l-1.37-1.37c-.4-.4-.92-.59-1.43-.59-.52 0-1.04.2-1.43.59L10.3 9.45l-7.72 7.72c-.78.78-.78 2.05 0 2.83L4 21.41c.39.39.9.59 1.41.59.51 0 1.02-.2 1.41-.59l7.78-7.78 2.81-2.81c.8-.78.8-2.07 0-2.86zM5.41 20L4 18.59l7.72-7.72 1.47 1.35L5.41 20z\"/>\n",
              "  </svg>\n",
              "      </button>\n",
              "      \n",
              "  <style>\n",
              "    .colab-df-container {\n",
              "      display:flex;\n",
              "      flex-wrap:wrap;\n",
              "      gap: 12px;\n",
              "    }\n",
              "\n",
              "    .colab-df-convert {\n",
              "      background-color: #E8F0FE;\n",
              "      border: none;\n",
              "      border-radius: 50%;\n",
              "      cursor: pointer;\n",
              "      display: none;\n",
              "      fill: #1967D2;\n",
              "      height: 32px;\n",
              "      padding: 0 0 0 0;\n",
              "      width: 32px;\n",
              "    }\n",
              "\n",
              "    .colab-df-convert:hover {\n",
              "      background-color: #E2EBFA;\n",
              "      box-shadow: 0px 1px 2px rgba(60, 64, 67, 0.3), 0px 1px 3px 1px rgba(60, 64, 67, 0.15);\n",
              "      fill: #174EA6;\n",
              "    }\n",
              "\n",
              "    [theme=dark] .colab-df-convert {\n",
              "      background-color: #3B4455;\n",
              "      fill: #D2E3FC;\n",
              "    }\n",
              "\n",
              "    [theme=dark] .colab-df-convert:hover {\n",
              "      background-color: #434B5C;\n",
              "      box-shadow: 0px 1px 3px 1px rgba(0, 0, 0, 0.15);\n",
              "      filter: drop-shadow(0px 1px 2px rgba(0, 0, 0, 0.3));\n",
              "      fill: #FFFFFF;\n",
              "    }\n",
              "  </style>\n",
              "\n",
              "      <script>\n",
              "        const buttonEl =\n",
              "          document.querySelector('#df-d7bddd46-0004-4c74-a43c-c1703c8358df button.colab-df-convert');\n",
              "        buttonEl.style.display =\n",
              "          google.colab.kernel.accessAllowed ? 'block' : 'none';\n",
              "\n",
              "        async function convertToInteractive(key) {\n",
              "          const element = document.querySelector('#df-d7bddd46-0004-4c74-a43c-c1703c8358df');\n",
              "          const dataTable =\n",
              "            await google.colab.kernel.invokeFunction('convertToInteractive',\n",
              "                                                     [key], {});\n",
              "          if (!dataTable) return;\n",
              "\n",
              "          const docLinkHtml = 'Like what you see? Visit the ' +\n",
              "            '<a target=\"_blank\" href=https://colab.research.google.com/notebooks/data_table.ipynb>data table notebook</a>'\n",
              "            + ' to learn more about interactive tables.';\n",
              "          element.innerHTML = '';\n",
              "          dataTable['output_type'] = 'display_data';\n",
              "          await google.colab.output.renderOutput(dataTable, element);\n",
              "          const docLink = document.createElement('div');\n",
              "          docLink.innerHTML = docLinkHtml;\n",
              "          element.appendChild(docLink);\n",
              "        }\n",
              "      </script>\n",
              "    </div>\n",
              "  </div>\n",
              "  "
            ]
          },
          "metadata": {},
          "execution_count": 21
        }
      ],
      "source": [
        "#bat_team bowl_team features are few apply onehot encoder\n",
        "nominal_cols = ['bat_team', 'bowl_team'] # onehot encode these columns\n",
        "\n",
        "# One hot encode the columns and concat using pd.concat\n",
        "ipl_df = pd.concat((ipl_df, pd.get_dummies(ipl_df[nominal_cols])), axis = 1)\n",
        "ipl_df.head()"
      ]
    },
    {
      "cell_type": "code",
      "execution_count": 22,
      "metadata": {
        "id": "TiiaFXVAnBd2"
      },
      "outputs": [],
      "source": [
        "# Since, the nominal columns have been encoded drop its actual columns\n",
        "ipl_df.drop(nominal_cols, axis = 1, inplace = True)"
      ]
    },
    {
      "cell_type": "code",
      "execution_count": 23,
      "metadata": {
        "colab": {
          "base_uri": "https://localhost:8080/",
          "height": 421
        },
        "id": "jN3t-c90PiQa",
        "outputId": "5fd2f11e-e844-49ae-b7de-6e0a697f31a3"
      },
      "outputs": [
        {
          "output_type": "execute_result",
          "data": {
            "text/plain": [
              "        date  runs  wickets  overs  runs_last_5  wickets_last_5  total  \\\n",
              "0 2008-04-18     1        0    0.1            1               0    222   \n",
              "1 2008-04-18     1        0    0.2            1               0    222   \n",
              "2 2008-04-18     2        0    0.2            2               0    222   \n",
              "3 2008-04-18     2        0    0.3            2               0    222   \n",
              "4 2008-04-18     2        0    0.4            2               0    222   \n",
              "\n",
              "   bat_team_Chennai Super Kings  bat_team_Delhi Daredevils  \\\n",
              "0                             0                          0   \n",
              "1                             0                          0   \n",
              "2                             0                          0   \n",
              "3                             0                          0   \n",
              "4                             0                          0   \n",
              "\n",
              "   bat_team_Kings XI Punjab  ...  bat_team_Royal Challengers Bangalore  \\\n",
              "0                         0  ...                                     0   \n",
              "1                         0  ...                                     0   \n",
              "2                         0  ...                                     0   \n",
              "3                         0  ...                                     0   \n",
              "4                         0  ...                                     0   \n",
              "\n",
              "   bat_team_Sunrisers Hyderabad  bowl_team_Chennai Super Kings  \\\n",
              "0                             0                              0   \n",
              "1                             0                              0   \n",
              "2                             0                              0   \n",
              "3                             0                              0   \n",
              "4                             0                              0   \n",
              "\n",
              "   bowl_team_Delhi Daredevils  bowl_team_Kings XI Punjab  \\\n",
              "0                           0                          0   \n",
              "1                           0                          0   \n",
              "2                           0                          0   \n",
              "3                           0                          0   \n",
              "4                           0                          0   \n",
              "\n",
              "   bowl_team_Kolkata Knight Riders  bowl_team_Mumbai Indians  \\\n",
              "0                                0                         0   \n",
              "1                                0                         0   \n",
              "2                                0                         0   \n",
              "3                                0                         0   \n",
              "4                                0                         0   \n",
              "\n",
              "   bowl_team_Rajasthan Royals  bowl_team_Royal Challengers Bangalore  \\\n",
              "0                           0                                      1   \n",
              "1                           0                                      1   \n",
              "2                           0                                      1   \n",
              "3                           0                                      1   \n",
              "4                           0                                      1   \n",
              "\n",
              "   bowl_team_Sunrisers Hyderabad  \n",
              "0                              0  \n",
              "1                              0  \n",
              "2                              0  \n",
              "3                              0  \n",
              "4                              0  \n",
              "\n",
              "[5 rows x 23 columns]"
            ],
            "text/html": [
              "\n",
              "  <div id=\"df-cfb0cad7-32d9-408b-8926-7c3c7033280e\">\n",
              "    <div class=\"colab-df-container\">\n",
              "      <div>\n",
              "<style scoped>\n",
              "    .dataframe tbody tr th:only-of-type {\n",
              "        vertical-align: middle;\n",
              "    }\n",
              "\n",
              "    .dataframe tbody tr th {\n",
              "        vertical-align: top;\n",
              "    }\n",
              "\n",
              "    .dataframe thead th {\n",
              "        text-align: right;\n",
              "    }\n",
              "</style>\n",
              "<table border=\"1\" class=\"dataframe\">\n",
              "  <thead>\n",
              "    <tr style=\"text-align: right;\">\n",
              "      <th></th>\n",
              "      <th>date</th>\n",
              "      <th>runs</th>\n",
              "      <th>wickets</th>\n",
              "      <th>overs</th>\n",
              "      <th>runs_last_5</th>\n",
              "      <th>wickets_last_5</th>\n",
              "      <th>total</th>\n",
              "      <th>bat_team_Chennai Super Kings</th>\n",
              "      <th>bat_team_Delhi Daredevils</th>\n",
              "      <th>bat_team_Kings XI Punjab</th>\n",
              "      <th>...</th>\n",
              "      <th>bat_team_Royal Challengers Bangalore</th>\n",
              "      <th>bat_team_Sunrisers Hyderabad</th>\n",
              "      <th>bowl_team_Chennai Super Kings</th>\n",
              "      <th>bowl_team_Delhi Daredevils</th>\n",
              "      <th>bowl_team_Kings XI Punjab</th>\n",
              "      <th>bowl_team_Kolkata Knight Riders</th>\n",
              "      <th>bowl_team_Mumbai Indians</th>\n",
              "      <th>bowl_team_Rajasthan Royals</th>\n",
              "      <th>bowl_team_Royal Challengers Bangalore</th>\n",
              "      <th>bowl_team_Sunrisers Hyderabad</th>\n",
              "    </tr>\n",
              "  </thead>\n",
              "  <tbody>\n",
              "    <tr>\n",
              "      <th>0</th>\n",
              "      <td>2008-04-18</td>\n",
              "      <td>1</td>\n",
              "      <td>0</td>\n",
              "      <td>0.1</td>\n",
              "      <td>1</td>\n",
              "      <td>0</td>\n",
              "      <td>222</td>\n",
              "      <td>0</td>\n",
              "      <td>0</td>\n",
              "      <td>0</td>\n",
              "      <td>...</td>\n",
              "      <td>0</td>\n",
              "      <td>0</td>\n",
              "      <td>0</td>\n",
              "      <td>0</td>\n",
              "      <td>0</td>\n",
              "      <td>0</td>\n",
              "      <td>0</td>\n",
              "      <td>0</td>\n",
              "      <td>1</td>\n",
              "      <td>0</td>\n",
              "    </tr>\n",
              "    <tr>\n",
              "      <th>1</th>\n",
              "      <td>2008-04-18</td>\n",
              "      <td>1</td>\n",
              "      <td>0</td>\n",
              "      <td>0.2</td>\n",
              "      <td>1</td>\n",
              "      <td>0</td>\n",
              "      <td>222</td>\n",
              "      <td>0</td>\n",
              "      <td>0</td>\n",
              "      <td>0</td>\n",
              "      <td>...</td>\n",
              "      <td>0</td>\n",
              "      <td>0</td>\n",
              "      <td>0</td>\n",
              "      <td>0</td>\n",
              "      <td>0</td>\n",
              "      <td>0</td>\n",
              "      <td>0</td>\n",
              "      <td>0</td>\n",
              "      <td>1</td>\n",
              "      <td>0</td>\n",
              "    </tr>\n",
              "    <tr>\n",
              "      <th>2</th>\n",
              "      <td>2008-04-18</td>\n",
              "      <td>2</td>\n",
              "      <td>0</td>\n",
              "      <td>0.2</td>\n",
              "      <td>2</td>\n",
              "      <td>0</td>\n",
              "      <td>222</td>\n",
              "      <td>0</td>\n",
              "      <td>0</td>\n",
              "      <td>0</td>\n",
              "      <td>...</td>\n",
              "      <td>0</td>\n",
              "      <td>0</td>\n",
              "      <td>0</td>\n",
              "      <td>0</td>\n",
              "      <td>0</td>\n",
              "      <td>0</td>\n",
              "      <td>0</td>\n",
              "      <td>0</td>\n",
              "      <td>1</td>\n",
              "      <td>0</td>\n",
              "    </tr>\n",
              "    <tr>\n",
              "      <th>3</th>\n",
              "      <td>2008-04-18</td>\n",
              "      <td>2</td>\n",
              "      <td>0</td>\n",
              "      <td>0.3</td>\n",
              "      <td>2</td>\n",
              "      <td>0</td>\n",
              "      <td>222</td>\n",
              "      <td>0</td>\n",
              "      <td>0</td>\n",
              "      <td>0</td>\n",
              "      <td>...</td>\n",
              "      <td>0</td>\n",
              "      <td>0</td>\n",
              "      <td>0</td>\n",
              "      <td>0</td>\n",
              "      <td>0</td>\n",
              "      <td>0</td>\n",
              "      <td>0</td>\n",
              "      <td>0</td>\n",
              "      <td>1</td>\n",
              "      <td>0</td>\n",
              "    </tr>\n",
              "    <tr>\n",
              "      <th>4</th>\n",
              "      <td>2008-04-18</td>\n",
              "      <td>2</td>\n",
              "      <td>0</td>\n",
              "      <td>0.4</td>\n",
              "      <td>2</td>\n",
              "      <td>0</td>\n",
              "      <td>222</td>\n",
              "      <td>0</td>\n",
              "      <td>0</td>\n",
              "      <td>0</td>\n",
              "      <td>...</td>\n",
              "      <td>0</td>\n",
              "      <td>0</td>\n",
              "      <td>0</td>\n",
              "      <td>0</td>\n",
              "      <td>0</td>\n",
              "      <td>0</td>\n",
              "      <td>0</td>\n",
              "      <td>0</td>\n",
              "      <td>1</td>\n",
              "      <td>0</td>\n",
              "    </tr>\n",
              "  </tbody>\n",
              "</table>\n",
              "<p>5 rows × 23 columns</p>\n",
              "</div>\n",
              "      <button class=\"colab-df-convert\" onclick=\"convertToInteractive('df-cfb0cad7-32d9-408b-8926-7c3c7033280e')\"\n",
              "              title=\"Convert this dataframe to an interactive table.\"\n",
              "              style=\"display:none;\">\n",
              "        \n",
              "  <svg xmlns=\"http://www.w3.org/2000/svg\" height=\"24px\"viewBox=\"0 0 24 24\"\n",
              "       width=\"24px\">\n",
              "    <path d=\"M0 0h24v24H0V0z\" fill=\"none\"/>\n",
              "    <path d=\"M18.56 5.44l.94 2.06.94-2.06 2.06-.94-2.06-.94-.94-2.06-.94 2.06-2.06.94zm-11 1L8.5 8.5l.94-2.06 2.06-.94-2.06-.94L8.5 2.5l-.94 2.06-2.06.94zm10 10l.94 2.06.94-2.06 2.06-.94-2.06-.94-.94-2.06-.94 2.06-2.06.94z\"/><path d=\"M17.41 7.96l-1.37-1.37c-.4-.4-.92-.59-1.43-.59-.52 0-1.04.2-1.43.59L10.3 9.45l-7.72 7.72c-.78.78-.78 2.05 0 2.83L4 21.41c.39.39.9.59 1.41.59.51 0 1.02-.2 1.41-.59l7.78-7.78 2.81-2.81c.8-.78.8-2.07 0-2.86zM5.41 20L4 18.59l7.72-7.72 1.47 1.35L5.41 20z\"/>\n",
              "  </svg>\n",
              "      </button>\n",
              "      \n",
              "  <style>\n",
              "    .colab-df-container {\n",
              "      display:flex;\n",
              "      flex-wrap:wrap;\n",
              "      gap: 12px;\n",
              "    }\n",
              "\n",
              "    .colab-df-convert {\n",
              "      background-color: #E8F0FE;\n",
              "      border: none;\n",
              "      border-radius: 50%;\n",
              "      cursor: pointer;\n",
              "      display: none;\n",
              "      fill: #1967D2;\n",
              "      height: 32px;\n",
              "      padding: 0 0 0 0;\n",
              "      width: 32px;\n",
              "    }\n",
              "\n",
              "    .colab-df-convert:hover {\n",
              "      background-color: #E2EBFA;\n",
              "      box-shadow: 0px 1px 2px rgba(60, 64, 67, 0.3), 0px 1px 3px 1px rgba(60, 64, 67, 0.15);\n",
              "      fill: #174EA6;\n",
              "    }\n",
              "\n",
              "    [theme=dark] .colab-df-convert {\n",
              "      background-color: #3B4455;\n",
              "      fill: #D2E3FC;\n",
              "    }\n",
              "\n",
              "    [theme=dark] .colab-df-convert:hover {\n",
              "      background-color: #434B5C;\n",
              "      box-shadow: 0px 1px 3px 1px rgba(0, 0, 0, 0.15);\n",
              "      filter: drop-shadow(0px 1px 2px rgba(0, 0, 0, 0.3));\n",
              "      fill: #FFFFFF;\n",
              "    }\n",
              "  </style>\n",
              "\n",
              "      <script>\n",
              "        const buttonEl =\n",
              "          document.querySelector('#df-cfb0cad7-32d9-408b-8926-7c3c7033280e button.colab-df-convert');\n",
              "        buttonEl.style.display =\n",
              "          google.colab.kernel.accessAllowed ? 'block' : 'none';\n",
              "\n",
              "        async function convertToInteractive(key) {\n",
              "          const element = document.querySelector('#df-cfb0cad7-32d9-408b-8926-7c3c7033280e');\n",
              "          const dataTable =\n",
              "            await google.colab.kernel.invokeFunction('convertToInteractive',\n",
              "                                                     [key], {});\n",
              "          if (!dataTable) return;\n",
              "\n",
              "          const docLinkHtml = 'Like what you see? Visit the ' +\n",
              "            '<a target=\"_blank\" href=https://colab.research.google.com/notebooks/data_table.ipynb>data table notebook</a>'\n",
              "            + ' to learn more about interactive tables.';\n",
              "          element.innerHTML = '';\n",
              "          dataTable['output_type'] = 'display_data';\n",
              "          await google.colab.output.renderOutput(dataTable, element);\n",
              "          const docLink = document.createElement('div');\n",
              "          docLink.innerHTML = docLinkHtml;\n",
              "          element.appendChild(docLink);\n",
              "        }\n",
              "      </script>\n",
              "    </div>\n",
              "  </div>\n",
              "  "
            ]
          },
          "metadata": {},
          "execution_count": 23
        }
      ],
      "source": [
        "ipl_df.head()"
      ]
    },
    {
      "cell_type": "markdown",
      "metadata": {
        "id": "jRFrIO4m5CWi"
      },
      "source": [
        "# Split the Dataset"
      ]
    },
    {
      "cell_type": "code",
      "execution_count": 24,
      "metadata": {
        "colab": {
          "base_uri": "https://localhost:8080/"
        },
        "id": "G_2TNY6JP523",
        "outputId": "48be782b-5c59-49fb-9645-c3d59e0f7de1"
      },
      "outputs": [
        {
          "output_type": "stream",
          "name": "stdout",
          "text": [
            "Shape of training set is 39553, 23\n",
            "Shape of testing set is 14258, 23\n"
          ]
        }
      ],
      "source": [
        "# Split the data into training and testing set by year 2008 to 2020, take mid year value \n",
        "train_set = ipl_df[ipl_df['date'].dt.year <= 2014]\n",
        "test_set = ipl_df[ipl_df['date'].dt.year > 2014]\n",
        "\n",
        "print('Shape of training set is %d, %d'%(train_set.shape[0], train_set.shape[1]))\n",
        "print('Shape of testing set is %d, %d'%(test_set.shape[0], test_set.shape[1]))\n"
      ]
    },
    {
      "cell_type": "code",
      "execution_count": 25,
      "metadata": {
        "colab": {
          "base_uri": "https://localhost:8080/"
        },
        "id": "b0w_s8jqQSid",
        "outputId": "f9d3be55-9f36-4b15-bb9e-b5e14306930f"
      },
      "outputs": [
        {
          "output_type": "stream",
          "name": "stderr",
          "text": [
            "/usr/local/lib/python3.8/dist-packages/pandas/core/frame.py:4906: SettingWithCopyWarning: \n",
            "A value is trying to be set on a copy of a slice from a DataFrame\n",
            "\n",
            "See the caveats in the documentation: https://pandas.pydata.org/pandas-docs/stable/user_guide/indexing.html#returning-a-view-versus-a-copy\n",
            "  return super().drop(\n"
          ]
        }
      ],
      "source": [
        "# Drop the date columns since its not needed here for modelling\n",
        "train_set.drop(['date'], axis = 1, inplace = True)\n",
        "test_set.drop(['date'], axis = 1, inplace = True)"
      ]
    },
    {
      "cell_type": "markdown",
      "metadata": {
        "id": "q4r3s29T5CWi"
      },
      "source": [
        "Standardize the Data"
      ]
    },
    {
      "cell_type": "code",
      "execution_count": 26,
      "metadata": {
        "colab": {
          "base_uri": "https://localhost:8080/"
        },
        "id": "bQbvboWWQWfZ",
        "outputId": "782b556f-8b87-4263-9b8d-1d78112a20a8"
      },
      "outputs": [
        {
          "output_type": "stream",
          "name": "stderr",
          "text": [
            "<ipython-input-26-f1f15013d54c>:11: SettingWithCopyWarning: \n",
            "A value is trying to be set on a copy of a slice from a DataFrame.\n",
            "Try using .loc[row_indexer,col_indexer] = value instead\n",
            "\n",
            "See the caveats in the documentation: https://pandas.pydata.org/pandas-docs/stable/user_guide/indexing.html#returning-a-view-versus-a-copy\n",
            "  train_set[column] = ss.fit_transform(train_set[column].values.reshape((-1,1)))\n",
            "<ipython-input-26-f1f15013d54c>:11: SettingWithCopyWarning: \n",
            "A value is trying to be set on a copy of a slice from a DataFrame.\n",
            "Try using .loc[row_indexer,col_indexer] = value instead\n",
            "\n",
            "See the caveats in the documentation: https://pandas.pydata.org/pandas-docs/stable/user_guide/indexing.html#returning-a-view-versus-a-copy\n",
            "  train_set[column] = ss.fit_transform(train_set[column].values.reshape((-1,1)))\n",
            "<ipython-input-26-f1f15013d54c>:11: SettingWithCopyWarning: \n",
            "A value is trying to be set on a copy of a slice from a DataFrame.\n",
            "Try using .loc[row_indexer,col_indexer] = value instead\n",
            "\n",
            "See the caveats in the documentation: https://pandas.pydata.org/pandas-docs/stable/user_guide/indexing.html#returning-a-view-versus-a-copy\n",
            "  train_set[column] = ss.fit_transform(train_set[column].values.reshape((-1,1)))\n",
            "<ipython-input-26-f1f15013d54c>:11: SettingWithCopyWarning: \n",
            "A value is trying to be set on a copy of a slice from a DataFrame.\n",
            "Try using .loc[row_indexer,col_indexer] = value instead\n",
            "\n",
            "See the caveats in the documentation: https://pandas.pydata.org/pandas-docs/stable/user_guide/indexing.html#returning-a-view-versus-a-copy\n",
            "  train_set[column] = ss.fit_transform(train_set[column].values.reshape((-1,1)))\n",
            "<ipython-input-26-f1f15013d54c>:11: SettingWithCopyWarning: \n",
            "A value is trying to be set on a copy of a slice from a DataFrame.\n",
            "Try using .loc[row_indexer,col_indexer] = value instead\n",
            "\n",
            "See the caveats in the documentation: https://pandas.pydata.org/pandas-docs/stable/user_guide/indexing.html#returning-a-view-versus-a-copy\n",
            "  train_set[column] = ss.fit_transform(train_set[column].values.reshape((-1,1)))\n",
            "<ipython-input-26-f1f15013d54c>:11: SettingWithCopyWarning: \n",
            "A value is trying to be set on a copy of a slice from a DataFrame.\n",
            "Try using .loc[row_indexer,col_indexer] = value instead\n",
            "\n",
            "See the caveats in the documentation: https://pandas.pydata.org/pandas-docs/stable/user_guide/indexing.html#returning-a-view-versus-a-copy\n",
            "  train_set[column] = ss.fit_transform(train_set[column].values.reshape((-1,1)))\n",
            "<ipython-input-26-f1f15013d54c>:11: SettingWithCopyWarning: \n",
            "A value is trying to be set on a copy of a slice from a DataFrame.\n",
            "Try using .loc[row_indexer,col_indexer] = value instead\n",
            "\n",
            "See the caveats in the documentation: https://pandas.pydata.org/pandas-docs/stable/user_guide/indexing.html#returning-a-view-versus-a-copy\n",
            "  train_set[column] = ss.fit_transform(train_set[column].values.reshape((-1,1)))\n",
            "<ipython-input-26-f1f15013d54c>:11: SettingWithCopyWarning: \n",
            "A value is trying to be set on a copy of a slice from a DataFrame.\n",
            "Try using .loc[row_indexer,col_indexer] = value instead\n",
            "\n",
            "See the caveats in the documentation: https://pandas.pydata.org/pandas-docs/stable/user_guide/indexing.html#returning-a-view-versus-a-copy\n",
            "  train_set[column] = ss.fit_transform(train_set[column].values.reshape((-1,1)))\n",
            "<ipython-input-26-f1f15013d54c>:11: SettingWithCopyWarning: \n",
            "A value is trying to be set on a copy of a slice from a DataFrame.\n",
            "Try using .loc[row_indexer,col_indexer] = value instead\n",
            "\n",
            "See the caveats in the documentation: https://pandas.pydata.org/pandas-docs/stable/user_guide/indexing.html#returning-a-view-versus-a-copy\n",
            "  train_set[column] = ss.fit_transform(train_set[column].values.reshape((-1,1)))\n",
            "<ipython-input-26-f1f15013d54c>:11: SettingWithCopyWarning: \n",
            "A value is trying to be set on a copy of a slice from a DataFrame.\n",
            "Try using .loc[row_indexer,col_indexer] = value instead\n",
            "\n",
            "See the caveats in the documentation: https://pandas.pydata.org/pandas-docs/stable/user_guide/indexing.html#returning-a-view-versus-a-copy\n",
            "  train_set[column] = ss.fit_transform(train_set[column].values.reshape((-1,1)))\n",
            "<ipython-input-26-f1f15013d54c>:11: SettingWithCopyWarning: \n",
            "A value is trying to be set on a copy of a slice from a DataFrame.\n",
            "Try using .loc[row_indexer,col_indexer] = value instead\n",
            "\n",
            "See the caveats in the documentation: https://pandas.pydata.org/pandas-docs/stable/user_guide/indexing.html#returning-a-view-versus-a-copy\n",
            "  train_set[column] = ss.fit_transform(train_set[column].values.reshape((-1,1)))\n",
            "<ipython-input-26-f1f15013d54c>:11: SettingWithCopyWarning: \n",
            "A value is trying to be set on a copy of a slice from a DataFrame.\n",
            "Try using .loc[row_indexer,col_indexer] = value instead\n",
            "\n",
            "See the caveats in the documentation: https://pandas.pydata.org/pandas-docs/stable/user_guide/indexing.html#returning-a-view-versus-a-copy\n",
            "  train_set[column] = ss.fit_transform(train_set[column].values.reshape((-1,1)))\n",
            "<ipython-input-26-f1f15013d54c>:11: SettingWithCopyWarning: \n",
            "A value is trying to be set on a copy of a slice from a DataFrame.\n",
            "Try using .loc[row_indexer,col_indexer] = value instead\n",
            "\n",
            "See the caveats in the documentation: https://pandas.pydata.org/pandas-docs/stable/user_guide/indexing.html#returning-a-view-versus-a-copy\n",
            "  train_set[column] = ss.fit_transform(train_set[column].values.reshape((-1,1)))\n",
            "<ipython-input-26-f1f15013d54c>:11: SettingWithCopyWarning: \n",
            "A value is trying to be set on a copy of a slice from a DataFrame.\n",
            "Try using .loc[row_indexer,col_indexer] = value instead\n",
            "\n",
            "See the caveats in the documentation: https://pandas.pydata.org/pandas-docs/stable/user_guide/indexing.html#returning-a-view-versus-a-copy\n",
            "  train_set[column] = ss.fit_transform(train_set[column].values.reshape((-1,1)))\n",
            "<ipython-input-26-f1f15013d54c>:11: SettingWithCopyWarning: \n",
            "A value is trying to be set on a copy of a slice from a DataFrame.\n",
            "Try using .loc[row_indexer,col_indexer] = value instead\n",
            "\n",
            "See the caveats in the documentation: https://pandas.pydata.org/pandas-docs/stable/user_guide/indexing.html#returning-a-view-versus-a-copy\n",
            "  train_set[column] = ss.fit_transform(train_set[column].values.reshape((-1,1)))\n",
            "<ipython-input-26-f1f15013d54c>:11: SettingWithCopyWarning: \n",
            "A value is trying to be set on a copy of a slice from a DataFrame.\n",
            "Try using .loc[row_indexer,col_indexer] = value instead\n",
            "\n",
            "See the caveats in the documentation: https://pandas.pydata.org/pandas-docs/stable/user_guide/indexing.html#returning-a-view-versus-a-copy\n",
            "  train_set[column] = ss.fit_transform(train_set[column].values.reshape((-1,1)))\n",
            "<ipython-input-26-f1f15013d54c>:11: SettingWithCopyWarning: \n",
            "A value is trying to be set on a copy of a slice from a DataFrame.\n",
            "Try using .loc[row_indexer,col_indexer] = value instead\n",
            "\n",
            "See the caveats in the documentation: https://pandas.pydata.org/pandas-docs/stable/user_guide/indexing.html#returning-a-view-versus-a-copy\n",
            "  train_set[column] = ss.fit_transform(train_set[column].values.reshape((-1,1)))\n",
            "<ipython-input-26-f1f15013d54c>:11: SettingWithCopyWarning: \n",
            "A value is trying to be set on a copy of a slice from a DataFrame.\n",
            "Try using .loc[row_indexer,col_indexer] = value instead\n",
            "\n",
            "See the caveats in the documentation: https://pandas.pydata.org/pandas-docs/stable/user_guide/indexing.html#returning-a-view-versus-a-copy\n",
            "  train_set[column] = ss.fit_transform(train_set[column].values.reshape((-1,1)))\n",
            "<ipython-input-26-f1f15013d54c>:11: SettingWithCopyWarning: \n",
            "A value is trying to be set on a copy of a slice from a DataFrame.\n",
            "Try using .loc[row_indexer,col_indexer] = value instead\n",
            "\n",
            "See the caveats in the documentation: https://pandas.pydata.org/pandas-docs/stable/user_guide/indexing.html#returning-a-view-versus-a-copy\n",
            "  train_set[column] = ss.fit_transform(train_set[column].values.reshape((-1,1)))\n",
            "<ipython-input-26-f1f15013d54c>:11: SettingWithCopyWarning: \n",
            "A value is trying to be set on a copy of a slice from a DataFrame.\n",
            "Try using .loc[row_indexer,col_indexer] = value instead\n",
            "\n",
            "See the caveats in the documentation: https://pandas.pydata.org/pandas-docs/stable/user_guide/indexing.html#returning-a-view-versus-a-copy\n",
            "  train_set[column] = ss.fit_transform(train_set[column].values.reshape((-1,1)))\n",
            "<ipython-input-26-f1f15013d54c>:11: SettingWithCopyWarning: \n",
            "A value is trying to be set on a copy of a slice from a DataFrame.\n",
            "Try using .loc[row_indexer,col_indexer] = value instead\n",
            "\n",
            "See the caveats in the documentation: https://pandas.pydata.org/pandas-docs/stable/user_guide/indexing.html#returning-a-view-versus-a-copy\n",
            "  train_set[column] = ss.fit_transform(train_set[column].values.reshape((-1,1)))\n",
            "<ipython-input-26-f1f15013d54c>:21: SettingWithCopyWarning: \n",
            "A value is trying to be set on a copy of a slice from a DataFrame.\n",
            "Try using .loc[row_indexer,col_indexer] = value instead\n",
            "\n",
            "See the caveats in the documentation: https://pandas.pydata.org/pandas-docs/stable/user_guide/indexing.html#returning-a-view-versus-a-copy\n",
            "  test_set[column] = ss.fit_transform(test_set[column].values.reshape((-1,1)))\n",
            "<ipython-input-26-f1f15013d54c>:21: SettingWithCopyWarning: \n",
            "A value is trying to be set on a copy of a slice from a DataFrame.\n",
            "Try using .loc[row_indexer,col_indexer] = value instead\n",
            "\n",
            "See the caveats in the documentation: https://pandas.pydata.org/pandas-docs/stable/user_guide/indexing.html#returning-a-view-versus-a-copy\n",
            "  test_set[column] = ss.fit_transform(test_set[column].values.reshape((-1,1)))\n",
            "<ipython-input-26-f1f15013d54c>:21: SettingWithCopyWarning: \n",
            "A value is trying to be set on a copy of a slice from a DataFrame.\n",
            "Try using .loc[row_indexer,col_indexer] = value instead\n",
            "\n",
            "See the caveats in the documentation: https://pandas.pydata.org/pandas-docs/stable/user_guide/indexing.html#returning-a-view-versus-a-copy\n",
            "  test_set[column] = ss.fit_transform(test_set[column].values.reshape((-1,1)))\n",
            "<ipython-input-26-f1f15013d54c>:21: SettingWithCopyWarning: \n",
            "A value is trying to be set on a copy of a slice from a DataFrame.\n",
            "Try using .loc[row_indexer,col_indexer] = value instead\n",
            "\n",
            "See the caveats in the documentation: https://pandas.pydata.org/pandas-docs/stable/user_guide/indexing.html#returning-a-view-versus-a-copy\n",
            "  test_set[column] = ss.fit_transform(test_set[column].values.reshape((-1,1)))\n",
            "<ipython-input-26-f1f15013d54c>:21: SettingWithCopyWarning: \n",
            "A value is trying to be set on a copy of a slice from a DataFrame.\n",
            "Try using .loc[row_indexer,col_indexer] = value instead\n",
            "\n",
            "See the caveats in the documentation: https://pandas.pydata.org/pandas-docs/stable/user_guide/indexing.html#returning-a-view-versus-a-copy\n",
            "  test_set[column] = ss.fit_transform(test_set[column].values.reshape((-1,1)))\n",
            "<ipython-input-26-f1f15013d54c>:21: SettingWithCopyWarning: \n",
            "A value is trying to be set on a copy of a slice from a DataFrame.\n",
            "Try using .loc[row_indexer,col_indexer] = value instead\n",
            "\n",
            "See the caveats in the documentation: https://pandas.pydata.org/pandas-docs/stable/user_guide/indexing.html#returning-a-view-versus-a-copy\n",
            "  test_set[column] = ss.fit_transform(test_set[column].values.reshape((-1,1)))\n",
            "<ipython-input-26-f1f15013d54c>:21: SettingWithCopyWarning: \n",
            "A value is trying to be set on a copy of a slice from a DataFrame.\n",
            "Try using .loc[row_indexer,col_indexer] = value instead\n",
            "\n",
            "See the caveats in the documentation: https://pandas.pydata.org/pandas-docs/stable/user_guide/indexing.html#returning-a-view-versus-a-copy\n",
            "  test_set[column] = ss.fit_transform(test_set[column].values.reshape((-1,1)))\n",
            "<ipython-input-26-f1f15013d54c>:21: SettingWithCopyWarning: \n",
            "A value is trying to be set on a copy of a slice from a DataFrame.\n",
            "Try using .loc[row_indexer,col_indexer] = value instead\n",
            "\n",
            "See the caveats in the documentation: https://pandas.pydata.org/pandas-docs/stable/user_guide/indexing.html#returning-a-view-versus-a-copy\n",
            "  test_set[column] = ss.fit_transform(test_set[column].values.reshape((-1,1)))\n",
            "<ipython-input-26-f1f15013d54c>:21: SettingWithCopyWarning: \n",
            "A value is trying to be set on a copy of a slice from a DataFrame.\n",
            "Try using .loc[row_indexer,col_indexer] = value instead\n",
            "\n",
            "See the caveats in the documentation: https://pandas.pydata.org/pandas-docs/stable/user_guide/indexing.html#returning-a-view-versus-a-copy\n",
            "  test_set[column] = ss.fit_transform(test_set[column].values.reshape((-1,1)))\n",
            "<ipython-input-26-f1f15013d54c>:21: SettingWithCopyWarning: \n",
            "A value is trying to be set on a copy of a slice from a DataFrame.\n",
            "Try using .loc[row_indexer,col_indexer] = value instead\n",
            "\n",
            "See the caveats in the documentation: https://pandas.pydata.org/pandas-docs/stable/user_guide/indexing.html#returning-a-view-versus-a-copy\n",
            "  test_set[column] = ss.fit_transform(test_set[column].values.reshape((-1,1)))\n",
            "<ipython-input-26-f1f15013d54c>:21: SettingWithCopyWarning: \n",
            "A value is trying to be set on a copy of a slice from a DataFrame.\n",
            "Try using .loc[row_indexer,col_indexer] = value instead\n",
            "\n",
            "See the caveats in the documentation: https://pandas.pydata.org/pandas-docs/stable/user_guide/indexing.html#returning-a-view-versus-a-copy\n",
            "  test_set[column] = ss.fit_transform(test_set[column].values.reshape((-1,1)))\n",
            "<ipython-input-26-f1f15013d54c>:21: SettingWithCopyWarning: \n",
            "A value is trying to be set on a copy of a slice from a DataFrame.\n",
            "Try using .loc[row_indexer,col_indexer] = value instead\n",
            "\n",
            "See the caveats in the documentation: https://pandas.pydata.org/pandas-docs/stable/user_guide/indexing.html#returning-a-view-versus-a-copy\n",
            "  test_set[column] = ss.fit_transform(test_set[column].values.reshape((-1,1)))\n",
            "<ipython-input-26-f1f15013d54c>:21: SettingWithCopyWarning: \n",
            "A value is trying to be set on a copy of a slice from a DataFrame.\n",
            "Try using .loc[row_indexer,col_indexer] = value instead\n",
            "\n",
            "See the caveats in the documentation: https://pandas.pydata.org/pandas-docs/stable/user_guide/indexing.html#returning-a-view-versus-a-copy\n",
            "  test_set[column] = ss.fit_transform(test_set[column].values.reshape((-1,1)))\n",
            "<ipython-input-26-f1f15013d54c>:21: SettingWithCopyWarning: \n",
            "A value is trying to be set on a copy of a slice from a DataFrame.\n",
            "Try using .loc[row_indexer,col_indexer] = value instead\n",
            "\n",
            "See the caveats in the documentation: https://pandas.pydata.org/pandas-docs/stable/user_guide/indexing.html#returning-a-view-versus-a-copy\n",
            "  test_set[column] = ss.fit_transform(test_set[column].values.reshape((-1,1)))\n",
            "<ipython-input-26-f1f15013d54c>:21: SettingWithCopyWarning: \n",
            "A value is trying to be set on a copy of a slice from a DataFrame.\n",
            "Try using .loc[row_indexer,col_indexer] = value instead\n",
            "\n",
            "See the caveats in the documentation: https://pandas.pydata.org/pandas-docs/stable/user_guide/indexing.html#returning-a-view-versus-a-copy\n",
            "  test_set[column] = ss.fit_transform(test_set[column].values.reshape((-1,1)))\n",
            "<ipython-input-26-f1f15013d54c>:21: SettingWithCopyWarning: \n",
            "A value is trying to be set on a copy of a slice from a DataFrame.\n",
            "Try using .loc[row_indexer,col_indexer] = value instead\n",
            "\n",
            "See the caveats in the documentation: https://pandas.pydata.org/pandas-docs/stable/user_guide/indexing.html#returning-a-view-versus-a-copy\n",
            "  test_set[column] = ss.fit_transform(test_set[column].values.reshape((-1,1)))\n",
            "<ipython-input-26-f1f15013d54c>:21: SettingWithCopyWarning: \n",
            "A value is trying to be set on a copy of a slice from a DataFrame.\n",
            "Try using .loc[row_indexer,col_indexer] = value instead\n",
            "\n",
            "See the caveats in the documentation: https://pandas.pydata.org/pandas-docs/stable/user_guide/indexing.html#returning-a-view-versus-a-copy\n",
            "  test_set[column] = ss.fit_transform(test_set[column].values.reshape((-1,1)))\n",
            "<ipython-input-26-f1f15013d54c>:21: SettingWithCopyWarning: \n",
            "A value is trying to be set on a copy of a slice from a DataFrame.\n",
            "Try using .loc[row_indexer,col_indexer] = value instead\n",
            "\n",
            "See the caveats in the documentation: https://pandas.pydata.org/pandas-docs/stable/user_guide/indexing.html#returning-a-view-versus-a-copy\n",
            "  test_set[column] = ss.fit_transform(test_set[column].values.reshape((-1,1)))\n",
            "<ipython-input-26-f1f15013d54c>:21: SettingWithCopyWarning: \n",
            "A value is trying to be set on a copy of a slice from a DataFrame.\n",
            "Try using .loc[row_indexer,col_indexer] = value instead\n",
            "\n",
            "See the caveats in the documentation: https://pandas.pydata.org/pandas-docs/stable/user_guide/indexing.html#returning-a-view-versus-a-copy\n",
            "  test_set[column] = ss.fit_transform(test_set[column].values.reshape((-1,1)))\n",
            "<ipython-input-26-f1f15013d54c>:21: SettingWithCopyWarning: \n",
            "A value is trying to be set on a copy of a slice from a DataFrame.\n",
            "Try using .loc[row_indexer,col_indexer] = value instead\n",
            "\n",
            "See the caveats in the documentation: https://pandas.pydata.org/pandas-docs/stable/user_guide/indexing.html#returning-a-view-versus-a-copy\n",
            "  test_set[column] = ss.fit_transform(test_set[column].values.reshape((-1,1)))\n",
            "<ipython-input-26-f1f15013d54c>:21: SettingWithCopyWarning: \n",
            "A value is trying to be set on a copy of a slice from a DataFrame.\n",
            "Try using .loc[row_indexer,col_indexer] = value instead\n",
            "\n",
            "See the caveats in the documentation: https://pandas.pydata.org/pandas-docs/stable/user_guide/indexing.html#returning-a-view-versus-a-copy\n",
            "  test_set[column] = ss.fit_transform(test_set[column].values.reshape((-1,1)))\n"
          ]
        }
      ],
      "source": [
        "# Performing the standardization on the train and test set\n",
        "from sklearn.preprocessing import StandardScaler\n",
        "\n",
        "# Fit the standard scaler\n",
        "for column in train_set.columns:\n",
        "  \n",
        "  if column != 'total':\n",
        " \n",
        "    ss = StandardScaler()\n",
        "    # Fit every column\n",
        "    train_set[column] = ss.fit_transform(train_set[column].values.reshape((-1,1)))\n",
        "'''(X-X.mean())/X.std()'''\n",
        "\n",
        "\n",
        "for column in test_set.columns:\n",
        "\n",
        "  if column != 'total':\n",
        "   \n",
        "    ss = StandardScaler()\n",
        "    # Fit every column\n",
        "    test_set[column] = ss.fit_transform(test_set[column].values.reshape((-1,1)))"
      ]
    },
    {
      "cell_type": "code",
      "execution_count": 27,
      "metadata": {
        "colab": {
          "base_uri": "https://localhost:8080/",
          "height": 334
        },
        "id": "U0RCmCQeQean",
        "outputId": "fb6bded5-f306-4486-96d3-06d88e245cec"
      },
      "outputs": [
        {
          "output_type": "execute_result",
          "data": {
            "text/plain": [
              "       runs   wickets     overs  runs_last_5  wickets_last_5  total  \\\n",
              "0 -1.503409 -1.208394 -1.675117    -2.141963       -1.061525    222   \n",
              "1 -1.503409 -1.208394 -1.657796    -2.141963       -1.061525    222   \n",
              "2 -1.482893 -1.208394 -1.657796    -2.074966       -1.061525    222   \n",
              "3 -1.482893 -1.208394 -1.640474    -2.074966       -1.061525    222   \n",
              "4 -1.482893 -1.208394 -1.623152    -2.074966       -1.061525    222   \n",
              "\n",
              "   bat_team_Chennai Super Kings  bat_team_Delhi Daredevils  \\\n",
              "0                     -0.430077                  -0.349842   \n",
              "1                     -0.430077                  -0.349842   \n",
              "2                     -0.430077                  -0.349842   \n",
              "3                     -0.430077                  -0.349842   \n",
              "4                     -0.430077                  -0.349842   \n",
              "\n",
              "   bat_team_Kings XI Punjab  bat_team_Kolkata Knight Riders  ...  \\\n",
              "0                 -0.416038                        2.704569  ...   \n",
              "1                 -0.416038                        2.704569  ...   \n",
              "2                 -0.416038                        2.704569  ...   \n",
              "3                 -0.416038                        2.704569  ...   \n",
              "4                 -0.416038                        2.704569  ...   \n",
              "\n",
              "   bat_team_Royal Challengers Bangalore  bat_team_Sunrisers Hyderabad  \\\n",
              "0                             -0.368551                     -0.237921   \n",
              "1                             -0.368551                     -0.237921   \n",
              "2                             -0.368551                     -0.237921   \n",
              "3                             -0.368551                     -0.237921   \n",
              "4                             -0.368551                     -0.237921   \n",
              "\n",
              "   bowl_team_Chennai Super Kings  bowl_team_Delhi Daredevils  \\\n",
              "0                      -0.391127                    -0.41967   \n",
              "1                      -0.391127                    -0.41967   \n",
              "2                      -0.391127                    -0.41967   \n",
              "3                      -0.391127                    -0.41967   \n",
              "4                      -0.391127                    -0.41967   \n",
              "\n",
              "   bowl_team_Kings XI Punjab  bowl_team_Kolkata Knight Riders  \\\n",
              "0                   -0.36771                        -0.402396   \n",
              "1                   -0.36771                        -0.402396   \n",
              "2                   -0.36771                        -0.402396   \n",
              "3                   -0.36771                        -0.402396   \n",
              "4                   -0.36771                        -0.402396   \n",
              "\n",
              "   bowl_team_Mumbai Indians  bowl_team_Rajasthan Royals  \\\n",
              "0                 -0.394215                   -0.398358   \n",
              "1                 -0.394215                   -0.398358   \n",
              "2                 -0.394215                   -0.398358   \n",
              "3                 -0.394215                   -0.398358   \n",
              "4                 -0.394215                   -0.398358   \n",
              "\n",
              "   bowl_team_Royal Challengers Bangalore  bowl_team_Sunrisers Hyderabad  \n",
              "0                               2.349333                      -0.188343  \n",
              "1                               2.349333                      -0.188343  \n",
              "2                               2.349333                      -0.188343  \n",
              "3                               2.349333                      -0.188343  \n",
              "4                               2.349333                      -0.188343  \n",
              "\n",
              "[5 rows x 22 columns]"
            ],
            "text/html": [
              "\n",
              "  <div id=\"df-539c1b16-757d-4b29-9deb-bdad61c2aaed\">\n",
              "    <div class=\"colab-df-container\">\n",
              "      <div>\n",
              "<style scoped>\n",
              "    .dataframe tbody tr th:only-of-type {\n",
              "        vertical-align: middle;\n",
              "    }\n",
              "\n",
              "    .dataframe tbody tr th {\n",
              "        vertical-align: top;\n",
              "    }\n",
              "\n",
              "    .dataframe thead th {\n",
              "        text-align: right;\n",
              "    }\n",
              "</style>\n",
              "<table border=\"1\" class=\"dataframe\">\n",
              "  <thead>\n",
              "    <tr style=\"text-align: right;\">\n",
              "      <th></th>\n",
              "      <th>runs</th>\n",
              "      <th>wickets</th>\n",
              "      <th>overs</th>\n",
              "      <th>runs_last_5</th>\n",
              "      <th>wickets_last_5</th>\n",
              "      <th>total</th>\n",
              "      <th>bat_team_Chennai Super Kings</th>\n",
              "      <th>bat_team_Delhi Daredevils</th>\n",
              "      <th>bat_team_Kings XI Punjab</th>\n",
              "      <th>bat_team_Kolkata Knight Riders</th>\n",
              "      <th>...</th>\n",
              "      <th>bat_team_Royal Challengers Bangalore</th>\n",
              "      <th>bat_team_Sunrisers Hyderabad</th>\n",
              "      <th>bowl_team_Chennai Super Kings</th>\n",
              "      <th>bowl_team_Delhi Daredevils</th>\n",
              "      <th>bowl_team_Kings XI Punjab</th>\n",
              "      <th>bowl_team_Kolkata Knight Riders</th>\n",
              "      <th>bowl_team_Mumbai Indians</th>\n",
              "      <th>bowl_team_Rajasthan Royals</th>\n",
              "      <th>bowl_team_Royal Challengers Bangalore</th>\n",
              "      <th>bowl_team_Sunrisers Hyderabad</th>\n",
              "    </tr>\n",
              "  </thead>\n",
              "  <tbody>\n",
              "    <tr>\n",
              "      <th>0</th>\n",
              "      <td>-1.503409</td>\n",
              "      <td>-1.208394</td>\n",
              "      <td>-1.675117</td>\n",
              "      <td>-2.141963</td>\n",
              "      <td>-1.061525</td>\n",
              "      <td>222</td>\n",
              "      <td>-0.430077</td>\n",
              "      <td>-0.349842</td>\n",
              "      <td>-0.416038</td>\n",
              "      <td>2.704569</td>\n",
              "      <td>...</td>\n",
              "      <td>-0.368551</td>\n",
              "      <td>-0.237921</td>\n",
              "      <td>-0.391127</td>\n",
              "      <td>-0.41967</td>\n",
              "      <td>-0.36771</td>\n",
              "      <td>-0.402396</td>\n",
              "      <td>-0.394215</td>\n",
              "      <td>-0.398358</td>\n",
              "      <td>2.349333</td>\n",
              "      <td>-0.188343</td>\n",
              "    </tr>\n",
              "    <tr>\n",
              "      <th>1</th>\n",
              "      <td>-1.503409</td>\n",
              "      <td>-1.208394</td>\n",
              "      <td>-1.657796</td>\n",
              "      <td>-2.141963</td>\n",
              "      <td>-1.061525</td>\n",
              "      <td>222</td>\n",
              "      <td>-0.430077</td>\n",
              "      <td>-0.349842</td>\n",
              "      <td>-0.416038</td>\n",
              "      <td>2.704569</td>\n",
              "      <td>...</td>\n",
              "      <td>-0.368551</td>\n",
              "      <td>-0.237921</td>\n",
              "      <td>-0.391127</td>\n",
              "      <td>-0.41967</td>\n",
              "      <td>-0.36771</td>\n",
              "      <td>-0.402396</td>\n",
              "      <td>-0.394215</td>\n",
              "      <td>-0.398358</td>\n",
              "      <td>2.349333</td>\n",
              "      <td>-0.188343</td>\n",
              "    </tr>\n",
              "    <tr>\n",
              "      <th>2</th>\n",
              "      <td>-1.482893</td>\n",
              "      <td>-1.208394</td>\n",
              "      <td>-1.657796</td>\n",
              "      <td>-2.074966</td>\n",
              "      <td>-1.061525</td>\n",
              "      <td>222</td>\n",
              "      <td>-0.430077</td>\n",
              "      <td>-0.349842</td>\n",
              "      <td>-0.416038</td>\n",
              "      <td>2.704569</td>\n",
              "      <td>...</td>\n",
              "      <td>-0.368551</td>\n",
              "      <td>-0.237921</td>\n",
              "      <td>-0.391127</td>\n",
              "      <td>-0.41967</td>\n",
              "      <td>-0.36771</td>\n",
              "      <td>-0.402396</td>\n",
              "      <td>-0.394215</td>\n",
              "      <td>-0.398358</td>\n",
              "      <td>2.349333</td>\n",
              "      <td>-0.188343</td>\n",
              "    </tr>\n",
              "    <tr>\n",
              "      <th>3</th>\n",
              "      <td>-1.482893</td>\n",
              "      <td>-1.208394</td>\n",
              "      <td>-1.640474</td>\n",
              "      <td>-2.074966</td>\n",
              "      <td>-1.061525</td>\n",
              "      <td>222</td>\n",
              "      <td>-0.430077</td>\n",
              "      <td>-0.349842</td>\n",
              "      <td>-0.416038</td>\n",
              "      <td>2.704569</td>\n",
              "      <td>...</td>\n",
              "      <td>-0.368551</td>\n",
              "      <td>-0.237921</td>\n",
              "      <td>-0.391127</td>\n",
              "      <td>-0.41967</td>\n",
              "      <td>-0.36771</td>\n",
              "      <td>-0.402396</td>\n",
              "      <td>-0.394215</td>\n",
              "      <td>-0.398358</td>\n",
              "      <td>2.349333</td>\n",
              "      <td>-0.188343</td>\n",
              "    </tr>\n",
              "    <tr>\n",
              "      <th>4</th>\n",
              "      <td>-1.482893</td>\n",
              "      <td>-1.208394</td>\n",
              "      <td>-1.623152</td>\n",
              "      <td>-2.074966</td>\n",
              "      <td>-1.061525</td>\n",
              "      <td>222</td>\n",
              "      <td>-0.430077</td>\n",
              "      <td>-0.349842</td>\n",
              "      <td>-0.416038</td>\n",
              "      <td>2.704569</td>\n",
              "      <td>...</td>\n",
              "      <td>-0.368551</td>\n",
              "      <td>-0.237921</td>\n",
              "      <td>-0.391127</td>\n",
              "      <td>-0.41967</td>\n",
              "      <td>-0.36771</td>\n",
              "      <td>-0.402396</td>\n",
              "      <td>-0.394215</td>\n",
              "      <td>-0.398358</td>\n",
              "      <td>2.349333</td>\n",
              "      <td>-0.188343</td>\n",
              "    </tr>\n",
              "  </tbody>\n",
              "</table>\n",
              "<p>5 rows × 22 columns</p>\n",
              "</div>\n",
              "      <button class=\"colab-df-convert\" onclick=\"convertToInteractive('df-539c1b16-757d-4b29-9deb-bdad61c2aaed')\"\n",
              "              title=\"Convert this dataframe to an interactive table.\"\n",
              "              style=\"display:none;\">\n",
              "        \n",
              "  <svg xmlns=\"http://www.w3.org/2000/svg\" height=\"24px\"viewBox=\"0 0 24 24\"\n",
              "       width=\"24px\">\n",
              "    <path d=\"M0 0h24v24H0V0z\" fill=\"none\"/>\n",
              "    <path d=\"M18.56 5.44l.94 2.06.94-2.06 2.06-.94-2.06-.94-.94-2.06-.94 2.06-2.06.94zm-11 1L8.5 8.5l.94-2.06 2.06-.94-2.06-.94L8.5 2.5l-.94 2.06-2.06.94zm10 10l.94 2.06.94-2.06 2.06-.94-2.06-.94-.94-2.06-.94 2.06-2.06.94z\"/><path d=\"M17.41 7.96l-1.37-1.37c-.4-.4-.92-.59-1.43-.59-.52 0-1.04.2-1.43.59L10.3 9.45l-7.72 7.72c-.78.78-.78 2.05 0 2.83L4 21.41c.39.39.9.59 1.41.59.51 0 1.02-.2 1.41-.59l7.78-7.78 2.81-2.81c.8-.78.8-2.07 0-2.86zM5.41 20L4 18.59l7.72-7.72 1.47 1.35L5.41 20z\"/>\n",
              "  </svg>\n",
              "      </button>\n",
              "      \n",
              "  <style>\n",
              "    .colab-df-container {\n",
              "      display:flex;\n",
              "      flex-wrap:wrap;\n",
              "      gap: 12px;\n",
              "    }\n",
              "\n",
              "    .colab-df-convert {\n",
              "      background-color: #E8F0FE;\n",
              "      border: none;\n",
              "      border-radius: 50%;\n",
              "      cursor: pointer;\n",
              "      display: none;\n",
              "      fill: #1967D2;\n",
              "      height: 32px;\n",
              "      padding: 0 0 0 0;\n",
              "      width: 32px;\n",
              "    }\n",
              "\n",
              "    .colab-df-convert:hover {\n",
              "      background-color: #E2EBFA;\n",
              "      box-shadow: 0px 1px 2px rgba(60, 64, 67, 0.3), 0px 1px 3px 1px rgba(60, 64, 67, 0.15);\n",
              "      fill: #174EA6;\n",
              "    }\n",
              "\n",
              "    [theme=dark] .colab-df-convert {\n",
              "      background-color: #3B4455;\n",
              "      fill: #D2E3FC;\n",
              "    }\n",
              "\n",
              "    [theme=dark] .colab-df-convert:hover {\n",
              "      background-color: #434B5C;\n",
              "      box-shadow: 0px 1px 3px 1px rgba(0, 0, 0, 0.15);\n",
              "      filter: drop-shadow(0px 1px 2px rgba(0, 0, 0, 0.3));\n",
              "      fill: #FFFFFF;\n",
              "    }\n",
              "  </style>\n",
              "\n",
              "      <script>\n",
              "        const buttonEl =\n",
              "          document.querySelector('#df-539c1b16-757d-4b29-9deb-bdad61c2aaed button.colab-df-convert');\n",
              "        buttonEl.style.display =\n",
              "          google.colab.kernel.accessAllowed ? 'block' : 'none';\n",
              "\n",
              "        async function convertToInteractive(key) {\n",
              "          const element = document.querySelector('#df-539c1b16-757d-4b29-9deb-bdad61c2aaed');\n",
              "          const dataTable =\n",
              "            await google.colab.kernel.invokeFunction('convertToInteractive',\n",
              "                                                     [key], {});\n",
              "          if (!dataTable) return;\n",
              "\n",
              "          const docLinkHtml = 'Like what you see? Visit the ' +\n",
              "            '<a target=\"_blank\" href=https://colab.research.google.com/notebooks/data_table.ipynb>data table notebook</a>'\n",
              "            + ' to learn more about interactive tables.';\n",
              "          element.innerHTML = '';\n",
              "          dataTable['output_type'] = 'display_data';\n",
              "          await google.colab.output.renderOutput(dataTable, element);\n",
              "          const docLink = document.createElement('div');\n",
              "          docLink.innerHTML = docLinkHtml;\n",
              "          element.appendChild(docLink);\n",
              "        }\n",
              "      </script>\n",
              "    </div>\n",
              "  </div>\n",
              "  "
            ]
          },
          "metadata": {},
          "execution_count": 27
        }
      ],
      "source": [
        "train_set.head()"
      ]
    },
    {
      "cell_type": "code",
      "execution_count": 28,
      "metadata": {
        "colab": {
          "base_uri": "https://localhost:8080/",
          "height": 334
        },
        "id": "PbN0iBllQkl9",
        "outputId": "671db129-9254-4ec8-a59b-1527e5073886"
      },
      "outputs": [
        {
          "output_type": "execute_result",
          "data": {
            "text/plain": [
              "           runs   wickets     overs  runs_last_5  wickets_last_5  total  \\\n",
              "55226 -1.536359 -1.164183 -1.675832    -2.265271       -1.063397    168   \n",
              "55227 -1.516648 -1.164183 -1.658518    -2.199982       -1.063397    168   \n",
              "55228 -1.496937 -1.164183 -1.641205    -2.134693       -1.063397    168   \n",
              "55229 -1.477226 -1.164183 -1.623891    -2.069403       -1.063397    168   \n",
              "55230 -1.457515 -1.164183 -1.606578    -2.004114       -1.063397    168   \n",
              "\n",
              "       bat_team_Chennai Super Kings  bat_team_Delhi Daredevils  \\\n",
              "55226                     -0.324983                  -0.369034   \n",
              "55227                     -0.324983                  -0.369034   \n",
              "55228                     -0.324983                  -0.369034   \n",
              "55229                     -0.324983                  -0.369034   \n",
              "55230                     -0.324983                  -0.369034   \n",
              "\n",
              "       bat_team_Kings XI Punjab  bat_team_Kolkata Knight Riders  ...  \\\n",
              "55226                 -0.410134                       -0.348357  ...   \n",
              "55227                 -0.410134                       -0.348357  ...   \n",
              "55228                 -0.410134                       -0.348357  ...   \n",
              "55229                 -0.410134                       -0.348357  ...   \n",
              "55230                 -0.410134                       -0.348357  ...   \n",
              "\n",
              "       bat_team_Royal Challengers Bangalore  bat_team_Sunrisers Hyderabad  \\\n",
              "55226                              -0.41711                     -0.472586   \n",
              "55227                              -0.41711                     -0.472586   \n",
              "55228                              -0.41711                     -0.472586   \n",
              "55229                              -0.41711                     -0.472586   \n",
              "55230                              -0.41711                     -0.472586   \n",
              "\n",
              "       bowl_team_Chennai Super Kings  bowl_team_Delhi Daredevils  \\\n",
              "55226                      -0.234968                   -0.444237   \n",
              "55227                      -0.234968                   -0.444237   \n",
              "55228                      -0.234968                   -0.444237   \n",
              "55229                      -0.234968                   -0.444237   \n",
              "55230                      -0.234968                   -0.444237   \n",
              "\n",
              "       bowl_team_Kings XI Punjab  bowl_team_Kolkata Knight Riders  \\\n",
              "55226                  -0.400634                         2.117509   \n",
              "55227                  -0.400634                         2.117509   \n",
              "55228                  -0.400634                         2.117509   \n",
              "55229                  -0.400634                         2.117509   \n",
              "55230                  -0.400634                         2.117509   \n",
              "\n",
              "       bowl_team_Mumbai Indians  bowl_team_Rajasthan Royals  \\\n",
              "55226                 -0.445481                   -0.273899   \n",
              "55227                 -0.445481                   -0.273899   \n",
              "55228                 -0.445481                   -0.273899   \n",
              "55229                 -0.445481                   -0.273899   \n",
              "55230                 -0.445481                   -0.273899   \n",
              "\n",
              "       bowl_team_Royal Challengers Bangalore  bowl_team_Sunrisers Hyderabad  \n",
              "55226                              -0.372216                      -0.342762  \n",
              "55227                              -0.372216                      -0.342762  \n",
              "55228                              -0.372216                      -0.342762  \n",
              "55229                              -0.372216                      -0.342762  \n",
              "55230                              -0.372216                      -0.342762  \n",
              "\n",
              "[5 rows x 22 columns]"
            ],
            "text/html": [
              "\n",
              "  <div id=\"df-8dc040bc-30d1-48bf-bf51-ebc49322e458\">\n",
              "    <div class=\"colab-df-container\">\n",
              "      <div>\n",
              "<style scoped>\n",
              "    .dataframe tbody tr th:only-of-type {\n",
              "        vertical-align: middle;\n",
              "    }\n",
              "\n",
              "    .dataframe tbody tr th {\n",
              "        vertical-align: top;\n",
              "    }\n",
              "\n",
              "    .dataframe thead th {\n",
              "        text-align: right;\n",
              "    }\n",
              "</style>\n",
              "<table border=\"1\" class=\"dataframe\">\n",
              "  <thead>\n",
              "    <tr style=\"text-align: right;\">\n",
              "      <th></th>\n",
              "      <th>runs</th>\n",
              "      <th>wickets</th>\n",
              "      <th>overs</th>\n",
              "      <th>runs_last_5</th>\n",
              "      <th>wickets_last_5</th>\n",
              "      <th>total</th>\n",
              "      <th>bat_team_Chennai Super Kings</th>\n",
              "      <th>bat_team_Delhi Daredevils</th>\n",
              "      <th>bat_team_Kings XI Punjab</th>\n",
              "      <th>bat_team_Kolkata Knight Riders</th>\n",
              "      <th>...</th>\n",
              "      <th>bat_team_Royal Challengers Bangalore</th>\n",
              "      <th>bat_team_Sunrisers Hyderabad</th>\n",
              "      <th>bowl_team_Chennai Super Kings</th>\n",
              "      <th>bowl_team_Delhi Daredevils</th>\n",
              "      <th>bowl_team_Kings XI Punjab</th>\n",
              "      <th>bowl_team_Kolkata Knight Riders</th>\n",
              "      <th>bowl_team_Mumbai Indians</th>\n",
              "      <th>bowl_team_Rajasthan Royals</th>\n",
              "      <th>bowl_team_Royal Challengers Bangalore</th>\n",
              "      <th>bowl_team_Sunrisers Hyderabad</th>\n",
              "    </tr>\n",
              "  </thead>\n",
              "  <tbody>\n",
              "    <tr>\n",
              "      <th>55226</th>\n",
              "      <td>-1.536359</td>\n",
              "      <td>-1.164183</td>\n",
              "      <td>-1.675832</td>\n",
              "      <td>-2.265271</td>\n",
              "      <td>-1.063397</td>\n",
              "      <td>168</td>\n",
              "      <td>-0.324983</td>\n",
              "      <td>-0.369034</td>\n",
              "      <td>-0.410134</td>\n",
              "      <td>-0.348357</td>\n",
              "      <td>...</td>\n",
              "      <td>-0.41711</td>\n",
              "      <td>-0.472586</td>\n",
              "      <td>-0.234968</td>\n",
              "      <td>-0.444237</td>\n",
              "      <td>-0.400634</td>\n",
              "      <td>2.117509</td>\n",
              "      <td>-0.445481</td>\n",
              "      <td>-0.273899</td>\n",
              "      <td>-0.372216</td>\n",
              "      <td>-0.342762</td>\n",
              "    </tr>\n",
              "    <tr>\n",
              "      <th>55227</th>\n",
              "      <td>-1.516648</td>\n",
              "      <td>-1.164183</td>\n",
              "      <td>-1.658518</td>\n",
              "      <td>-2.199982</td>\n",
              "      <td>-1.063397</td>\n",
              "      <td>168</td>\n",
              "      <td>-0.324983</td>\n",
              "      <td>-0.369034</td>\n",
              "      <td>-0.410134</td>\n",
              "      <td>-0.348357</td>\n",
              "      <td>...</td>\n",
              "      <td>-0.41711</td>\n",
              "      <td>-0.472586</td>\n",
              "      <td>-0.234968</td>\n",
              "      <td>-0.444237</td>\n",
              "      <td>-0.400634</td>\n",
              "      <td>2.117509</td>\n",
              "      <td>-0.445481</td>\n",
              "      <td>-0.273899</td>\n",
              "      <td>-0.372216</td>\n",
              "      <td>-0.342762</td>\n",
              "    </tr>\n",
              "    <tr>\n",
              "      <th>55228</th>\n",
              "      <td>-1.496937</td>\n",
              "      <td>-1.164183</td>\n",
              "      <td>-1.641205</td>\n",
              "      <td>-2.134693</td>\n",
              "      <td>-1.063397</td>\n",
              "      <td>168</td>\n",
              "      <td>-0.324983</td>\n",
              "      <td>-0.369034</td>\n",
              "      <td>-0.410134</td>\n",
              "      <td>-0.348357</td>\n",
              "      <td>...</td>\n",
              "      <td>-0.41711</td>\n",
              "      <td>-0.472586</td>\n",
              "      <td>-0.234968</td>\n",
              "      <td>-0.444237</td>\n",
              "      <td>-0.400634</td>\n",
              "      <td>2.117509</td>\n",
              "      <td>-0.445481</td>\n",
              "      <td>-0.273899</td>\n",
              "      <td>-0.372216</td>\n",
              "      <td>-0.342762</td>\n",
              "    </tr>\n",
              "    <tr>\n",
              "      <th>55229</th>\n",
              "      <td>-1.477226</td>\n",
              "      <td>-1.164183</td>\n",
              "      <td>-1.623891</td>\n",
              "      <td>-2.069403</td>\n",
              "      <td>-1.063397</td>\n",
              "      <td>168</td>\n",
              "      <td>-0.324983</td>\n",
              "      <td>-0.369034</td>\n",
              "      <td>-0.410134</td>\n",
              "      <td>-0.348357</td>\n",
              "      <td>...</td>\n",
              "      <td>-0.41711</td>\n",
              "      <td>-0.472586</td>\n",
              "      <td>-0.234968</td>\n",
              "      <td>-0.444237</td>\n",
              "      <td>-0.400634</td>\n",
              "      <td>2.117509</td>\n",
              "      <td>-0.445481</td>\n",
              "      <td>-0.273899</td>\n",
              "      <td>-0.372216</td>\n",
              "      <td>-0.342762</td>\n",
              "    </tr>\n",
              "    <tr>\n",
              "      <th>55230</th>\n",
              "      <td>-1.457515</td>\n",
              "      <td>-1.164183</td>\n",
              "      <td>-1.606578</td>\n",
              "      <td>-2.004114</td>\n",
              "      <td>-1.063397</td>\n",
              "      <td>168</td>\n",
              "      <td>-0.324983</td>\n",
              "      <td>-0.369034</td>\n",
              "      <td>-0.410134</td>\n",
              "      <td>-0.348357</td>\n",
              "      <td>...</td>\n",
              "      <td>-0.41711</td>\n",
              "      <td>-0.472586</td>\n",
              "      <td>-0.234968</td>\n",
              "      <td>-0.444237</td>\n",
              "      <td>-0.400634</td>\n",
              "      <td>2.117509</td>\n",
              "      <td>-0.445481</td>\n",
              "      <td>-0.273899</td>\n",
              "      <td>-0.372216</td>\n",
              "      <td>-0.342762</td>\n",
              "    </tr>\n",
              "  </tbody>\n",
              "</table>\n",
              "<p>5 rows × 22 columns</p>\n",
              "</div>\n",
              "      <button class=\"colab-df-convert\" onclick=\"convertToInteractive('df-8dc040bc-30d1-48bf-bf51-ebc49322e458')\"\n",
              "              title=\"Convert this dataframe to an interactive table.\"\n",
              "              style=\"display:none;\">\n",
              "        \n",
              "  <svg xmlns=\"http://www.w3.org/2000/svg\" height=\"24px\"viewBox=\"0 0 24 24\"\n",
              "       width=\"24px\">\n",
              "    <path d=\"M0 0h24v24H0V0z\" fill=\"none\"/>\n",
              "    <path d=\"M18.56 5.44l.94 2.06.94-2.06 2.06-.94-2.06-.94-.94-2.06-.94 2.06-2.06.94zm-11 1L8.5 8.5l.94-2.06 2.06-.94-2.06-.94L8.5 2.5l-.94 2.06-2.06.94zm10 10l.94 2.06.94-2.06 2.06-.94-2.06-.94-.94-2.06-.94 2.06-2.06.94z\"/><path d=\"M17.41 7.96l-1.37-1.37c-.4-.4-.92-.59-1.43-.59-.52 0-1.04.2-1.43.59L10.3 9.45l-7.72 7.72c-.78.78-.78 2.05 0 2.83L4 21.41c.39.39.9.59 1.41.59.51 0 1.02-.2 1.41-.59l7.78-7.78 2.81-2.81c.8-.78.8-2.07 0-2.86zM5.41 20L4 18.59l7.72-7.72 1.47 1.35L5.41 20z\"/>\n",
              "  </svg>\n",
              "      </button>\n",
              "      \n",
              "  <style>\n",
              "    .colab-df-container {\n",
              "      display:flex;\n",
              "      flex-wrap:wrap;\n",
              "      gap: 12px;\n",
              "    }\n",
              "\n",
              "    .colab-df-convert {\n",
              "      background-color: #E8F0FE;\n",
              "      border: none;\n",
              "      border-radius: 50%;\n",
              "      cursor: pointer;\n",
              "      display: none;\n",
              "      fill: #1967D2;\n",
              "      height: 32px;\n",
              "      padding: 0 0 0 0;\n",
              "      width: 32px;\n",
              "    }\n",
              "\n",
              "    .colab-df-convert:hover {\n",
              "      background-color: #E2EBFA;\n",
              "      box-shadow: 0px 1px 2px rgba(60, 64, 67, 0.3), 0px 1px 3px 1px rgba(60, 64, 67, 0.15);\n",
              "      fill: #174EA6;\n",
              "    }\n",
              "\n",
              "    [theme=dark] .colab-df-convert {\n",
              "      background-color: #3B4455;\n",
              "      fill: #D2E3FC;\n",
              "    }\n",
              "\n",
              "    [theme=dark] .colab-df-convert:hover {\n",
              "      background-color: #434B5C;\n",
              "      box-shadow: 0px 1px 3px 1px rgba(0, 0, 0, 0.15);\n",
              "      filter: drop-shadow(0px 1px 2px rgba(0, 0, 0, 0.3));\n",
              "      fill: #FFFFFF;\n",
              "    }\n",
              "  </style>\n",
              "\n",
              "      <script>\n",
              "        const buttonEl =\n",
              "          document.querySelector('#df-8dc040bc-30d1-48bf-bf51-ebc49322e458 button.colab-df-convert');\n",
              "        buttonEl.style.display =\n",
              "          google.colab.kernel.accessAllowed ? 'block' : 'none';\n",
              "\n",
              "        async function convertToInteractive(key) {\n",
              "          const element = document.querySelector('#df-8dc040bc-30d1-48bf-bf51-ebc49322e458');\n",
              "          const dataTable =\n",
              "            await google.colab.kernel.invokeFunction('convertToInteractive',\n",
              "                                                     [key], {});\n",
              "          if (!dataTable) return;\n",
              "\n",
              "          const docLinkHtml = 'Like what you see? Visit the ' +\n",
              "            '<a target=\"_blank\" href=https://colab.research.google.com/notebooks/data_table.ipynb>data table notebook</a>'\n",
              "            + ' to learn more about interactive tables.';\n",
              "          element.innerHTML = '';\n",
              "          dataTable['output_type'] = 'display_data';\n",
              "          await google.colab.output.renderOutput(dataTable, element);\n",
              "          const docLink = document.createElement('div');\n",
              "          docLink.innerHTML = docLinkHtml;\n",
              "          element.appendChild(docLink);\n",
              "        }\n",
              "      </script>\n",
              "    </div>\n",
              "  </div>\n",
              "  "
            ]
          },
          "metadata": {},
          "execution_count": 28
        }
      ],
      "source": [
        "test_set.head()"
      ]
    },
    {
      "cell_type": "code",
      "execution_count": 29,
      "metadata": {
        "id": "vu8vfqvqQnC-"
      },
      "outputs": [],
      "source": [
        "# Split the training and testing set into X and y\n",
        "X_train, y_train = train_set.drop('total', axis = 1), train_set['total']\n",
        "X_test, y_test = test_set.drop('total', axis = 1), test_set['total']"
      ]
    },
    {
      "cell_type": "code",
      "execution_count": 30,
      "metadata": {
        "colab": {
          "base_uri": "https://localhost:8080/",
          "height": 334
        },
        "id": "S-EWV--dQqQn",
        "outputId": "81a0997e-b628-44f8-86d5-67a642878aff"
      },
      "outputs": [
        {
          "output_type": "execute_result",
          "data": {
            "text/plain": [
              "       runs   wickets     overs  runs_last_5  wickets_last_5  \\\n",
              "0 -1.503409 -1.208394 -1.675117    -2.141963       -1.061525   \n",
              "1 -1.503409 -1.208394 -1.657796    -2.141963       -1.061525   \n",
              "2 -1.482893 -1.208394 -1.657796    -2.074966       -1.061525   \n",
              "3 -1.482893 -1.208394 -1.640474    -2.074966       -1.061525   \n",
              "4 -1.482893 -1.208394 -1.623152    -2.074966       -1.061525   \n",
              "\n",
              "   bat_team_Chennai Super Kings  bat_team_Delhi Daredevils  \\\n",
              "0                     -0.430077                  -0.349842   \n",
              "1                     -0.430077                  -0.349842   \n",
              "2                     -0.430077                  -0.349842   \n",
              "3                     -0.430077                  -0.349842   \n",
              "4                     -0.430077                  -0.349842   \n",
              "\n",
              "   bat_team_Kings XI Punjab  bat_team_Kolkata Knight Riders  \\\n",
              "0                 -0.416038                        2.704569   \n",
              "1                 -0.416038                        2.704569   \n",
              "2                 -0.416038                        2.704569   \n",
              "3                 -0.416038                        2.704569   \n",
              "4                 -0.416038                        2.704569   \n",
              "\n",
              "   bat_team_Mumbai Indians  ...  bat_team_Royal Challengers Bangalore  \\\n",
              "0                -0.431645  ...                             -0.368551   \n",
              "1                -0.431645  ...                             -0.368551   \n",
              "2                -0.431645  ...                             -0.368551   \n",
              "3                -0.431645  ...                             -0.368551   \n",
              "4                -0.431645  ...                             -0.368551   \n",
              "\n",
              "   bat_team_Sunrisers Hyderabad  bowl_team_Chennai Super Kings  \\\n",
              "0                     -0.237921                      -0.391127   \n",
              "1                     -0.237921                      -0.391127   \n",
              "2                     -0.237921                      -0.391127   \n",
              "3                     -0.237921                      -0.391127   \n",
              "4                     -0.237921                      -0.391127   \n",
              "\n",
              "   bowl_team_Delhi Daredevils  bowl_team_Kings XI Punjab  \\\n",
              "0                    -0.41967                   -0.36771   \n",
              "1                    -0.41967                   -0.36771   \n",
              "2                    -0.41967                   -0.36771   \n",
              "3                    -0.41967                   -0.36771   \n",
              "4                    -0.41967                   -0.36771   \n",
              "\n",
              "   bowl_team_Kolkata Knight Riders  bowl_team_Mumbai Indians  \\\n",
              "0                        -0.402396                 -0.394215   \n",
              "1                        -0.402396                 -0.394215   \n",
              "2                        -0.402396                 -0.394215   \n",
              "3                        -0.402396                 -0.394215   \n",
              "4                        -0.402396                 -0.394215   \n",
              "\n",
              "   bowl_team_Rajasthan Royals  bowl_team_Royal Challengers Bangalore  \\\n",
              "0                   -0.398358                               2.349333   \n",
              "1                   -0.398358                               2.349333   \n",
              "2                   -0.398358                               2.349333   \n",
              "3                   -0.398358                               2.349333   \n",
              "4                   -0.398358                               2.349333   \n",
              "\n",
              "   bowl_team_Sunrisers Hyderabad  \n",
              "0                      -0.188343  \n",
              "1                      -0.188343  \n",
              "2                      -0.188343  \n",
              "3                      -0.188343  \n",
              "4                      -0.188343  \n",
              "\n",
              "[5 rows x 21 columns]"
            ],
            "text/html": [
              "\n",
              "  <div id=\"df-1aa1a610-7515-457b-8a39-22c85cbb7f7f\">\n",
              "    <div class=\"colab-df-container\">\n",
              "      <div>\n",
              "<style scoped>\n",
              "    .dataframe tbody tr th:only-of-type {\n",
              "        vertical-align: middle;\n",
              "    }\n",
              "\n",
              "    .dataframe tbody tr th {\n",
              "        vertical-align: top;\n",
              "    }\n",
              "\n",
              "    .dataframe thead th {\n",
              "        text-align: right;\n",
              "    }\n",
              "</style>\n",
              "<table border=\"1\" class=\"dataframe\">\n",
              "  <thead>\n",
              "    <tr style=\"text-align: right;\">\n",
              "      <th></th>\n",
              "      <th>runs</th>\n",
              "      <th>wickets</th>\n",
              "      <th>overs</th>\n",
              "      <th>runs_last_5</th>\n",
              "      <th>wickets_last_5</th>\n",
              "      <th>bat_team_Chennai Super Kings</th>\n",
              "      <th>bat_team_Delhi Daredevils</th>\n",
              "      <th>bat_team_Kings XI Punjab</th>\n",
              "      <th>bat_team_Kolkata Knight Riders</th>\n",
              "      <th>bat_team_Mumbai Indians</th>\n",
              "      <th>...</th>\n",
              "      <th>bat_team_Royal Challengers Bangalore</th>\n",
              "      <th>bat_team_Sunrisers Hyderabad</th>\n",
              "      <th>bowl_team_Chennai Super Kings</th>\n",
              "      <th>bowl_team_Delhi Daredevils</th>\n",
              "      <th>bowl_team_Kings XI Punjab</th>\n",
              "      <th>bowl_team_Kolkata Knight Riders</th>\n",
              "      <th>bowl_team_Mumbai Indians</th>\n",
              "      <th>bowl_team_Rajasthan Royals</th>\n",
              "      <th>bowl_team_Royal Challengers Bangalore</th>\n",
              "      <th>bowl_team_Sunrisers Hyderabad</th>\n",
              "    </tr>\n",
              "  </thead>\n",
              "  <tbody>\n",
              "    <tr>\n",
              "      <th>0</th>\n",
              "      <td>-1.503409</td>\n",
              "      <td>-1.208394</td>\n",
              "      <td>-1.675117</td>\n",
              "      <td>-2.141963</td>\n",
              "      <td>-1.061525</td>\n",
              "      <td>-0.430077</td>\n",
              "      <td>-0.349842</td>\n",
              "      <td>-0.416038</td>\n",
              "      <td>2.704569</td>\n",
              "      <td>-0.431645</td>\n",
              "      <td>...</td>\n",
              "      <td>-0.368551</td>\n",
              "      <td>-0.237921</td>\n",
              "      <td>-0.391127</td>\n",
              "      <td>-0.41967</td>\n",
              "      <td>-0.36771</td>\n",
              "      <td>-0.402396</td>\n",
              "      <td>-0.394215</td>\n",
              "      <td>-0.398358</td>\n",
              "      <td>2.349333</td>\n",
              "      <td>-0.188343</td>\n",
              "    </tr>\n",
              "    <tr>\n",
              "      <th>1</th>\n",
              "      <td>-1.503409</td>\n",
              "      <td>-1.208394</td>\n",
              "      <td>-1.657796</td>\n",
              "      <td>-2.141963</td>\n",
              "      <td>-1.061525</td>\n",
              "      <td>-0.430077</td>\n",
              "      <td>-0.349842</td>\n",
              "      <td>-0.416038</td>\n",
              "      <td>2.704569</td>\n",
              "      <td>-0.431645</td>\n",
              "      <td>...</td>\n",
              "      <td>-0.368551</td>\n",
              "      <td>-0.237921</td>\n",
              "      <td>-0.391127</td>\n",
              "      <td>-0.41967</td>\n",
              "      <td>-0.36771</td>\n",
              "      <td>-0.402396</td>\n",
              "      <td>-0.394215</td>\n",
              "      <td>-0.398358</td>\n",
              "      <td>2.349333</td>\n",
              "      <td>-0.188343</td>\n",
              "    </tr>\n",
              "    <tr>\n",
              "      <th>2</th>\n",
              "      <td>-1.482893</td>\n",
              "      <td>-1.208394</td>\n",
              "      <td>-1.657796</td>\n",
              "      <td>-2.074966</td>\n",
              "      <td>-1.061525</td>\n",
              "      <td>-0.430077</td>\n",
              "      <td>-0.349842</td>\n",
              "      <td>-0.416038</td>\n",
              "      <td>2.704569</td>\n",
              "      <td>-0.431645</td>\n",
              "      <td>...</td>\n",
              "      <td>-0.368551</td>\n",
              "      <td>-0.237921</td>\n",
              "      <td>-0.391127</td>\n",
              "      <td>-0.41967</td>\n",
              "      <td>-0.36771</td>\n",
              "      <td>-0.402396</td>\n",
              "      <td>-0.394215</td>\n",
              "      <td>-0.398358</td>\n",
              "      <td>2.349333</td>\n",
              "      <td>-0.188343</td>\n",
              "    </tr>\n",
              "    <tr>\n",
              "      <th>3</th>\n",
              "      <td>-1.482893</td>\n",
              "      <td>-1.208394</td>\n",
              "      <td>-1.640474</td>\n",
              "      <td>-2.074966</td>\n",
              "      <td>-1.061525</td>\n",
              "      <td>-0.430077</td>\n",
              "      <td>-0.349842</td>\n",
              "      <td>-0.416038</td>\n",
              "      <td>2.704569</td>\n",
              "      <td>-0.431645</td>\n",
              "      <td>...</td>\n",
              "      <td>-0.368551</td>\n",
              "      <td>-0.237921</td>\n",
              "      <td>-0.391127</td>\n",
              "      <td>-0.41967</td>\n",
              "      <td>-0.36771</td>\n",
              "      <td>-0.402396</td>\n",
              "      <td>-0.394215</td>\n",
              "      <td>-0.398358</td>\n",
              "      <td>2.349333</td>\n",
              "      <td>-0.188343</td>\n",
              "    </tr>\n",
              "    <tr>\n",
              "      <th>4</th>\n",
              "      <td>-1.482893</td>\n",
              "      <td>-1.208394</td>\n",
              "      <td>-1.623152</td>\n",
              "      <td>-2.074966</td>\n",
              "      <td>-1.061525</td>\n",
              "      <td>-0.430077</td>\n",
              "      <td>-0.349842</td>\n",
              "      <td>-0.416038</td>\n",
              "      <td>2.704569</td>\n",
              "      <td>-0.431645</td>\n",
              "      <td>...</td>\n",
              "      <td>-0.368551</td>\n",
              "      <td>-0.237921</td>\n",
              "      <td>-0.391127</td>\n",
              "      <td>-0.41967</td>\n",
              "      <td>-0.36771</td>\n",
              "      <td>-0.402396</td>\n",
              "      <td>-0.394215</td>\n",
              "      <td>-0.398358</td>\n",
              "      <td>2.349333</td>\n",
              "      <td>-0.188343</td>\n",
              "    </tr>\n",
              "  </tbody>\n",
              "</table>\n",
              "<p>5 rows × 21 columns</p>\n",
              "</div>\n",
              "      <button class=\"colab-df-convert\" onclick=\"convertToInteractive('df-1aa1a610-7515-457b-8a39-22c85cbb7f7f')\"\n",
              "              title=\"Convert this dataframe to an interactive table.\"\n",
              "              style=\"display:none;\">\n",
              "        \n",
              "  <svg xmlns=\"http://www.w3.org/2000/svg\" height=\"24px\"viewBox=\"0 0 24 24\"\n",
              "       width=\"24px\">\n",
              "    <path d=\"M0 0h24v24H0V0z\" fill=\"none\"/>\n",
              "    <path d=\"M18.56 5.44l.94 2.06.94-2.06 2.06-.94-2.06-.94-.94-2.06-.94 2.06-2.06.94zm-11 1L8.5 8.5l.94-2.06 2.06-.94-2.06-.94L8.5 2.5l-.94 2.06-2.06.94zm10 10l.94 2.06.94-2.06 2.06-.94-2.06-.94-.94-2.06-.94 2.06-2.06.94z\"/><path d=\"M17.41 7.96l-1.37-1.37c-.4-.4-.92-.59-1.43-.59-.52 0-1.04.2-1.43.59L10.3 9.45l-7.72 7.72c-.78.78-.78 2.05 0 2.83L4 21.41c.39.39.9.59 1.41.59.51 0 1.02-.2 1.41-.59l7.78-7.78 2.81-2.81c.8-.78.8-2.07 0-2.86zM5.41 20L4 18.59l7.72-7.72 1.47 1.35L5.41 20z\"/>\n",
              "  </svg>\n",
              "      </button>\n",
              "      \n",
              "  <style>\n",
              "    .colab-df-container {\n",
              "      display:flex;\n",
              "      flex-wrap:wrap;\n",
              "      gap: 12px;\n",
              "    }\n",
              "\n",
              "    .colab-df-convert {\n",
              "      background-color: #E8F0FE;\n",
              "      border: none;\n",
              "      border-radius: 50%;\n",
              "      cursor: pointer;\n",
              "      display: none;\n",
              "      fill: #1967D2;\n",
              "      height: 32px;\n",
              "      padding: 0 0 0 0;\n",
              "      width: 32px;\n",
              "    }\n",
              "\n",
              "    .colab-df-convert:hover {\n",
              "      background-color: #E2EBFA;\n",
              "      box-shadow: 0px 1px 2px rgba(60, 64, 67, 0.3), 0px 1px 3px 1px rgba(60, 64, 67, 0.15);\n",
              "      fill: #174EA6;\n",
              "    }\n",
              "\n",
              "    [theme=dark] .colab-df-convert {\n",
              "      background-color: #3B4455;\n",
              "      fill: #D2E3FC;\n",
              "    }\n",
              "\n",
              "    [theme=dark] .colab-df-convert:hover {\n",
              "      background-color: #434B5C;\n",
              "      box-shadow: 0px 1px 3px 1px rgba(0, 0, 0, 0.15);\n",
              "      filter: drop-shadow(0px 1px 2px rgba(0, 0, 0, 0.3));\n",
              "      fill: #FFFFFF;\n",
              "    }\n",
              "  </style>\n",
              "\n",
              "      <script>\n",
              "        const buttonEl =\n",
              "          document.querySelector('#df-1aa1a610-7515-457b-8a39-22c85cbb7f7f button.colab-df-convert');\n",
              "        buttonEl.style.display =\n",
              "          google.colab.kernel.accessAllowed ? 'block' : 'none';\n",
              "\n",
              "        async function convertToInteractive(key) {\n",
              "          const element = document.querySelector('#df-1aa1a610-7515-457b-8a39-22c85cbb7f7f');\n",
              "          const dataTable =\n",
              "            await google.colab.kernel.invokeFunction('convertToInteractive',\n",
              "                                                     [key], {});\n",
              "          if (!dataTable) return;\n",
              "\n",
              "          const docLinkHtml = 'Like what you see? Visit the ' +\n",
              "            '<a target=\"_blank\" href=https://colab.research.google.com/notebooks/data_table.ipynb>data table notebook</a>'\n",
              "            + ' to learn more about interactive tables.';\n",
              "          element.innerHTML = '';\n",
              "          dataTable['output_type'] = 'display_data';\n",
              "          await google.colab.output.renderOutput(dataTable, element);\n",
              "          const docLink = document.createElement('div');\n",
              "          docLink.innerHTML = docLinkHtml;\n",
              "          element.appendChild(docLink);\n",
              "        }\n",
              "      </script>\n",
              "    </div>\n",
              "  </div>\n",
              "  "
            ]
          },
          "metadata": {},
          "execution_count": 30
        }
      ],
      "source": [
        "X_train.head()"
      ]
    },
    {
      "cell_type": "markdown",
      "metadata": {
        "id": "fGE1fFs7pyfL"
      },
      "source": [
        "# ML Modelling"
      ]
    },
    {
      "cell_type": "code",
      "execution_count": 31,
      "metadata": {
        "id": "WH1D_vQF5CWj"
      },
      "outputs": [],
      "source": [
        "from sklearn.metrics import mean_squared_error,mean_absolute_error,mean_squared_log_error\n",
        "from sklearn.neighbors import KNeighborsRegressor\n",
        "from sklearn.model_selection import cross_val_score\n",
        "from xgboost import XGBRegressor\n",
        "from sklearn.ensemble import RandomForestRegressor\n",
        "from sklearn.tree import DecisionTreeRegressor\n",
        "from sklearn import linear_model\n",
        "\n",
        "from optuna.samplers import TPESampler\n",
        "\n",
        "import warnings\n",
        "warnings.filterwarnings('ignore')\n"
      ]
    },
    {
      "cell_type": "markdown",
      "metadata": {
        "id": "loXS3Mjf5CWk"
      },
      "source": [
        "Define objective function for OPTUNA"
      ]
    },
    {
      "cell_type": "code",
      "execution_count": 34,
      "metadata": {
        "id": "Wy5PNnKT5CWk"
      },
      "outputs": [],
      "source": [
        "def objective(trial):\n",
        "    regressor_name = trial.suggest_categorical(\"regressor\", [\"KNR\",\"XGBoost\",\"RandomForest\",\"LinearREgression\",\"DT\"])\n",
        "\n",
        "\n",
        "    if regressor_name==\"KNR\":\n",
        "        parameter= {\n",
        "        'n_neighbors': trial.suggest_int(\"n_neighbors\", 1, 30),\n",
        "        'weights' : trial.suggest_categorical(\"weights\", ['uniform', 'distance']),\n",
        "        'metric' : trial.suggest_categorical(\"metric\", ['euclidean', 'manhattan', 'minkowski'])\n",
        "        }\n",
        "        regressor = KNeighborsRegressor(**parameter)\n",
        "        regressor.fit(X_train, y_train)\n",
        "\n",
        "    elif regressor_name==\"XGBoost\":\n",
        "        parameter = {\n",
        "      \"n_estimators\" : trial.suggest_int('n_estimators', 0, 500), \n",
        "      'max_depth':trial.suggest_int('max_depth', 3, 5), \n",
        "      'reg_alpha':trial.suggest_float('reg_alpha',0,6), \n",
        "      'reg_lambda':trial.suggest_float('reg_lambda',0,2), \n",
        "      'min_child_weight':trial.suggest_int('min_child_weight',0,5), \n",
        "      'gamma':trial.suggest_float('gamma', 0, 4), \n",
        "      'learning_rate':trial.suggest_float('learning_rate',0.05,0.5), \n",
        "      'colsample_bytree':trial.suggest_float('colsample_bytree',0.4,0.9), \n",
        "      'subsample':trial.suggest_float('subsample',0.4,0.9),\n",
        "      'nthread' : -1\n",
        "    }\n",
        "        regressor = XGBRegressor(**parameter)\n",
        "    \n",
        "        regressor.fit(X_train, y_train)\n",
        "\n",
        "    elif regressor_name==\"RandomForest\":\n",
        "        parameter= { \n",
        "            \"n_estimators\" : trial.suggest_int('n_estimators', 0, 500), # show integer parameters between 0 and 500 for estimators\n",
        "            'max_depth':trial.suggest_int('depth', 3, 5), # show integer parameters between 3 and 5 for depth\n",
        "            \"max_features\": trial.suggest_categorical(\"max_feature\", ['auto', 'sqrt']),\n",
        "            \"min_samples_split\":trial.suggest_int(\"max_leaf\",2,10),\n",
        "            \"min_samples_leaf\": trial.suggest_int(\"min_samp\",1,5),\n",
        "            \"bootstrap\": trial.suggest_categorical(\"bootstrap\",[True,False]) \n",
        "            \n",
        "        }\n",
        "        regressor = RandomForestRegressor(**parameter)\n",
        "    \n",
        "        regressor.fit(X_train, y_train)\n",
        "    \n",
        "    elif regressor_name==\"LinearRegression\":\n",
        "        parameter={\n",
        "            \"fit_intercept\" : trial.suggest_categorical('fit_intercept',['True','False']),\n",
        "            \"copy_X\" : trial.suggest_categorical('copy_X',['True','False']),\n",
        "            \"positive\" : trial.suggest_categorical('positive',['True','False']),\n",
        "            \n",
        "        }\n",
        "        regressor = LinearRegresssion()\n",
        "    \n",
        "        regressor.fit(X_train, y_train)\n",
        "\n",
        "\n",
        "    else:        \n",
        "        parameter= { \n",
        "            \"criterion\": trial.suggest_categorical(\"criterion\", [\"absolute_error\", \"friedman_mse\",\"squared_error\", \"poisson\"]),\n",
        "            \"splitter\": trial.suggest_categorical(\"splitter\", ['best', 'random']),\n",
        "            \"max_depth\": trial.suggest_int(\"depth\",2,200),\n",
        "            \"min_samples_split\":trial.suggest_int(\"max_leaf\",2,100),\n",
        "            # \"min_weight_fraction_leaf\": trial.suggest_float(\"min_samp\",0,1),\n",
        "            \"max_features\": trial.suggest_categorical(\"max_features\",[\"auto\",\"sqrt\",\"log2\"]) \n",
        "            \n",
        "        }\n",
        "        regressor = DecisionTreeRegressor(**parameter)\n",
        "    \n",
        "        regressor.fit(X_train, y_train)\n",
        "    \n",
        "\n",
        "     \n",
        "\n",
        "    pred=regressor.predict(X_test)\n",
        "    \n",
        "    # Mean Absolute Error to evaluate the performance \n",
        "    \n",
        "    mae = mean_absolute_error(y_test, pred)\n",
        "    \n",
        "\n",
        "    \n",
        "    return mae"
      ]
    },
    {
      "cell_type": "code",
      "execution_count": 35,
      "metadata": {
        "id": "RI9Q-iUS5CWk",
        "outputId": "4d93500d-5202-4df3-8c1e-644ae75bc997",
        "colab": {
          "base_uri": "https://localhost:8080/"
        }
      },
      "outputs": [
        {
          "output_type": "stream",
          "name": "stderr",
          "text": [
            "\u001b[32m[I 2023-02-19 09:04:27,953]\u001b[0m A new study created in memory with name: Model\u001b[0m\n"
          ]
        },
        {
          "output_type": "stream",
          "name": "stdout",
          "text": [
            "[09:04:27] WARNING: /workspace/src/objective/regression_obj.cu:152: reg:linear is now deprecated in favor of reg:squarederror.\n"
          ]
        },
        {
          "output_type": "stream",
          "name": "stderr",
          "text": [
            "\u001b[32m[I 2023-02-19 09:04:28,285]\u001b[0m Trial 0 finished with value: 18.136390085657776 and parameters: {'regressor': 'XGBoost', 'n_estimators': 9, 'max_depth': 3, 'reg_alpha': 4.2103166701001395, 'reg_lambda': 1.7474981894201915, 'min_child_weight': 3, 'gamma': 1.5751362862644362, 'learning_rate': 0.44785047565194613, 'colsample_bytree': 0.7827009908085285, 'subsample': 0.7158832357528985}. Best is trial 0 with value: 18.136390085657776.\u001b[0m\n",
            "\u001b[32m[I 2023-02-19 09:04:28,548]\u001b[0m Trial 1 finished with value: 20.091223536809746 and parameters: {'regressor': 'RandomForest', 'n_estimators': 9, 'depth': 3, 'max_feature': 'auto', 'max_leaf': 10, 'min_samp': 5, 'bootstrap': True}. Best is trial 0 with value: 18.136390085657776.\u001b[0m\n",
            "\u001b[32m[I 2023-02-19 09:05:24,468]\u001b[0m Trial 2 finished with value: 22.79341422359377 and parameters: {'regressor': 'DT', 'criterion': 'absolute_error', 'splitter': 'best', 'depth': 135, 'max_leaf': 6, 'max_features': 'auto'}. Best is trial 0 with value: 18.136390085657776.\u001b[0m\n"
          ]
        },
        {
          "output_type": "stream",
          "name": "stdout",
          "text": [
            "[09:05:24] WARNING: /workspace/src/objective/regression_obj.cu:152: reg:linear is now deprecated in favor of reg:squarederror.\n"
          ]
        },
        {
          "output_type": "stream",
          "name": "stderr",
          "text": [
            "\u001b[32m[I 2023-02-19 09:05:30,570]\u001b[0m Trial 3 finished with value: 17.98543972861367 and parameters: {'regressor': 'XGBoost', 'n_estimators': 107, 'max_depth': 5, 'reg_alpha': 2.536427107818786, 'reg_lambda': 1.9186649921247614, 'min_child_weight': 3, 'gamma': 1.6548728947990345, 'learning_rate': 0.31096000544560204, 'colsample_bytree': 0.8752270968010983, 'subsample': 0.7591955080209623}. Best is trial 3 with value: 17.98543972861367.\u001b[0m\n",
            "\u001b[32m[I 2023-02-19 09:05:38,769]\u001b[0m Trial 4 finished with value: 25.297659543162226 and parameters: {'regressor': 'KNR', 'n_neighbors': 17, 'weights': 'distance', 'metric': 'euclidean'}. Best is trial 3 with value: 17.98543972861367.\u001b[0m\n",
            "\u001b[32m[I 2023-02-19 09:05:38,915]\u001b[0m Trial 5 finished with value: 19.700643223146773 and parameters: {'regressor': 'DT', 'criterion': 'squared_error', 'splitter': 'best', 'depth': 194, 'max_leaf': 65, 'max_features': 'auto'}. Best is trial 3 with value: 17.98543972861367.\u001b[0m\n",
            "\u001b[32m[I 2023-02-19 09:05:48,050]\u001b[0m Trial 6 finished with value: 25.524903008495734 and parameters: {'regressor': 'KNR', 'n_neighbors': 14, 'weights': 'distance', 'metric': 'minkowski'}. Best is trial 3 with value: 17.98543972861367.\u001b[0m\n",
            "\u001b[32m[I 2023-02-19 09:05:57,086]\u001b[0m Trial 7 finished with value: 24.952293605357163 and parameters: {'regressor': 'KNR', 'n_neighbors': 26, 'weights': 'distance', 'metric': 'minkowski'}. Best is trial 3 with value: 17.98543972861367.\u001b[0m\n",
            "\u001b[32m[I 2023-02-19 09:06:01,333]\u001b[0m Trial 8 finished with value: 20.014521804802314 and parameters: {'regressor': 'RandomForest', 'n_estimators': 155, 'depth': 3, 'max_feature': 'auto', 'max_leaf': 4, 'min_samp': 1, 'bootstrap': True}. Best is trial 3 with value: 17.98543972861367.\u001b[0m\n"
          ]
        },
        {
          "output_type": "stream",
          "name": "stdout",
          "text": [
            "[09:06:01] WARNING: /workspace/src/objective/regression_obj.cu:152: reg:linear is now deprecated in favor of reg:squarederror.\n"
          ]
        },
        {
          "output_type": "stream",
          "name": "stderr",
          "text": [
            "\u001b[32m[I 2023-02-19 09:06:17,522]\u001b[0m Trial 9 finished with value: 19.699806350630954 and parameters: {'regressor': 'XGBoost', 'n_estimators': 391, 'max_depth': 5, 'reg_alpha': 3.2931217879741776, 'reg_lambda': 0.642952904126685, 'min_child_weight': 2, 'gamma': 0.3635998101750255, 'learning_rate': 0.45364374591632173, 'colsample_bytree': 0.722780864034869, 'subsample': 0.6828914940406297}. Best is trial 3 with value: 17.98543972861367.\u001b[0m\n",
            "\u001b[32m[I 2023-02-19 09:06:17,573]\u001b[0m Trial 10 finished with value: 23.238931088206673 and parameters: {'regressor': 'LinearREgression', 'criterion': 'poisson', 'splitter': 'random', 'depth': 86, 'max_leaf': 98, 'max_features': 'sqrt'}. Best is trial 3 with value: 17.98543972861367.\u001b[0m\n"
          ]
        },
        {
          "output_type": "stream",
          "name": "stdout",
          "text": [
            "[09:06:17] WARNING: /workspace/src/objective/regression_obj.cu:152: reg:linear is now deprecated in favor of reg:squarederror.\n"
          ]
        },
        {
          "output_type": "stream",
          "name": "stderr",
          "text": [
            "\u001b[32m[I 2023-02-19 09:06:17,867]\u001b[0m Trial 11 finished with value: 23.15017350349742 and parameters: {'regressor': 'XGBoost', 'n_estimators': 7, 'max_depth': 3, 'reg_alpha': 3.6200571723018014, 'reg_lambda': 1.9513176097253173, 'min_child_weight': 4, 'gamma': 2.084037699989472, 'learning_rate': 0.3182054871399159, 'colsample_bytree': 0.8783889379637503, 'subsample': 0.7674176221438336}. Best is trial 3 with value: 17.98543972861367.\u001b[0m\n"
          ]
        },
        {
          "output_type": "stream",
          "name": "stdout",
          "text": [
            "[09:06:17] WARNING: /workspace/src/objective/regression_obj.cu:152: reg:linear is now deprecated in favor of reg:squarederror.\n"
          ]
        },
        {
          "output_type": "stream",
          "name": "stderr",
          "text": [
            "\u001b[32m[I 2023-02-19 09:06:25,764]\u001b[0m Trial 12 finished with value: 17.693021049504864 and parameters: {'regressor': 'XGBoost', 'n_estimators': 160, 'max_depth': 5, 'reg_alpha': 1.0175366005544624, 'reg_lambda': 1.8751805558441668, 'min_child_weight': 3, 'gamma': 1.7600886612690914, 'learning_rate': 0.16502765623512855, 'colsample_bytree': 0.8655875064122347, 'subsample': 0.8258361443814595}. Best is trial 12 with value: 17.693021049504864.\u001b[0m\n"
          ]
        },
        {
          "output_type": "stream",
          "name": "stdout",
          "text": [
            "[09:06:25] WARNING: /workspace/src/objective/regression_obj.cu:152: reg:linear is now deprecated in favor of reg:squarederror.\n"
          ]
        },
        {
          "output_type": "stream",
          "name": "stderr",
          "text": [
            "\u001b[32m[I 2023-02-19 09:06:34,512]\u001b[0m Trial 13 finished with value: 17.58974230602156 and parameters: {'regressor': 'XGBoost', 'n_estimators': 187, 'max_depth': 5, 'reg_alpha': 0.4773062881826603, 'reg_lambda': 1.5045142944156407, 'min_child_weight': 0, 'gamma': 3.939067739472708, 'learning_rate': 0.1491140066889447, 'colsample_bytree': 0.8960241067333073, 'subsample': 0.8982927481367693}. Best is trial 13 with value: 17.58974230602156.\u001b[0m\n"
          ]
        },
        {
          "output_type": "stream",
          "name": "stdout",
          "text": [
            "[09:06:34] WARNING: /workspace/src/objective/regression_obj.cu:152: reg:linear is now deprecated in favor of reg:squarederror.\n"
          ]
        },
        {
          "output_type": "stream",
          "name": "stderr",
          "text": [
            "\u001b[32m[I 2023-02-19 09:06:42,642]\u001b[0m Trial 14 finished with value: 17.508039090021043 and parameters: {'regressor': 'XGBoost', 'n_estimators': 274, 'max_depth': 5, 'reg_alpha': 0.052001491722214355, 'reg_lambda': 1.2737562570116572, 'min_child_weight': 0, 'gamma': 3.986057439925772, 'learning_rate': 0.10477716968106308, 'colsample_bytree': 0.5867870260320646, 'subsample': 0.8979206725508551}. Best is trial 14 with value: 17.508039090021043.\u001b[0m\n",
            "\u001b[32m[I 2023-02-19 09:06:42,729]\u001b[0m Trial 15 finished with value: 22.31738433535097 and parameters: {'regressor': 'LinearREgression', 'criterion': 'friedman_mse', 'splitter': 'random', 'depth': 77, 'max_leaf': 46, 'max_features': 'log2'}. Best is trial 14 with value: 17.508039090021043.\u001b[0m\n"
          ]
        },
        {
          "output_type": "stream",
          "name": "stdout",
          "text": [
            "[09:06:42] WARNING: /workspace/src/objective/regression_obj.cu:152: reg:linear is now deprecated in favor of reg:squarederror.\n"
          ]
        },
        {
          "output_type": "stream",
          "name": "stderr",
          "text": [
            "\u001b[32m[I 2023-02-19 09:06:55,308]\u001b[0m Trial 16 finished with value: 17.04098963326133 and parameters: {'regressor': 'XGBoost', 'n_estimators': 367, 'max_depth': 4, 'reg_alpha': 0.004003688097063751, 'reg_lambda': 1.142203626041625, 'min_child_weight': 0, 'gamma': 3.991477743330709, 'learning_rate': 0.0563402675122395, 'colsample_bytree': 0.5668851094680167, 'subsample': 0.8718639967769458}. Best is trial 16 with value: 17.04098963326133.\u001b[0m\n"
          ]
        },
        {
          "output_type": "stream",
          "name": "stdout",
          "text": [
            "[09:06:55] WARNING: /workspace/src/objective/regression_obj.cu:152: reg:linear is now deprecated in favor of reg:squarederror.\n"
          ]
        },
        {
          "output_type": "stream",
          "name": "stderr",
          "text": [
            "\u001b[32m[I 2023-02-19 09:07:06,747]\u001b[0m Trial 17 finished with value: 16.965529337088512 and parameters: {'regressor': 'XGBoost', 'n_estimators': 351, 'max_depth': 4, 'reg_alpha': 0.19980207021692786, 'reg_lambda': 1.1628923075066997, 'min_child_weight': 0, 'gamma': 3.962896067537356, 'learning_rate': 0.06064356694402696, 'colsample_bytree': 0.5393533842637848, 'subsample': 0.5344905412367167}. Best is trial 17 with value: 16.965529337088512.\u001b[0m\n"
          ]
        },
        {
          "output_type": "stream",
          "name": "stdout",
          "text": [
            "[09:07:06] WARNING: /workspace/src/objective/regression_obj.cu:152: reg:linear is now deprecated in favor of reg:squarederror.\n"
          ]
        },
        {
          "output_type": "stream",
          "name": "stderr",
          "text": [
            "\u001b[32m[I 2023-02-19 09:07:20,637]\u001b[0m Trial 18 finished with value: 17.195873498080537 and parameters: {'regressor': 'XGBoost', 'n_estimators': 489, 'max_depth': 4, 'reg_alpha': 1.5717508680469083, 'reg_lambda': 0.9868633707208994, 'min_child_weight': 1, 'gamma': 3.281369370137405, 'learning_rate': 0.0663650183263935, 'colsample_bytree': 0.47126639677666926, 'subsample': 0.5462038862189098}. Best is trial 17 with value: 16.965529337088512.\u001b[0m\n",
            "\u001b[32m[I 2023-02-19 09:07:25,279]\u001b[0m Trial 19 finished with value: 20.218431093929077 and parameters: {'regressor': 'RandomForest', 'n_estimators': 328, 'depth': 4, 'max_feature': 'sqrt', 'max_leaf': 2, 'min_samp': 3, 'bootstrap': False}. Best is trial 17 with value: 16.965529337088512.\u001b[0m\n",
            "\u001b[32m[I 2023-02-19 09:07:25,343]\u001b[0m Trial 20 finished with value: 22.571297649395735 and parameters: {'regressor': 'LinearREgression', 'criterion': 'squared_error', 'splitter': 'best', 'depth': 200, 'max_leaf': 46, 'max_features': 'log2'}. Best is trial 17 with value: 16.965529337088512.\u001b[0m\n"
          ]
        },
        {
          "output_type": "stream",
          "name": "stdout",
          "text": [
            "[09:07:25] WARNING: /workspace/src/objective/regression_obj.cu:152: reg:linear is now deprecated in favor of reg:squarederror.\n"
          ]
        },
        {
          "output_type": "stream",
          "name": "stderr",
          "text": [
            "\u001b[32m[I 2023-02-19 09:07:39,912]\u001b[0m Trial 21 finished with value: 17.093064697047307 and parameters: {'regressor': 'XGBoost', 'n_estimators': 500, 'max_depth': 4, 'reg_alpha': 1.3517173638509932, 'reg_lambda': 0.9968137483260762, 'min_child_weight': 1, 'gamma': 3.7080806833452318, 'learning_rate': 0.06518784707699578, 'colsample_bytree': 0.47619928566596853, 'subsample': 0.5335647811846667}. Best is trial 17 with value: 16.965529337088512.\u001b[0m\n"
          ]
        },
        {
          "output_type": "stream",
          "name": "stdout",
          "text": [
            "[09:07:39] WARNING: /workspace/src/objective/regression_obj.cu:152: reg:linear is now deprecated in favor of reg:squarederror.\n"
          ]
        },
        {
          "output_type": "stream",
          "name": "stderr",
          "text": [
            "\u001b[32m[I 2023-02-19 09:07:54,199]\u001b[0m Trial 22 finished with value: 17.098634709414267 and parameters: {'regressor': 'XGBoost', 'n_estimators': 494, 'max_depth': 4, 'reg_alpha': 0.05881861490683718, 'reg_lambda': 0.9798885034338366, 'min_child_weight': 1, 'gamma': 3.422289569752364, 'learning_rate': 0.05564202437369707, 'colsample_bytree': 0.5077915542356626, 'subsample': 0.5248335240230362}. Best is trial 17 with value: 16.965529337088512.\u001b[0m\n"
          ]
        },
        {
          "output_type": "stream",
          "name": "stdout",
          "text": [
            "[09:07:54] WARNING: /workspace/src/objective/regression_obj.cu:152: reg:linear is now deprecated in favor of reg:squarederror.\n"
          ]
        },
        {
          "output_type": "stream",
          "name": "stderr",
          "text": [
            "\u001b[32m[I 2023-02-19 09:08:04,916]\u001b[0m Trial 23 finished with value: 17.185236926165082 and parameters: {'regressor': 'XGBoost', 'n_estimators': 394, 'max_depth': 4, 'reg_alpha': 1.3988544968306849, 'reg_lambda': 1.1586669283540543, 'min_child_weight': 0, 'gamma': 3.3543843040533385, 'learning_rate': 0.05073976880139715, 'colsample_bytree': 0.40764484275990676, 'subsample': 0.42500671595020373}. Best is trial 17 with value: 16.965529337088512.\u001b[0m\n"
          ]
        },
        {
          "output_type": "stream",
          "name": "stdout",
          "text": [
            "[09:08:04] WARNING: /workspace/src/objective/regression_obj.cu:152: reg:linear is now deprecated in favor of reg:squarederror.\n"
          ]
        },
        {
          "output_type": "stream",
          "name": "stderr",
          "text": [
            "\u001b[32m[I 2023-02-19 09:08:17,929]\u001b[0m Trial 24 finished with value: 17.678842934372884 and parameters: {'regressor': 'XGBoost', 'n_estimators': 408, 'max_depth': 4, 'reg_alpha': 5.984769757417398, 'reg_lambda': 0.6733081075560183, 'min_child_weight': 1, 'gamma': 3.9544145629148075, 'learning_rate': 0.14428474635311828, 'colsample_bytree': 0.5771302571821255, 'subsample': 0.5974034130693804}. Best is trial 17 with value: 16.965529337088512.\u001b[0m\n",
            "\u001b[32m[I 2023-02-19 09:08:17,973]\u001b[0m Trial 25 finished with value: 20.469847971918686 and parameters: {'regressor': 'DT', 'criterion': 'friedman_mse', 'splitter': 'random', 'depth': 137, 'max_leaf': 99, 'max_features': 'sqrt'}. Best is trial 17 with value: 16.965529337088512.\u001b[0m\n"
          ]
        },
        {
          "output_type": "stream",
          "name": "stdout",
          "text": [
            "[09:08:18] WARNING: /workspace/src/objective/regression_obj.cu:152: reg:linear is now deprecated in favor of reg:squarederror.\n"
          ]
        },
        {
          "output_type": "stream",
          "name": "stderr",
          "text": [
            "\u001b[32m[I 2023-02-19 09:08:28,080]\u001b[0m Trial 26 finished with value: 17.884958676827676 and parameters: {'regressor': 'XGBoost', 'n_estimators': 313, 'max_depth': 4, 'reg_alpha': 0.7620543416675919, 'reg_lambda': 0.0038711089671099597, 'min_child_weight': 0, 'gamma': 3.0835070108650298, 'learning_rate': 0.2035074418283187, 'colsample_bytree': 0.5574685326805671, 'subsample': 0.6297021212950745}. Best is trial 17 with value: 16.965529337088512.\u001b[0m\n"
          ]
        },
        {
          "output_type": "stream",
          "name": "stdout",
          "text": [
            "[09:08:28] WARNING: /workspace/src/objective/regression_obj.cu:152: reg:linear is now deprecated in favor of reg:squarederror.\n"
          ]
        },
        {
          "output_type": "stream",
          "name": "stderr",
          "text": [
            "\u001b[32m[I 2023-02-19 09:08:39,881]\u001b[0m Trial 27 finished with value: 16.820383453155102 and parameters: {'regressor': 'XGBoost', 'n_estimators': 439, 'max_depth': 3, 'reg_alpha': 0.011597805640325198, 'reg_lambda': 1.4168729362083619, 'min_child_weight': 1, 'gamma': 2.7210565385592362, 'learning_rate': 0.10280155683301695, 'colsample_bytree': 0.635609089897268, 'subsample': 0.5135878599235857}. Best is trial 27 with value: 16.820383453155102.\u001b[0m\n"
          ]
        },
        {
          "output_type": "stream",
          "name": "stdout",
          "text": [
            "[09:08:39] WARNING: /workspace/src/objective/regression_obj.cu:152: reg:linear is now deprecated in favor of reg:squarederror.\n"
          ]
        },
        {
          "output_type": "stream",
          "name": "stderr",
          "text": [
            "\u001b[32m[I 2023-02-19 09:08:51,427]\u001b[0m Trial 28 finished with value: 16.82953637110132 and parameters: {'regressor': 'XGBoost', 'n_estimators': 426, 'max_depth': 3, 'reg_alpha': 0.051431679859739676, 'reg_lambda': 1.4528297873385805, 'min_child_weight': 2, 'gamma': 2.8453094826721395, 'learning_rate': 0.10750811196410247, 'colsample_bytree': 0.640223550470046, 'subsample': 0.46119662891595836}. Best is trial 27 with value: 16.820383453155102.\u001b[0m\n"
          ]
        },
        {
          "output_type": "stream",
          "name": "stdout",
          "text": [
            "[09:08:51] WARNING: /workspace/src/objective/regression_obj.cu:152: reg:linear is now deprecated in favor of reg:squarederror.\n"
          ]
        },
        {
          "output_type": "stream",
          "name": "stderr",
          "text": [
            "\u001b[32m[I 2023-02-19 09:09:01,380]\u001b[0m Trial 29 finished with value: 16.838923705378328 and parameters: {'regressor': 'XGBoost', 'n_estimators': 439, 'max_depth': 3, 'reg_alpha': 0.6792997845972746, 'reg_lambda': 1.5321456157402713, 'min_child_weight': 2, 'gamma': 2.714011070207102, 'learning_rate': 0.11783764900428415, 'colsample_bytree': 0.6480659117657258, 'subsample': 0.4472689434859416}. Best is trial 27 with value: 16.820383453155102.\u001b[0m\n",
            "\u001b[32m[I 2023-02-19 09:09:07,078]\u001b[0m Trial 30 finished with value: 20.15103816379159 and parameters: {'regressor': 'RandomForest', 'n_estimators': 420, 'depth': 4, 'max_feature': 'sqrt', 'max_leaf': 6, 'min_samp': 1, 'bootstrap': False}. Best is trial 27 with value: 16.820383453155102.\u001b[0m\n"
          ]
        },
        {
          "output_type": "stream",
          "name": "stdout",
          "text": [
            "[09:09:07] WARNING: /workspace/src/objective/regression_obj.cu:152: reg:linear is now deprecated in favor of reg:squarederror.\n"
          ]
        },
        {
          "output_type": "stream",
          "name": "stderr",
          "text": [
            "\u001b[32m[I 2023-02-19 09:09:18,879]\u001b[0m Trial 31 finished with value: 16.985084090097068 and parameters: {'regressor': 'XGBoost', 'n_estimators': 444, 'max_depth': 3, 'reg_alpha': 0.6627744123207865, 'reg_lambda': 1.518055038145425, 'min_child_weight': 2, 'gamma': 2.7501512419736005, 'learning_rate': 0.12154678984202039, 'colsample_bytree': 0.653587956942131, 'subsample': 0.44904917693416824}. Best is trial 27 with value: 16.820383453155102.\u001b[0m\n"
          ]
        },
        {
          "output_type": "stream",
          "name": "stdout",
          "text": [
            "[09:09:18] WARNING: /workspace/src/objective/regression_obj.cu:152: reg:linear is now deprecated in favor of reg:squarederror.\n"
          ]
        },
        {
          "output_type": "stream",
          "name": "stderr",
          "text": [
            "\u001b[32m[I 2023-02-19 09:09:30,847]\u001b[0m Trial 32 finished with value: 16.746925025455145 and parameters: {'regressor': 'XGBoost', 'n_estimators': 450, 'max_depth': 3, 'reg_alpha': 0.006093098504256447, 'reg_lambda': 1.48757001892147, 'min_child_weight': 2, 'gamma': 2.703403026681963, 'learning_rate': 0.10857445658530585, 'colsample_bytree': 0.6467707206177699, 'subsample': 0.4635569906917351}. Best is trial 32 with value: 16.746925025455145.\u001b[0m\n"
          ]
        },
        {
          "output_type": "stream",
          "name": "stdout",
          "text": [
            "[09:09:30] WARNING: /workspace/src/objective/regression_obj.cu:152: reg:linear is now deprecated in favor of reg:squarederror.\n"
          ]
        },
        {
          "output_type": "stream",
          "name": "stderr",
          "text": [
            "\u001b[32m[I 2023-02-19 09:09:42,883]\u001b[0m Trial 33 finished with value: 17.407262787408893 and parameters: {'regressor': 'XGBoost', 'n_estimators': 452, 'max_depth': 3, 'reg_alpha': 0.7889447639556615, 'reg_lambda': 1.5468877724497445, 'min_child_weight': 2, 'gamma': 2.6547353608677264, 'learning_rate': 0.19389097870924038, 'colsample_bytree': 0.6406897072342718, 'subsample': 0.46519909831962425}. Best is trial 32 with value: 16.746925025455145.\u001b[0m\n",
            "\u001b[32m[I 2023-02-19 09:09:43,020]\u001b[0m Trial 34 finished with value: 21.21009890651452 and parameters: {'regressor': 'DT', 'criterion': 'poisson', 'splitter': 'random', 'depth': 53, 'max_leaf': 65, 'max_features': 'auto'}. Best is trial 32 with value: 16.746925025455145.\u001b[0m\n"
          ]
        },
        {
          "output_type": "stream",
          "name": "stdout",
          "text": [
            "[09:09:43] WARNING: /workspace/src/objective/regression_obj.cu:152: reg:linear is now deprecated in favor of reg:squarederror.\n"
          ]
        },
        {
          "output_type": "stream",
          "name": "stderr",
          "text": [
            "\u001b[32m[I 2023-02-19 09:09:54,924]\u001b[0m Trial 35 finished with value: 16.788992236048163 and parameters: {'regressor': 'XGBoost', 'n_estimators': 455, 'max_depth': 3, 'reg_alpha': 0.02908868953998605, 'reg_lambda': 1.6477411238635062, 'min_child_weight': 2, 'gamma': 2.6621398885427463, 'learning_rate': 0.11134676935453636, 'colsample_bytree': 0.6452603175719216, 'subsample': 0.41595494075525413}. Best is trial 32 with value: 16.746925025455145.\u001b[0m\n",
            "\u001b[32m[I 2023-02-19 09:10:12,111]\u001b[0m Trial 36 finished with value: 27.056108851171274 and parameters: {'regressor': 'KNR', 'n_neighbors': 2, 'weights': 'uniform', 'metric': 'manhattan'}. Best is trial 32 with value: 16.746925025455145.\u001b[0m\n"
          ]
        },
        {
          "output_type": "stream",
          "name": "stdout",
          "text": [
            "[09:10:12] WARNING: /workspace/src/objective/regression_obj.cu:152: reg:linear is now deprecated in favor of reg:squarederror.\n"
          ]
        },
        {
          "output_type": "stream",
          "name": "stderr",
          "text": [
            "\u001b[32m[I 2023-02-19 09:10:24,281]\u001b[0m Trial 37 finished with value: 16.758829781142605 and parameters: {'regressor': 'XGBoost', 'n_estimators': 465, 'max_depth': 3, 'reg_alpha': 0.019725377065670298, 'reg_lambda': 1.7271367311634507, 'min_child_weight': 2, 'gamma': 2.3448641929099967, 'learning_rate': 0.09997779100217001, 'colsample_bytree': 0.6815977455931657, 'subsample': 0.4053201852259867}. Best is trial 32 with value: 16.746925025455145.\u001b[0m\n",
            "\u001b[32m[I 2023-02-19 09:10:41,273]\u001b[0m Trial 38 finished with value: 23.922043764903915 and parameters: {'regressor': 'DT', 'criterion': 'absolute_error', 'splitter': 'best', 'depth': 158, 'max_leaf': 30, 'max_features': 'sqrt'}. Best is trial 32 with value: 16.746925025455145.\u001b[0m\n",
            "\u001b[32m[I 2023-02-19 09:10:49,308]\u001b[0m Trial 39 finished with value: 27.93414223593772 and parameters: {'regressor': 'KNR', 'n_neighbors': 1, 'weights': 'uniform', 'metric': 'euclidean'}. Best is trial 32 with value: 16.746925025455145.\u001b[0m\n",
            "\u001b[32m[I 2023-02-19 09:10:53,721]\u001b[0m Trial 40 finished with value: 20.13398895628733 and parameters: {'regressor': 'RandomForest', 'n_estimators': 466, 'depth': 4, 'max_feature': 'sqrt', 'max_leaf': 2, 'min_samp': 5, 'bootstrap': True}. Best is trial 32 with value: 16.746925025455145.\u001b[0m\n"
          ]
        },
        {
          "output_type": "stream",
          "name": "stdout",
          "text": [
            "[09:10:53] WARNING: /workspace/src/objective/regression_obj.cu:152: reg:linear is now deprecated in favor of reg:squarederror.\n"
          ]
        },
        {
          "output_type": "stream",
          "name": "stderr",
          "text": [
            "\u001b[32m[I 2023-02-19 09:11:05,712]\u001b[0m Trial 41 finished with value: 16.73440848682418 and parameters: {'regressor': 'XGBoost', 'n_estimators': 457, 'max_depth': 3, 'reg_alpha': 0.010104196680388474, 'reg_lambda': 1.7087002343404516, 'min_child_weight': 2, 'gamma': 2.43701163119309, 'learning_rate': 0.10105733673450615, 'colsample_bytree': 0.6983329558197413, 'subsample': 0.40062890212199675}. Best is trial 41 with value: 16.73440848682418.\u001b[0m\n"
          ]
        },
        {
          "output_type": "stream",
          "name": "stdout",
          "text": [
            "[09:11:05] WARNING: /workspace/src/objective/regression_obj.cu:152: reg:linear is now deprecated in favor of reg:squarederror.\n"
          ]
        },
        {
          "output_type": "stream",
          "name": "stderr",
          "text": [
            "\u001b[32m[I 2023-02-19 09:11:17,981]\u001b[0m Trial 42 finished with value: 16.92480916678613 and parameters: {'regressor': 'XGBoost', 'n_estimators': 466, 'max_depth': 3, 'reg_alpha': 0.46218743064613776, 'reg_lambda': 1.727374720072163, 'min_child_weight': 2, 'gamma': 2.3756159314639254, 'learning_rate': 0.10519309611112033, 'colsample_bytree': 0.6991107213597636, 'subsample': 0.40572799808960697}. Best is trial 41 with value: 16.73440848682418.\u001b[0m\n"
          ]
        },
        {
          "output_type": "stream",
          "name": "stdout",
          "text": [
            "[09:11:18] WARNING: /workspace/src/objective/regression_obj.cu:152: reg:linear is now deprecated in favor of reg:squarederror.\n"
          ]
        },
        {
          "output_type": "stream",
          "name": "stderr",
          "text": [
            "\u001b[32m[I 2023-02-19 09:11:28,274]\u001b[0m Trial 43 finished with value: 17.111460592489554 and parameters: {'regressor': 'XGBoost', 'n_estimators': 379, 'max_depth': 3, 'reg_alpha': 0.0138428135581561, 'reg_lambda': 1.6755624720595992, 'min_child_weight': 1, 'gamma': 2.3860222466949677, 'learning_rate': 0.1766516970551595, 'colsample_bytree': 0.7131909706162891, 'subsample': 0.4037207786208834}. Best is trial 41 with value: 16.73440848682418.\u001b[0m\n",
            "\u001b[32m[I 2023-02-19 09:11:28,318]\u001b[0m Trial 44 finished with value: 23.90897655146248 and parameters: {'regressor': 'LinearREgression', 'criterion': 'friedman_mse', 'splitter': 'random', 'depth': 45, 'max_leaf': 81, 'max_features': 'log2'}. Best is trial 41 with value: 16.73440848682418.\u001b[0m\n"
          ]
        },
        {
          "output_type": "stream",
          "name": "stdout",
          "text": [
            "[09:11:28] WARNING: /workspace/src/objective/regression_obj.cu:152: reg:linear is now deprecated in favor of reg:squarederror.\n"
          ]
        },
        {
          "output_type": "stream",
          "name": "stderr",
          "text": [
            "\u001b[32m[I 2023-02-19 09:11:40,908]\u001b[0m Trial 45 finished with value: 16.837099128559405 and parameters: {'regressor': 'XGBoost', 'n_estimators': 459, 'max_depth': 3, 'reg_alpha': 0.5323041544018036, 'reg_lambda': 1.6999969773123431, 'min_child_weight': 3, 'gamma': 2.330868072118195, 'learning_rate': 0.0967676001909182, 'colsample_bytree': 0.6781209754654467, 'subsample': 0.4881565357459245}. Best is trial 41 with value: 16.73440848682418.\u001b[0m\n"
          ]
        },
        {
          "output_type": "stream",
          "name": "stdout",
          "text": [
            "[09:11:40] WARNING: /workspace/src/objective/regression_obj.cu:152: reg:linear is now deprecated in favor of reg:squarederror.\n"
          ]
        },
        {
          "output_type": "stream",
          "name": "stderr",
          "text": [
            "\u001b[32m[I 2023-02-19 09:11:51,582]\u001b[0m Trial 46 finished with value: 17.15319658098289 and parameters: {'regressor': 'XGBoost', 'n_estimators': 421, 'max_depth': 3, 'reg_alpha': 1.0962428660464483, 'reg_lambda': 1.7971705096358568, 'min_child_weight': 2, 'gamma': 3.006095778921864, 'learning_rate': 0.1434056781663422, 'colsample_bytree': 0.6174705690582218, 'subsample': 0.4003531515599797}. Best is trial 41 with value: 16.73440848682418.\u001b[0m\n"
          ]
        },
        {
          "output_type": "stream",
          "name": "stdout",
          "text": [
            "[09:11:51] WARNING: /workspace/src/objective/regression_obj.cu:152: reg:linear is now deprecated in favor of reg:squarederror.\n"
          ]
        },
        {
          "output_type": "stream",
          "name": "stderr",
          "text": [
            "\u001b[32m[I 2023-02-19 09:12:03,782]\u001b[0m Trial 47 finished with value: 16.767671967943983 and parameters: {'regressor': 'XGBoost', 'n_estimators': 476, 'max_depth': 3, 'reg_alpha': 0.5038687013890044, 'reg_lambda': 1.631936098511683, 'min_child_weight': 4, 'gamma': 2.5712145531676955, 'learning_rate': 0.09223702368800535, 'colsample_bytree': 0.6077326043844045, 'subsample': 0.489886978885271}. Best is trial 41 with value: 16.73440848682418.\u001b[0m\n",
            "\u001b[32m[I 2023-02-19 09:12:20,347]\u001b[0m Trial 48 finished with value: 24.353310422219106 and parameters: {'regressor': 'KNR', 'n_neighbors': 30, 'weights': 'uniform', 'metric': 'manhattan'}. Best is trial 41 with value: 16.73440848682418.\u001b[0m\n"
          ]
        },
        {
          "output_type": "stream",
          "name": "stdout",
          "text": [
            "[09:12:20] WARNING: /workspace/src/objective/regression_obj.cu:152: reg:linear is now deprecated in favor of reg:squarederror.\n"
          ]
        },
        {
          "output_type": "stream",
          "name": "stderr",
          "text": [
            "\u001b[32m[I 2023-02-19 09:12:32,310]\u001b[0m Trial 49 finished with value: 17.261851210265764 and parameters: {'regressor': 'XGBoost', 'n_estimators': 476, 'max_depth': 3, 'reg_alpha': 0.46754680656977204, 'reg_lambda': 1.9721139178589455, 'min_child_weight': 5, 'gamma': 2.4753591980813683, 'learning_rate': 0.1409826464515433, 'colsample_bytree': 0.6023764717925899, 'subsample': 0.43841688596608264}. Best is trial 41 with value: 16.73440848682418.\u001b[0m\n"
          ]
        },
        {
          "output_type": "stream",
          "name": "stdout",
          "text": [
            "[09:12:32] WARNING: /workspace/src/objective/regression_obj.cu:152: reg:linear is now deprecated in favor of reg:squarederror.\n"
          ]
        },
        {
          "output_type": "stream",
          "name": "stderr",
          "text": [
            "\u001b[32m[I 2023-02-19 09:12:45,631]\u001b[0m Trial 50 finished with value: 16.85222355990678 and parameters: {'regressor': 'XGBoost', 'n_estimators': 497, 'max_depth': 3, 'reg_alpha': 0.9928722907035226, 'reg_lambda': 1.6594187896685335, 'min_child_weight': 4, 'gamma': 2.1300506317298793, 'learning_rate': 0.08460009648697996, 'colsample_bytree': 0.6819794011037597, 'subsample': 0.48219224025702695}. Best is trial 41 with value: 16.73440848682418.\u001b[0m\n"
          ]
        },
        {
          "output_type": "stream",
          "name": "stdout",
          "text": [
            "[09:12:45] WARNING: /workspace/src/objective/regression_obj.cu:152: reg:linear is now deprecated in favor of reg:squarederror.\n"
          ]
        },
        {
          "output_type": "stream",
          "name": "stderr",
          "text": [
            "\u001b[32m[I 2023-02-19 09:12:56,773]\u001b[0m Trial 51 finished with value: 16.817628261433992 and parameters: {'regressor': 'XGBoost', 'n_estimators': 439, 'max_depth': 3, 'reg_alpha': 0.36247404798047034, 'reg_lambda': 1.620013438016678, 'min_child_weight': 4, 'gamma': 2.6078618985424806, 'learning_rate': 0.08786694140420837, 'colsample_bytree': 0.6155278697020774, 'subsample': 0.4315211192225903}. Best is trial 41 with value: 16.73440848682418.\u001b[0m\n"
          ]
        },
        {
          "output_type": "stream",
          "name": "stdout",
          "text": [
            "[09:12:56] WARNING: /workspace/src/objective/regression_obj.cu:152: reg:linear is now deprecated in favor of reg:squarederror.\n"
          ]
        },
        {
          "output_type": "stream",
          "name": "stderr",
          "text": [
            "\u001b[32m[I 2023-02-19 09:13:08,301]\u001b[0m Trial 52 finished with value: 16.725210256973845 and parameters: {'regressor': 'XGBoost', 'n_estimators': 405, 'max_depth': 3, 'reg_alpha': 0.4157552979659979, 'reg_lambda': 1.798571409847731, 'min_child_weight': 4, 'gamma': 2.494152576026222, 'learning_rate': 0.08771510337989287, 'colsample_bytree': 0.7346833591807158, 'subsample': 0.4338945481918304}. Best is trial 52 with value: 16.725210256973845.\u001b[0m\n"
          ]
        },
        {
          "output_type": "stream",
          "name": "stdout",
          "text": [
            "[09:13:08] WARNING: /workspace/src/objective/regression_obj.cu:152: reg:linear is now deprecated in favor of reg:squarederror.\n"
          ]
        },
        {
          "output_type": "stream",
          "name": "stderr",
          "text": [
            "\u001b[32m[I 2023-02-19 09:13:09,816]\u001b[0m Trial 53 finished with value: 17.144054333112535 and parameters: {'regressor': 'XGBoost', 'n_estimators': 60, 'max_depth': 3, 'reg_alpha': 0.4455933395252101, 'reg_lambda': 1.8120128650493936, 'min_child_weight': 5, 'gamma': 2.191196197819889, 'learning_rate': 0.12599943926173213, 'colsample_bytree': 0.7448851779792242, 'subsample': 0.40029111884475144}. Best is trial 52 with value: 16.725210256973845.\u001b[0m\n"
          ]
        },
        {
          "output_type": "stream",
          "name": "stdout",
          "text": [
            "[09:13:09] WARNING: /workspace/src/objective/regression_obj.cu:152: reg:linear is now deprecated in favor of reg:squarederror.\n"
          ]
        },
        {
          "output_type": "stream",
          "name": "stderr",
          "text": [
            "\u001b[32m[I 2023-02-19 09:13:21,400]\u001b[0m Trial 54 finished with value: 16.716739544311302 and parameters: {'regressor': 'XGBoost', 'n_estimators': 399, 'max_depth': 3, 'reg_alpha': 1.8071319966362336, 'reg_lambda': 1.7779527579188885, 'min_child_weight': 3, 'gamma': 1.9263318397961604, 'learning_rate': 0.09509415971243382, 'colsample_bytree': 0.7504434602037712, 'subsample': 0.4840193819618149}. Best is trial 54 with value: 16.716739544311302.\u001b[0m\n",
            "\u001b[32m[I 2023-02-19 09:13:21,527]\u001b[0m Trial 55 finished with value: 25.372595988846626 and parameters: {'regressor': 'LinearREgression', 'criterion': 'poisson', 'splitter': 'best', 'depth': 120, 'max_leaf': 80, 'max_features': 'sqrt'}. Best is trial 54 with value: 16.716739544311302.\u001b[0m\n"
          ]
        },
        {
          "output_type": "stream",
          "name": "stdout",
          "text": [
            "[09:13:21] WARNING: /workspace/src/objective/regression_obj.cu:152: reg:linear is now deprecated in favor of reg:squarederror.\n"
          ]
        },
        {
          "output_type": "stream",
          "name": "stderr",
          "text": [
            "\u001b[32m[I 2023-02-19 09:13:33,262]\u001b[0m Trial 56 finished with value: 16.670801813663648 and parameters: {'regressor': 'XGBoost', 'n_estimators': 399, 'max_depth': 3, 'reg_alpha': 1.8081540523976583, 'reg_lambda': 1.8112318811716195, 'min_child_weight': 4, 'gamma': 1.859205818892936, 'learning_rate': 0.08561088291722198, 'colsample_bytree': 0.7625555710635438, 'subsample': 0.4890181930093829}. Best is trial 56 with value: 16.670801813663648.\u001b[0m\n",
            "\u001b[32m[I 2023-02-19 09:13:47,252]\u001b[0m Trial 57 finished with value: 20.419657351836978 and parameters: {'regressor': 'RandomForest', 'n_estimators': 351, 'depth': 3, 'max_feature': 'auto', 'max_leaf': 4, 'min_samp': 3, 'bootstrap': False}. Best is trial 56 with value: 16.670801813663648.\u001b[0m\n"
          ]
        },
        {
          "output_type": "stream",
          "name": "stdout",
          "text": [
            "[09:13:47] WARNING: /workspace/src/objective/regression_obj.cu:152: reg:linear is now deprecated in favor of reg:squarederror.\n"
          ]
        },
        {
          "output_type": "stream",
          "name": "stderr",
          "text": [
            "\u001b[32m[I 2023-02-19 09:13:58,595]\u001b[0m Trial 58 finished with value: 16.755149386477246 and parameters: {'regressor': 'XGBoost', 'n_estimators': 399, 'max_depth': 3, 'reg_alpha': 1.9729938058644574, 'reg_lambda': 1.8540877587055649, 'min_child_weight': 3, 'gamma': 1.8610683833928294, 'learning_rate': 0.08024186892676015, 'colsample_bytree': 0.7545273871618168, 'subsample': 0.4589376552425908}. Best is trial 56 with value: 16.670801813663648.\u001b[0m\n",
            "\u001b[32m[I 2023-02-19 09:13:58,704]\u001b[0m Trial 59 finished with value: 20.765452329505585 and parameters: {'regressor': 'DT', 'criterion': 'squared_error', 'splitter': 'random', 'depth': 175, 'max_leaf': 25, 'max_features': 'auto'}. Best is trial 56 with value: 16.670801813663648.\u001b[0m\n"
          ]
        },
        {
          "output_type": "stream",
          "name": "stdout",
          "text": [
            "[09:13:58] WARNING: /workspace/src/objective/regression_obj.cu:152: reg:linear is now deprecated in favor of reg:squarederror.\n"
          ]
        },
        {
          "output_type": "stream",
          "name": "stderr",
          "text": [
            "\u001b[32m[I 2023-02-19 09:14:07,031]\u001b[0m Trial 60 finished with value: 16.71766936727185 and parameters: {'regressor': 'XGBoost', 'n_estimators': 262, 'max_depth': 3, 'reg_alpha': 1.9730072021841238, 'reg_lambda': 1.827107022524683, 'min_child_weight': 3, 'gamma': 1.7550467453433545, 'learning_rate': 0.07771005405421529, 'colsample_bytree': 0.7721760966746627, 'subsample': 0.4747671042454069}. Best is trial 56 with value: 16.670801813663648.\u001b[0m\n"
          ]
        },
        {
          "output_type": "stream",
          "name": "stdout",
          "text": [
            "[09:14:07] WARNING: /workspace/src/objective/regression_obj.cu:152: reg:linear is now deprecated in favor of reg:squarederror.\n"
          ]
        },
        {
          "output_type": "stream",
          "name": "stderr",
          "text": [
            "\u001b[32m[I 2023-02-19 09:14:12,911]\u001b[0m Trial 61 finished with value: 16.792161169117673 and parameters: {'regressor': 'XGBoost', 'n_estimators': 243, 'max_depth': 3, 'reg_alpha': 1.9310482703880953, 'reg_lambda': 1.8452252120343866, 'min_child_weight': 3, 'gamma': 1.8247387322157456, 'learning_rate': 0.07406250031395765, 'colsample_bytree': 0.7600975435577791, 'subsample': 0.4789544016138693}. Best is trial 56 with value: 16.670801813663648.\u001b[0m\n"
          ]
        },
        {
          "output_type": "stream",
          "name": "stdout",
          "text": [
            "[09:14:12] WARNING: /workspace/src/objective/regression_obj.cu:152: reg:linear is now deprecated in favor of reg:squarederror.\n"
          ]
        },
        {
          "output_type": "stream",
          "name": "stderr",
          "text": [
            "\u001b[32m[I 2023-02-19 09:14:24,191]\u001b[0m Trial 62 finished with value: 16.65013129354309 and parameters: {'regressor': 'XGBoost', 'n_estimators': 391, 'max_depth': 3, 'reg_alpha': 2.1648829369594624, 'reg_lambda': 1.9993280127897994, 'min_child_weight': 3, 'gamma': 1.4954777396010623, 'learning_rate': 0.07881442036949643, 'colsample_bytree': 0.7921157822731836, 'subsample': 0.4510669643390843}. Best is trial 62 with value: 16.65013129354309.\u001b[0m\n"
          ]
        },
        {
          "output_type": "stream",
          "name": "stdout",
          "text": [
            "[09:14:24] WARNING: /workspace/src/objective/regression_obj.cu:152: reg:linear is now deprecated in favor of reg:squarederror.\n"
          ]
        },
        {
          "output_type": "stream",
          "name": "stderr",
          "text": [
            "\u001b[32m[I 2023-02-19 09:14:33,283]\u001b[0m Trial 63 finished with value: 16.660462353102105 and parameters: {'regressor': 'XGBoost', 'n_estimators': 286, 'max_depth': 3, 'reg_alpha': 2.4595132669010735, 'reg_lambda': 1.9859459153220957, 'min_child_weight': 4, 'gamma': 1.6026780898528195, 'learning_rate': 0.08185833029987236, 'colsample_bytree': 0.8128470404875507, 'subsample': 0.4415266296249939}. Best is trial 62 with value: 16.65013129354309.\u001b[0m\n"
          ]
        },
        {
          "output_type": "stream",
          "name": "stdout",
          "text": [
            "[09:14:33] WARNING: /workspace/src/objective/regression_obj.cu:152: reg:linear is now deprecated in favor of reg:squarederror.\n"
          ]
        },
        {
          "output_type": "stream",
          "name": "stderr",
          "text": [
            "\u001b[32m[I 2023-02-19 09:14:39,416]\u001b[0m Trial 64 finished with value: 16.674648128664163 and parameters: {'regressor': 'XGBoost', 'n_estimators': 253, 'max_depth': 3, 'reg_alpha': 2.206214559395669, 'reg_lambda': 1.9882982947442451, 'min_child_weight': 4, 'gamma': 1.474079724202396, 'learning_rate': 0.07856989461388707, 'colsample_bytree': 0.8007801489302637, 'subsample': 0.43054529700537114}. Best is trial 62 with value: 16.65013129354309.\u001b[0m\n"
          ]
        },
        {
          "output_type": "stream",
          "name": "stdout",
          "text": [
            "[09:14:39] WARNING: /workspace/src/objective/regression_obj.cu:152: reg:linear is now deprecated in favor of reg:squarederror.\n"
          ]
        },
        {
          "output_type": "stream",
          "name": "stderr",
          "text": [
            "\u001b[32m[I 2023-02-19 09:14:47,360]\u001b[0m Trial 65 finished with value: 16.69315939154259 and parameters: {'regressor': 'XGBoost', 'n_estimators': 252, 'max_depth': 3, 'reg_alpha': 2.4123865859217206, 'reg_lambda': 1.9871090762456904, 'min_child_weight': 4, 'gamma': 1.5697239378153542, 'learning_rate': 0.07087586789498987, 'colsample_bytree': 0.8024644022594813, 'subsample': 0.4335708141468142}. Best is trial 62 with value: 16.65013129354309.\u001b[0m\n"
          ]
        },
        {
          "output_type": "stream",
          "name": "stdout",
          "text": [
            "[09:14:47] WARNING: /workspace/src/objective/regression_obj.cu:152: reg:linear is now deprecated in favor of reg:squarederror.\n"
          ]
        },
        {
          "output_type": "stream",
          "name": "stderr",
          "text": [
            "\u001b[32m[I 2023-02-19 09:14:53,104]\u001b[0m Trial 66 finished with value: 16.671519110523512 and parameters: {'regressor': 'XGBoost', 'n_estimators': 234, 'max_depth': 3, 'reg_alpha': 2.4752846367089463, 'reg_lambda': 1.992079685870412, 'min_child_weight': 4, 'gamma': 1.481530962799982, 'learning_rate': 0.07373170399162683, 'colsample_bytree': 0.7975027776487339, 'subsample': 0.5030704618023583}. Best is trial 62 with value: 16.65013129354309.\u001b[0m\n"
          ]
        },
        {
          "output_type": "stream",
          "name": "stdout",
          "text": [
            "[09:14:53] WARNING: /workspace/src/objective/regression_obj.cu:152: reg:linear is now deprecated in favor of reg:squarederror.\n"
          ]
        },
        {
          "output_type": "stream",
          "name": "stderr",
          "text": [
            "\u001b[32m[I 2023-02-19 09:15:00,411]\u001b[0m Trial 67 finished with value: 16.784748350291387 and parameters: {'regressor': 'XGBoost', 'n_estimators': 218, 'max_depth': 3, 'reg_alpha': 2.488490989138125, 'reg_lambda': 1.980834331823922, 'min_child_weight': 4, 'gamma': 1.4450678984875651, 'learning_rate': 0.05060734485857982, 'colsample_bytree': 0.8035756924457165, 'subsample': 0.5017692248203409}. Best is trial 62 with value: 16.65013129354309.\u001b[0m\n",
            "\u001b[32m[I 2023-02-19 09:15:18,397]\u001b[0m Trial 68 finished with value: 24.074098751578063 and parameters: {'regressor': 'LinearREgression', 'criterion': 'absolute_error', 'splitter': 'best', 'depth': 40, 'max_leaf': 31, 'max_features': 'log2'}. Best is trial 62 with value: 16.65013129354309.\u001b[0m\n"
          ]
        },
        {
          "output_type": "stream",
          "name": "stdout",
          "text": [
            "[09:15:18] WARNING: /workspace/src/objective/regression_obj.cu:152: reg:linear is now deprecated in favor of reg:squarederror.\n"
          ]
        },
        {
          "output_type": "stream",
          "name": "stderr",
          "text": [
            "\u001b[32m[I 2023-02-19 09:15:27,300]\u001b[0m Trial 69 finished with value: 16.659217467397003 and parameters: {'regressor': 'XGBoost', 'n_estimators': 286, 'max_depth': 3, 'reg_alpha': 2.4357299521697504, 'reg_lambda': 1.9795749856495117, 'min_child_weight': 5, 'gamma': 1.4406740029349498, 'learning_rate': 0.07703090678844038, 'colsample_bytree': 0.8044835170261271, 'subsample': 0.5077113947595886}. Best is trial 62 with value: 16.65013129354309.\u001b[0m\n",
            "\u001b[32m[I 2023-02-19 09:15:43,842]\u001b[0m Trial 70 finished with value: 25.298091023859016 and parameters: {'regressor': 'KNR', 'n_neighbors': 11, 'weights': 'uniform', 'metric': 'manhattan'}. Best is trial 62 with value: 16.65013129354309.\u001b[0m\n"
          ]
        },
        {
          "output_type": "stream",
          "name": "stdout",
          "text": [
            "[09:15:43] WARNING: /workspace/src/objective/regression_obj.cu:152: reg:linear is now deprecated in favor of reg:squarederror.\n"
          ]
        },
        {
          "output_type": "stream",
          "name": "stderr",
          "text": [
            "\u001b[32m[I 2023-02-19 09:15:52,866]\u001b[0m Trial 71 finished with value: 16.654174040570837 and parameters: {'regressor': 'XGBoost', 'n_estimators': 291, 'max_depth': 3, 'reg_alpha': 2.615344259861842, 'reg_lambda': 1.986121252017972, 'min_child_weight': 5, 'gamma': 1.4720565895237117, 'learning_rate': 0.07227676436057685, 'colsample_bytree': 0.8021838290998371, 'subsample': 0.5025116894635678}. Best is trial 62 with value: 16.65013129354309.\u001b[0m\n"
          ]
        },
        {
          "output_type": "stream",
          "name": "stdout",
          "text": [
            "[09:15:52] WARNING: /workspace/src/objective/regression_obj.cu:152: reg:linear is now deprecated in favor of reg:squarederror.\n"
          ]
        },
        {
          "output_type": "stream",
          "name": "stderr",
          "text": [
            "\u001b[32m[I 2023-02-19 09:16:01,970]\u001b[0m Trial 72 finished with value: 16.609988214859605 and parameters: {'regressor': 'XGBoost', 'n_estimators': 296, 'max_depth': 3, 'reg_alpha': 2.5384950984473558, 'reg_lambda': 1.9999466942331667, 'min_child_weight': 5, 'gamma': 1.448848476547896, 'learning_rate': 0.07118650902635992, 'colsample_bytree': 0.8057593921210475, 'subsample': 0.5055536678804478}. Best is trial 72 with value: 16.609988214859605.\u001b[0m\n"
          ]
        },
        {
          "output_type": "stream",
          "name": "stdout",
          "text": [
            "[09:16:02] WARNING: /workspace/src/objective/regression_obj.cu:152: reg:linear is now deprecated in favor of reg:squarederror.\n"
          ]
        },
        {
          "output_type": "stream",
          "name": "stderr",
          "text": [
            "\u001b[32m[I 2023-02-19 09:16:11,026]\u001b[0m Trial 73 finished with value: 16.67792087137022 and parameters: {'regressor': 'XGBoost', 'n_estimators': 308, 'max_depth': 3, 'reg_alpha': 2.6296330395360483, 'reg_lambda': 1.9359613943861798, 'min_child_weight': 5, 'gamma': 1.3495147046500042, 'learning_rate': 0.05011181056277597, 'colsample_bytree': 0.8275900165566, 'subsample': 0.5145608163330396}. Best is trial 72 with value: 16.609988214859605.\u001b[0m\n"
          ]
        },
        {
          "output_type": "stream",
          "name": "stdout",
          "text": [
            "[09:16:11] WARNING: /workspace/src/objective/regression_obj.cu:152: reg:linear is now deprecated in favor of reg:squarederror.\n"
          ]
        },
        {
          "output_type": "stream",
          "name": "stderr",
          "text": [
            "\u001b[32m[I 2023-02-19 09:16:19,098]\u001b[0m Trial 74 finished with value: 16.690878064523055 and parameters: {'regressor': 'XGBoost', 'n_estimators': 286, 'max_depth': 3, 'reg_alpha': 2.866385128985679, 'reg_lambda': 1.9065090038947359, 'min_child_weight': 5, 'gamma': 1.2352465679446316, 'learning_rate': 0.06891420696964004, 'colsample_bytree': 0.8382886916854906, 'subsample': 0.5527096624626339}. Best is trial 72 with value: 16.609988214859605.\u001b[0m\n"
          ]
        },
        {
          "output_type": "stream",
          "name": "stdout",
          "text": [
            "[09:16:19] WARNING: /workspace/src/objective/regression_obj.cu:152: reg:linear is now deprecated in favor of reg:squarederror.\n"
          ]
        },
        {
          "output_type": "stream",
          "name": "stderr",
          "text": [
            "\u001b[32m[I 2023-02-19 09:16:26,601]\u001b[0m Trial 75 finished with value: 16.612796452758122 and parameters: {'regressor': 'XGBoost', 'n_estimators': 227, 'max_depth': 3, 'reg_alpha': 2.293864228269154, 'reg_lambda': 1.993748857477744, 'min_child_weight': 5, 'gamma': 1.2532814166966615, 'learning_rate': 0.07102617969341452, 'colsample_bytree': 0.794423313494031, 'subsample': 0.5072423002604445}. Best is trial 72 with value: 16.609988214859605.\u001b[0m\n"
          ]
        },
        {
          "output_type": "stream",
          "name": "stdout",
          "text": [
            "[09:16:26] WARNING: /workspace/src/objective/regression_obj.cu:152: reg:linear is now deprecated in favor of reg:squarederror.\n"
          ]
        },
        {
          "output_type": "stream",
          "name": "stderr",
          "text": [
            "\u001b[32m[I 2023-02-19 09:16:37,203]\u001b[0m Trial 76 finished with value: 16.990993368657413 and parameters: {'regressor': 'XGBoost', 'n_estimators': 220, 'max_depth': 5, 'reg_alpha': 2.269938308530428, 'reg_lambda': 1.8952377663101732, 'min_child_weight': 5, 'gamma': 1.2278117845366523, 'learning_rate': 0.06486873487990136, 'colsample_bytree': 0.7945122700978262, 'subsample': 0.5120467173140504}. Best is trial 72 with value: 16.609988214859605.\u001b[0m\n",
            "\u001b[32m[I 2023-02-19 09:16:52,271]\u001b[0m Trial 77 finished with value: 19.61080576936242 and parameters: {'regressor': 'RandomForest', 'n_estimators': 291, 'depth': 4, 'max_feature': 'auto', 'max_leaf': 4, 'min_samp': 4, 'bootstrap': False}. Best is trial 72 with value: 16.609988214859605.\u001b[0m\n"
          ]
        },
        {
          "output_type": "stream",
          "name": "stdout",
          "text": [
            "[09:16:52] WARNING: /workspace/src/objective/regression_obj.cu:152: reg:linear is now deprecated in favor of reg:squarederror.\n"
          ]
        },
        {
          "output_type": "stream",
          "name": "stderr",
          "text": [
            "\u001b[32m[I 2023-02-19 09:16:57,530]\u001b[0m Trial 78 finished with value: 16.827237337764977 and parameters: {'regressor': 'XGBoost', 'n_estimators': 174, 'max_depth': 3, 'reg_alpha': 2.8705398926281105, 'reg_lambda': 1.997500412502297, 'min_child_weight': 5, 'gamma': 1.083063723907791, 'learning_rate': 0.06910403164100944, 'colsample_bytree': 0.8365076992552759, 'subsample': 0.5479365417673386}. Best is trial 72 with value: 16.609988214859605.\u001b[0m\n",
            "\u001b[32m[I 2023-02-19 09:17:48,721]\u001b[0m Trial 79 finished with value: 23.619266376770934 and parameters: {'regressor': 'DT', 'criterion': 'absolute_error', 'splitter': 'random', 'depth': 105, 'max_leaf': 19, 'max_features': 'auto'}. Best is trial 72 with value: 16.609988214859605.\u001b[0m\n"
          ]
        },
        {
          "output_type": "stream",
          "name": "stdout",
          "text": [
            "[09:17:48] WARNING: /workspace/src/objective/regression_obj.cu:152: reg:linear is now deprecated in favor of reg:squarederror.\n"
          ]
        },
        {
          "output_type": "stream",
          "name": "stderr",
          "text": [
            "\u001b[32m[I 2023-02-19 09:17:58,856]\u001b[0m Trial 80 finished with value: 16.83129436007588 and parameters: {'regressor': 'XGBoost', 'n_estimators': 333, 'max_depth': 3, 'reg_alpha': 2.698031549970688, 'reg_lambda': 1.9015005962901943, 'min_child_weight': 5, 'gamma': 1.6702419172399903, 'learning_rate': 0.12782757391197377, 'colsample_bytree': 0.7728795285743825, 'subsample': 0.5040374106002308}. Best is trial 72 with value: 16.609988214859605.\u001b[0m\n"
          ]
        },
        {
          "output_type": "stream",
          "name": "stdout",
          "text": [
            "[09:17:58] WARNING: /workspace/src/objective/regression_obj.cu:152: reg:linear is now deprecated in favor of reg:squarederror.\n"
          ]
        },
        {
          "output_type": "stream",
          "name": "stderr",
          "text": [
            "\u001b[32m[I 2023-02-19 09:18:04,687]\u001b[0m Trial 81 finished with value: 16.79135557130002 and parameters: {'regressor': 'XGBoost', 'n_estimators': 223, 'max_depth': 3, 'reg_alpha': 2.2264468283689136, 'reg_lambda': 1.9898032962202308, 'min_child_weight': 4, 'gamma': 1.5438486323612453, 'learning_rate': 0.08172844467080871, 'colsample_bytree': 0.8142875631231278, 'subsample': 0.5353147181918048}. Best is trial 72 with value: 16.609988214859605.\u001b[0m\n"
          ]
        },
        {
          "output_type": "stream",
          "name": "stdout",
          "text": [
            "[09:18:04] WARNING: /workspace/src/objective/regression_obj.cu:152: reg:linear is now deprecated in favor of reg:squarederror.\n"
          ]
        },
        {
          "output_type": "stream",
          "name": "stderr",
          "text": [
            "\u001b[32m[I 2023-02-19 09:18:11,352]\u001b[0m Trial 82 finished with value: 16.837832627582056 and parameters: {'regressor': 'XGBoost', 'n_estimators': 194, 'max_depth': 3, 'reg_alpha': 2.2225964342018227, 'reg_lambda': 1.8939163978639522, 'min_child_weight': 5, 'gamma': 1.4435963447199884, 'learning_rate': 0.05446833584555592, 'colsample_bytree': 0.7775098476694197, 'subsample': 0.4507701527393798}. Best is trial 72 with value: 16.609988214859605.\u001b[0m\n"
          ]
        },
        {
          "output_type": "stream",
          "name": "stdout",
          "text": [
            "[09:18:11] WARNING: /workspace/src/objective/regression_obj.cu:152: reg:linear is now deprecated in favor of reg:squarederror.\n"
          ]
        },
        {
          "output_type": "stream",
          "name": "stderr",
          "text": [
            "\u001b[32m[I 2023-02-19 09:18:19,581]\u001b[0m Trial 83 finished with value: 16.757371452182788 and parameters: {'regressor': 'XGBoost', 'n_estimators': 288, 'max_depth': 3, 'reg_alpha': 3.1005651297250933, 'reg_lambda': 1.9134624653191916, 'min_child_weight': 4, 'gamma': 1.6598673111322975, 'learning_rate': 0.0787923665849221, 'colsample_bytree': 0.7895872300605328, 'subsample': 0.5005180130693687}. Best is trial 72 with value: 16.609988214859605.\u001b[0m\n"
          ]
        },
        {
          "output_type": "stream",
          "name": "stdout",
          "text": [
            "[09:18:19] WARNING: /workspace/src/objective/regression_obj.cu:152: reg:linear is now deprecated in favor of reg:squarederror.\n"
          ]
        },
        {
          "output_type": "stream",
          "name": "stderr",
          "text": [
            "\u001b[32m[I 2023-02-19 09:18:26,295]\u001b[0m Trial 84 finished with value: 16.612750677461126 and parameters: {'regressor': 'XGBoost', 'n_estimators': 238, 'max_depth': 3, 'reg_alpha': 2.547622977270642, 'reg_lambda': 1.9984241689383746, 'min_child_weight': 5, 'gamma': 1.002627524069841, 'learning_rate': 0.12443008580901496, 'colsample_bytree': 0.8492396933462315, 'subsample': 0.46192757516995925}. Best is trial 72 with value: 16.609988214859605.\u001b[0m\n"
          ]
        },
        {
          "output_type": "stream",
          "name": "stdout",
          "text": [
            "[09:18:26] WARNING: /workspace/src/objective/regression_obj.cu:152: reg:linear is now deprecated in favor of reg:squarederror.\n"
          ]
        },
        {
          "output_type": "stream",
          "name": "stderr",
          "text": [
            "\u001b[32m[I 2023-02-19 09:18:34,132]\u001b[0m Trial 85 finished with value: 16.757773419285343 and parameters: {'regressor': 'XGBoost', 'n_estimators': 233, 'max_depth': 3, 'reg_alpha': 2.524834923488696, 'reg_lambda': 1.8829612228787822, 'min_child_weight': 5, 'gamma': 1.1203580857093245, 'learning_rate': 0.127758582721554, 'colsample_bytree': 0.8554562329783569, 'subsample': 0.4680863159273554}. Best is trial 72 with value: 16.609988214859605.\u001b[0m\n"
          ]
        },
        {
          "output_type": "stream",
          "name": "stdout",
          "text": [
            "[09:18:34] WARNING: /workspace/src/objective/regression_obj.cu:152: reg:linear is now deprecated in favor of reg:squarederror.\n"
          ]
        },
        {
          "output_type": "stream",
          "name": "stderr",
          "text": [
            "\u001b[32m[I 2023-02-19 09:18:41,162]\u001b[0m Trial 86 finished with value: 16.66149292281139 and parameters: {'regressor': 'XGBoost', 'n_estimators': 271, 'max_depth': 3, 'reg_alpha': 2.723484452474394, 'reg_lambda': 1.9143010589265232, 'min_child_weight': 5, 'gamma': 0.9903390958478276, 'learning_rate': 0.06259158309077437, 'colsample_bytree': 0.8192432870986502, 'subsample': 0.5245981525393804}. Best is trial 72 with value: 16.609988214859605.\u001b[0m\n"
          ]
        },
        {
          "output_type": "stream",
          "name": "stdout",
          "text": [
            "[09:18:41] WARNING: /workspace/src/objective/regression_obj.cu:152: reg:linear is now deprecated in favor of reg:squarederror.\n"
          ]
        },
        {
          "output_type": "stream",
          "name": "stderr",
          "text": [
            "\u001b[32m[I 2023-02-19 09:18:49,928]\u001b[0m Trial 87 finished with value: 16.61934851449642 and parameters: {'regressor': 'XGBoost', 'n_estimators': 271, 'max_depth': 3, 'reg_alpha': 2.763352703075843, 'reg_lambda': 1.8406404348089942, 'min_child_weight': 5, 'gamma': 0.9331839181889684, 'learning_rate': 0.05244243286829696, 'colsample_bytree': 0.8205452543409923, 'subsample': 0.5660782340506489}. Best is trial 72 with value: 16.609988214859605.\u001b[0m\n"
          ]
        },
        {
          "output_type": "stream",
          "name": "stdout",
          "text": [
            "[09:18:50] WARNING: /workspace/src/objective/regression_obj.cu:152: reg:linear is now deprecated in favor of reg:squarederror.\n"
          ]
        },
        {
          "output_type": "stream",
          "name": "stderr",
          "text": [
            "\u001b[32m[I 2023-02-19 09:18:59,680]\u001b[0m Trial 88 finished with value: 16.72077661611402 and parameters: {'regressor': 'XGBoost', 'n_estimators': 301, 'max_depth': 3, 'reg_alpha': 3.113547793128474, 'reg_lambda': 1.9019507977286019, 'min_child_weight': 5, 'gamma': 0.9121176933242279, 'learning_rate': 0.053440447221970826, 'colsample_bytree': 0.8594120885641707, 'subsample': 0.5237498204698103}. Best is trial 72 with value: 16.609988214859605.\u001b[0m\n",
            "\u001b[32m[I 2023-02-19 09:19:08,467]\u001b[0m Trial 89 finished with value: 25.056224602517553 and parameters: {'regressor': 'KNR', 'n_neighbors': 22, 'weights': 'distance', 'metric': 'euclidean'}. Best is trial 72 with value: 16.609988214859605.\u001b[0m\n"
          ]
        },
        {
          "output_type": "stream",
          "name": "stdout",
          "text": [
            "[09:19:08] WARNING: /workspace/src/objective/regression_obj.cu:152: reg:linear is now deprecated in favor of reg:squarederror.\n"
          ]
        },
        {
          "output_type": "stream",
          "name": "stderr",
          "text": [
            "\u001b[32m[I 2023-02-19 09:19:17,152]\u001b[0m Trial 90 finished with value: 16.68190223221893 and parameters: {'regressor': 'XGBoost', 'n_estimators': 273, 'max_depth': 3, 'reg_alpha': 2.7250033423424687, 'reg_lambda': 1.9288463839091656, 'min_child_weight': 5, 'gamma': 0.9995135743877035, 'learning_rate': 0.05024601423869237, 'colsample_bytree': 0.8201074445248018, 'subsample': 0.560551223227011}. Best is trial 72 with value: 16.609988214859605.\u001b[0m\n"
          ]
        },
        {
          "output_type": "stream",
          "name": "stdout",
          "text": [
            "[09:19:17] WARNING: /workspace/src/objective/regression_obj.cu:152: reg:linear is now deprecated in favor of reg:squarederror.\n"
          ]
        },
        {
          "output_type": "stream",
          "name": "stderr",
          "text": [
            "\u001b[32m[I 2023-02-19 09:19:27,504]\u001b[0m Trial 91 finished with value: 16.729422420384523 and parameters: {'regressor': 'XGBoost', 'n_estimators': 326, 'max_depth': 3, 'reg_alpha': 2.8312746318884203, 'reg_lambda': 1.839019520257087, 'min_child_weight': 5, 'gamma': 0.8486903932710071, 'learning_rate': 0.11157530466618121, 'colsample_bytree': 0.8203523283773663, 'subsample': 0.5262999716595885}. Best is trial 72 with value: 16.609988214859605.\u001b[0m\n"
          ]
        },
        {
          "output_type": "stream",
          "name": "stdout",
          "text": [
            "[09:19:27] WARNING: /workspace/src/objective/regression_obj.cu:152: reg:linear is now deprecated in favor of reg:squarederror.\n"
          ]
        },
        {
          "output_type": "stream",
          "name": "stderr",
          "text": [
            "\u001b[32m[I 2023-02-19 09:19:36,343]\u001b[0m Trial 92 finished with value: 16.646072661129217 and parameters: {'regressor': 'XGBoost', 'n_estimators': 271, 'max_depth': 3, 'reg_alpha': 2.6295412537319027, 'reg_lambda': 1.7901676307586414, 'min_child_weight': 5, 'gamma': 0.7189210290713671, 'learning_rate': 0.06496553697645056, 'colsample_bytree': 0.8452457992263294, 'subsample': 0.5763386820134547}. Best is trial 72 with value: 16.609988214859605.\u001b[0m\n"
          ]
        },
        {
          "output_type": "stream",
          "name": "stdout",
          "text": [
            "[09:19:36] WARNING: /workspace/src/objective/regression_obj.cu:152: reg:linear is now deprecated in favor of reg:squarederror.\n"
          ]
        },
        {
          "output_type": "stream",
          "name": "stderr",
          "text": [
            "\u001b[32m[I 2023-02-19 09:19:43,280]\u001b[0m Trial 93 finished with value: 16.65275114832394 and parameters: {'regressor': 'XGBoost', 'n_estimators': 265, 'max_depth': 3, 'reg_alpha': 2.652477779422055, 'reg_lambda': 1.7588716976643937, 'min_child_weight': 5, 'gamma': 0.7307568031780198, 'learning_rate': 0.06685033047521939, 'colsample_bytree': 0.8766343532154471, 'subsample': 0.5938265989410297}. Best is trial 72 with value: 16.609988214859605.\u001b[0m\n"
          ]
        },
        {
          "output_type": "stream",
          "name": "stdout",
          "text": [
            "[09:19:43] WARNING: /workspace/src/objective/regression_obj.cu:152: reg:linear is now deprecated in favor of reg:squarederror.\n"
          ]
        },
        {
          "output_type": "stream",
          "name": "stderr",
          "text": [
            "\u001b[32m[I 2023-02-19 09:19:51,551]\u001b[0m Trial 94 finished with value: 16.885550268469927 and parameters: {'regressor': 'XGBoost', 'n_estimators': 192, 'max_depth': 4, 'reg_alpha': 2.4146909552822025, 'reg_lambda': 1.79567743293786, 'min_child_weight': 5, 'gamma': 0.7613656878423483, 'learning_rate': 0.0997428982277408, 'colsample_bytree': 0.8791618008918012, 'subsample': 0.5959622818251051}. Best is trial 72 with value: 16.609988214859605.\u001b[0m\n"
          ]
        },
        {
          "output_type": "stream",
          "name": "stdout",
          "text": [
            "[09:19:51] WARNING: /workspace/src/objective/regression_obj.cu:152: reg:linear is now deprecated in favor of reg:squarederror.\n"
          ]
        },
        {
          "output_type": "stream",
          "name": "stderr",
          "text": [
            "\u001b[32m[I 2023-02-19 09:19:54,960]\u001b[0m Trial 95 finished with value: 17.006793184958628 and parameters: {'regressor': 'XGBoost', 'n_estimators': 130, 'max_depth': 3, 'reg_alpha': 3.0689235317007673, 'reg_lambda': 1.7271931038290684, 'min_child_weight': 5, 'gamma': 0.678703505392593, 'learning_rate': 0.06228725676529523, 'colsample_bytree': 0.8371200567428793, 'subsample': 0.5713114668700061}. Best is trial 72 with value: 16.609988214859605.\u001b[0m\n",
            "\u001b[32m[I 2023-02-19 09:19:55,030]\u001b[0m Trial 96 finished with value: 21.284797794660623 and parameters: {'regressor': 'LinearREgression', 'criterion': 'squared_error', 'splitter': 'best', 'depth': 65, 'max_leaf': 58, 'max_features': 'log2'}. Best is trial 72 with value: 16.609988214859605.\u001b[0m\n"
          ]
        },
        {
          "output_type": "stream",
          "name": "stdout",
          "text": [
            "[09:19:55] WARNING: /workspace/src/objective/regression_obj.cu:152: reg:linear is now deprecated in favor of reg:squarederror.\n"
          ]
        },
        {
          "output_type": "stream",
          "name": "stderr",
          "text": [
            "\u001b[32m[I 2023-02-19 09:20:02,220]\u001b[0m Trial 97 finished with value: 16.670790583610135 and parameters: {'regressor': 'XGBoost', 'n_estimators': 203, 'max_depth': 3, 'reg_alpha': 3.326053662976006, 'reg_lambda': 1.933275946079181, 'min_child_weight': 5, 'gamma': 1.3163764402846718, 'learning_rate': 0.09303737748597644, 'colsample_bytree': 0.8988019241620967, 'subsample': 0.5764960793736602}. Best is trial 72 with value: 16.609988214859605.\u001b[0m\n"
          ]
        },
        {
          "output_type": "stream",
          "name": "stdout",
          "text": [
            "[09:20:02] WARNING: /workspace/src/objective/regression_obj.cu:152: reg:linear is now deprecated in favor of reg:squarederror.\n"
          ]
        },
        {
          "output_type": "stream",
          "name": "stderr",
          "text": [
            "\u001b[32m[I 2023-02-19 09:20:09,065]\u001b[0m Trial 98 finished with value: 16.642004745339992 and parameters: {'regressor': 'XGBoost', 'n_estimators': 262, 'max_depth': 3, 'reg_alpha': 2.630601905158551, 'reg_lambda': 1.855792217454216, 'min_child_weight': 5, 'gamma': 0.6563192536405731, 'learning_rate': 0.0652197786817878, 'colsample_bytree': 0.8474628622916135, 'subsample': 0.5379375707527307}. Best is trial 72 with value: 16.609988214859605.\u001b[0m\n",
            "\u001b[32m[I 2023-02-19 09:20:12,100]\u001b[0m Trial 99 finished with value: 20.064282504215672 and parameters: {'regressor': 'RandomForest', 'n_estimators': 264, 'depth': 4, 'max_feature': 'sqrt', 'max_leaf': 5, 'min_samp': 2, 'bootstrap': True}. Best is trial 72 with value: 16.609988214859605.\u001b[0m\n"
          ]
        },
        {
          "output_type": "stream",
          "name": "stdout",
          "text": [
            "CPU times: user 23min 53s, sys: 25.2 s, total: 24min 18s\n",
            "Wall time: 15min 44s\n"
          ]
        }
      ],
      "source": [
        "%%time\n",
        "\n",
        "study = optuna.create_study(study_name=\"Model\",direction=\"minimize\",sampler=TPESampler())\n",
        "study.optimize(objective, n_trials=100)"
      ]
    },
    {
      "cell_type": "markdown",
      "metadata": {
        "id": "ZuvwtA9a5CWk"
      },
      "source": [
        "Print the best Parameter and Value"
      ]
    },
    {
      "cell_type": "code",
      "execution_count": 36,
      "metadata": {
        "id": "df1eO3UV5CWl",
        "outputId": "5b46ac57-479a-4da2-c084-917d2af6f71d",
        "colab": {
          "base_uri": "https://localhost:8080/"
        }
      },
      "outputs": [
        {
          "output_type": "stream",
          "name": "stdout",
          "text": [
            "Best Params : {'regressor': 'XGBoost', 'n_estimators': 296, 'max_depth': 3, 'reg_alpha': 2.5384950984473558, 'reg_lambda': 1.9999466942331667, 'min_child_weight': 5, 'gamma': 1.448848476547896, 'learning_rate': 0.07118650902635992, 'colsample_bytree': 0.8057593921210475, 'subsample': 0.5055536678804478}\n",
            "\n",
            "Best MAE : 16.609988214859605\n"
          ]
        }
      ],
      "source": [
        "print(\"Best Params : {}\".format(study.best_params))\n",
        "print(\"\\nBest MAE : {}\".format(study.best_value))\n"
      ]
    },
    {
      "cell_type": "code",
      "execution_count": 37,
      "metadata": {
        "id": "QSwl87Jh5CWl",
        "outputId": "1e6ac5c7-b1dd-47ae-e13a-767886d260b9",
        "colab": {
          "base_uri": "https://localhost:8080/"
        }
      },
      "outputs": [
        {
          "output_type": "execute_result",
          "data": {
            "text/plain": [
              "{'n_estimators': 296,\n",
              " 'max_depth': 3,\n",
              " 'reg_alpha': 2.5384950984473558,\n",
              " 'reg_lambda': 1.9999466942331667,\n",
              " 'min_child_weight': 5,\n",
              " 'gamma': 1.448848476547896,\n",
              " 'learning_rate': 0.07118650902635992,\n",
              " 'colsample_bytree': 0.8057593921210475,\n",
              " 'subsample': 0.5055536678804478}"
            ]
          },
          "metadata": {},
          "execution_count": 37
        }
      ],
      "source": [
        "\n",
        "x=study.best_params\n",
        "x.pop('regressor')\n",
        "x\n"
      ]
    },
    {
      "cell_type": "code",
      "execution_count": 38,
      "metadata": {
        "id": "emFwLq2Y5CWl",
        "outputId": "b272d441-9805-4b00-e64f-ebd5ffcbea3b",
        "colab": {
          "base_uri": "https://localhost:8080/"
        }
      },
      "outputs": [
        {
          "output_type": "execute_result",
          "data": {
            "text/plain": [
              "{'regressor': 'XGBoost',\n",
              " 'n_estimators': 296,\n",
              " 'max_depth': 3,\n",
              " 'reg_alpha': 2.5384950984473558,\n",
              " 'reg_lambda': 1.9999466942331667,\n",
              " 'min_child_weight': 5,\n",
              " 'gamma': 1.448848476547896,\n",
              " 'learning_rate': 0.07118650902635992,\n",
              " 'colsample_bytree': 0.8057593921210475,\n",
              " 'subsample': 0.5055536678804478}"
            ]
          },
          "metadata": {},
          "execution_count": 38
        }
      ],
      "source": [
        "study.best_params\n"
      ]
    },
    {
      "cell_type": "markdown",
      "metadata": {
        "id": "bfgX8llB5CWl"
      },
      "source": [
        "# Train and test the Best Model with the best parameters \n",
        "Here, you could see XGBoost shows better result out of other algorithms used, so lets fit the model with its best paramters."
      ]
    },
    {
      "cell_type": "code",
      "execution_count": 39,
      "metadata": {
        "id": "yph8UzwX5CWl",
        "outputId": "098d8d22-8b5e-4b2d-c575-a6637563f95c",
        "colab": {
          "base_uri": "https://localhost:8080/"
        }
      },
      "outputs": [
        {
          "output_type": "stream",
          "name": "stdout",
          "text": [
            "[09:21:02] WARNING: /workspace/src/objective/regression_obj.cu:152: reg:linear is now deprecated in favor of reg:squarederror.\n",
            "MSE:  485.66800245251795\n",
            "RMSE:  22.03787654136664\n",
            "MAE: 16.609988214859605\n",
            "MSLE 0.02016459011227675\n"
          ]
        }
      ],
      "source": [
        "model = XGBRegressor(**x)\n",
        "model.fit(X_train, y_train)\n",
        "y_pred = model.predict(X_test)\n",
        "\n",
        "print('MSE: ', mean_squared_error(y_test, y_pred))\n",
        "print('RMSE: ', np.sqrt(mean_squared_error(y_test, y_pred)))\n",
        "print('MAE:', mean_absolute_error(y_test, y_pred))\n",
        "print('MSLE',mean_squared_log_error(y_test, y_pred))\n"
      ]
    },
    {
      "cell_type": "markdown",
      "metadata": {
        "id": "9tYsOFw65CWl"
      },
      "source": [
        "Pickle the Model"
      ]
    },
    {
      "cell_type": "code",
      "execution_count": 40,
      "metadata": {
        "id": "rDSSaeL45CWl"
      },
      "outputs": [],
      "source": [
        "import pickle\n",
        "filename = \"ml_model.pkl\"\n",
        "pickle.dump(model, open(filename, \"wb\"))"
      ]
    },
    {
      "cell_type": "code",
      "source": [],
      "metadata": {
        "id": "iV-gY_8s-jxG"
      },
      "execution_count": null,
      "outputs": []
    }
  ],
  "metadata": {
    "colab": {
      "provenance": []
    },
    "kernelspec": {
      "display_name": "Python 3",
      "language": "python",
      "name": "python3"
    },
    "language_info": {
      "codemirror_mode": {
        "name": "ipython",
        "version": 3
      },
      "file_extension": ".py",
      "mimetype": "text/x-python",
      "name": "python",
      "nbconvert_exporter": "python",
      "pygments_lexer": "ipython3",
      "version": "3.10.6 (main, Nov 14 2022, 16:10:14) [GCC 11.3.0]"
    },
    "vscode": {
      "interpreter": {
        "hash": "31f2aee4e71d21fbe5cf8b01ff0e069b9275f58929596ceb00d14d90e3e16cd6"
      }
    }
  },
  "nbformat": 4,
  "nbformat_minor": 0
}